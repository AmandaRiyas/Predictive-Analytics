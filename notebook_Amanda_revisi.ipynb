{
  "nbformat": 4,
  "nbformat_minor": 0,
  "metadata": {
    "colab": {
      "provenance": []
    },
    "kernelspec": {
      "name": "python3",
      "display_name": "Python 3"
    },
    "language_info": {
      "name": "python"
    }
  },
  "cells": [
    {
      "cell_type": "markdown",
      "source": [
        "# Predictive Analytics Project: [Prediksi Harga Tiket Pesawat]\n",
        "- **Nama:** [Amanda Riyas Utami]\n",
        "- **Email:** [amandariyas12@gmail.com]\n",
        "- **ID Dicoding:** [MC223D5X0901]\n",
        "- **Link Dataset:** https://www.kaggle.com/datasets/viveksharmar/flight-price-data"
      ],
      "metadata": {
        "id": "IcmkYkQv82Me"
      }
    },
    {
      "cell_type": "markdown",
      "source": [
        "## Domain Proyek\n",
        "Proyek ini berfokus pada penerapan machine learning untuk memprediksi harga tiket pesawat berdasarkan data historis yang tersedia secara publik. Industri penerbangan merupakan salah satu sektor dengan dinamika harga yang sangat tinggi, sehingga menjadi tantangan menarik dalam pengembangan model prediktif yang andal.\n",
        "Dataset yang digunakan mencakup berbagai fitur seperti maskapai penerbangan, asal dan tujuan, durasi penerbangan, waktu keberangkatan dan kedatangan, serta jumlah transit. Fitur-fitur ini dinilai relevan karena secara logis memiliki pengaruh terhadap fluktuasi harga tiket.\n",
        "Pada penelitian sebelumnya, prediksi harga tiket pesawat menggunakan Logistic Regression, Random Forest, dan Gradient Boosting menunjukkan bahwa Random Forest menghasilkan performa lebih baik dibanding dua model lainnya (Zebua et al., 2022). Berdasarkan hal tersebut, proyek ini mengimplementasikan tiga algoritma regresi K-Nearest Neighbors (KNN), Random Forest, dan Boosting Algorithm karena masing-masing memiliki keunggulan dalam menangani data.\n",
        "Evaluasi performa model dilakukan menggunakan metrik Mean Squared Error (MSE), dan proses tuning dilakukan dengan pendekatan GridSearchCV dan RandomizedSearchCV untuk mengoptimalkan hasil prediksi.\n",
        "Masalah ini harus diselesaikan karena ketidakakuratan prediksi harga tiket berdampak pada strategi bisnis perusahaan dan keputusan pembelian konsumen. Dengan model prediktif yang baik, perusahaan dapat mengoptimalkan penentuan harga dinamis, sementara konsumen dapat membuat keputusan pembelian yang lebih tepat waktu dan ekonomis."
      ],
      "metadata": {
        "id": "Iz8l-nbopYt2"
      }
    },
    {
      "cell_type": "markdown",
      "source": [
        "## Business Understanding\n",
        "Harga tiket pesawat memiliki fluktuasi yang tinggi karena dipengaruhi oleh beberapa faktor seperti maskapai pesawat yang digunakan, lokasi penerbangan, lokasi tujuan, durasi penerbangan, waktu keberangkatan, waktu tiba, dan total transit. Ketidakmampuan perusahaan untuk memprediksi harga secara akurat dapat menghambat pengambilan keputusan strategis seperti penentuan harga. Oleh karena itu, diperlukan model prediktif yang mampu memperkirakan harga tiket pesawat secara tepat berdasarkan pola data historis."
      ],
      "metadata": {
        "id": "eft4RqVOp_gD"
      }
    },
    {
      "cell_type": "markdown",
      "source": [
        "### Problem Statements\n",
        "- Fluktuasi tinggi pada harga tiket pesawat menyulitkan perusahaan dalam menetapkan harga tiket pesawat karena ketidaktepatan dalam memprediksi harga dapat menghambat strategi harga dinamis.\n",
        "- Perusahaan membutuhkan model prediktif berbasis data historis yang dapat membantu memproyeksikan harga tiket pesawat secara akurat."
      ],
      "metadata": {
        "id": "BLVm7OF2qFBs"
      }
    },
    {
      "cell_type": "markdown",
      "source": [
        "### Goals\n",
        "- Mengembangkan model prediksi harga tiket pesawat berdasarkan data historis dan variabel variabel relevan seperti maskapai pesawat yang digunakan, lokasi penerbangan, lokasi tujuan, durasi penerbangan, waktu keberangkatan, waktu tiba, dan total transit.\n",
        "- Membandingkan performa beberapa algoritma machine learning regresi seperti K-Neares Neighbors (KNN), Random Forest, dan Boosting Algorithm untuk mendapat model dengan akurasi terbaik."
      ],
      "metadata": {
        "id": "0mAjpvowqJSC"
      }
    },
    {
      "cell_type": "markdown",
      "source": [
        "## Solution Statements\n",
        "- Menerapkan beberapa pemodelan K-Nearest Neighbor, Random Forest, dan Boosting Algorithm untuk mencari tahu model terbaiknya dengan menambahkan evaluasi performa menggunakan Mean Squared Error (MSE)\n",
        "- Melakuakan hyperparameter tuning menggunakan GridSearchCV dan RandomizedSearchCV\n",
        "- Membandingkan performa dari model K-Nearest Neighbor, Random Forest, dan Boosting Algorithm."
      ],
      "metadata": {
        "id": "Yh7uR3BEqOTt"
      }
    },
    {
      "cell_type": "markdown",
      "source": [
        "### Variabel-variabel pada Flight Price Prediction adalah sebagai berikut:\n",
        "- Airlines: Nama maskapai penerbangan yang mengoperasikan penerbangan tersebut.\n",
        "- Source: Kota tempat penerbangan berangkat.\n",
        "- Destination: Kota tempat mendarat.\n",
        "- Total Stops: Jumlah pemberhentian yang dilakukan oleh penerbangan.\n",
        "- Price: Harga tiket untuk masing-masing penerbangan.\n",
        "- Date : Tanggal dimana penerbangan dijadwalkan.\n",
        "- Month : Bulan dimanapenerbangan dijadwalkan\n",
        "- Year: Tahun dimana penerbangan dijadwalkan.\n",
        "- Dep_hours : Jam keberangkatan pesawat.\n",
        "- Dep_min : Menit pada jam keberangkatan pesawat.\n",
        "- Arrival_hours : Jam penerbangan tiba\n",
        "- Arrival_min : Menit pada jam saat pesawat tiba\n",
        "- Duration_hours : Durasi penerbangan dalam jam.\n",
        "- Duration_min : Durasi penerbangan dalam menit"
      ],
      "metadata": {
        "id": "5yUzUklZqWOS"
      }
    },
    {
      "cell_type": "markdown",
      "source": [
        "## Import Semua Packages/Library yang Digunakan"
      ],
      "metadata": {
        "id": "b7k6ZDma867h"
      }
    },
    {
      "cell_type": "code",
      "execution_count": 233,
      "metadata": {
        "id": "lz55v3tm8xyR"
      },
      "outputs": [],
      "source": [
        "import pandas as pd\n",
        "import matplotlib.pyplot as plt\n",
        "import pandas as pd\n",
        "%matplotlib inline\n",
        "import seaborn as sns\n",
        "import numpy as np\n",
        "from sklearn.model_selection import train_test_split\n",
        "from sklearn.preprocessing import StandardScaler\n",
        "from sklearn.neighbors import KNeighborsRegressor\n",
        "from sklearn.metrics import mean_squared_error\n",
        "from sklearn.ensemble import RandomForestRegressor\n",
        "from sklearn.ensemble import AdaBoostRegressor\n",
        "from sklearn.metrics import mean_squared_error, mean_absolute_error, r2_score\n",
        "from sklearn.model_selection import GridSearchCV"
      ]
    },
    {
      "cell_type": "markdown",
      "source": [
        "## Data Loading"
      ],
      "metadata": {
        "id": "8Cha39Z49HB_"
      }
    },
    {
      "cell_type": "code",
      "source": [
        "plane = pd.read_csv(\"https://raw.githubusercontent.com/AmandaRiyas/Predictive-Analytics-Project/refs/heads/main/flight_dataset.csv\", sep=\",\")\n",
        "plane.head()"
      ],
      "metadata": {
        "colab": {
          "base_uri": "https://localhost:8080/",
          "height": 243
        },
        "id": "uS-GplVp9IIc",
        "outputId": "403665c0-7967-4455-abb2-18c52e219d7b"
      },
      "execution_count": 234,
      "outputs": [
        {
          "output_type": "execute_result",
          "data": {
            "text/plain": [
              "       Airline    Source Destination  Total_Stops  Price  Date  Month  Year  \\\n",
              "0       IndiGo  Banglore   New Delhi            0   3897    24      3  2019   \n",
              "1    Air India   Kolkata    Banglore            2   7662     1      5  2019   \n",
              "2  Jet Airways     Delhi      Cochin            2  13882     9      6  2019   \n",
              "3       IndiGo   Kolkata    Banglore            1   6218    12      5  2019   \n",
              "4       IndiGo  Banglore   New Delhi            1  13302     1      3  2019   \n",
              "\n",
              "   Dep_hours  Dep_min  Arrival_hours  Arrival_min  Duration_hours  \\\n",
              "0         22       20              1           10               2   \n",
              "1          5       50             13           15               7   \n",
              "2          9       25              4           25              19   \n",
              "3         18        5             23           30               5   \n",
              "4         16       50             21           35               4   \n",
              "\n",
              "   Duration_min  \n",
              "0            50  \n",
              "1            25  \n",
              "2             0  \n",
              "3            25  \n",
              "4            45  "
            ],
            "text/html": [
              "\n",
              "  <div id=\"df-8486a5e7-faf7-4a35-9e70-8d752e19eee3\" class=\"colab-df-container\">\n",
              "    <div>\n",
              "<style scoped>\n",
              "    .dataframe tbody tr th:only-of-type {\n",
              "        vertical-align: middle;\n",
              "    }\n",
              "\n",
              "    .dataframe tbody tr th {\n",
              "        vertical-align: top;\n",
              "    }\n",
              "\n",
              "    .dataframe thead th {\n",
              "        text-align: right;\n",
              "    }\n",
              "</style>\n",
              "<table border=\"1\" class=\"dataframe\">\n",
              "  <thead>\n",
              "    <tr style=\"text-align: right;\">\n",
              "      <th></th>\n",
              "      <th>Airline</th>\n",
              "      <th>Source</th>\n",
              "      <th>Destination</th>\n",
              "      <th>Total_Stops</th>\n",
              "      <th>Price</th>\n",
              "      <th>Date</th>\n",
              "      <th>Month</th>\n",
              "      <th>Year</th>\n",
              "      <th>Dep_hours</th>\n",
              "      <th>Dep_min</th>\n",
              "      <th>Arrival_hours</th>\n",
              "      <th>Arrival_min</th>\n",
              "      <th>Duration_hours</th>\n",
              "      <th>Duration_min</th>\n",
              "    </tr>\n",
              "  </thead>\n",
              "  <tbody>\n",
              "    <tr>\n",
              "      <th>0</th>\n",
              "      <td>IndiGo</td>\n",
              "      <td>Banglore</td>\n",
              "      <td>New Delhi</td>\n",
              "      <td>0</td>\n",
              "      <td>3897</td>\n",
              "      <td>24</td>\n",
              "      <td>3</td>\n",
              "      <td>2019</td>\n",
              "      <td>22</td>\n",
              "      <td>20</td>\n",
              "      <td>1</td>\n",
              "      <td>10</td>\n",
              "      <td>2</td>\n",
              "      <td>50</td>\n",
              "    </tr>\n",
              "    <tr>\n",
              "      <th>1</th>\n",
              "      <td>Air India</td>\n",
              "      <td>Kolkata</td>\n",
              "      <td>Banglore</td>\n",
              "      <td>2</td>\n",
              "      <td>7662</td>\n",
              "      <td>1</td>\n",
              "      <td>5</td>\n",
              "      <td>2019</td>\n",
              "      <td>5</td>\n",
              "      <td>50</td>\n",
              "      <td>13</td>\n",
              "      <td>15</td>\n",
              "      <td>7</td>\n",
              "      <td>25</td>\n",
              "    </tr>\n",
              "    <tr>\n",
              "      <th>2</th>\n",
              "      <td>Jet Airways</td>\n",
              "      <td>Delhi</td>\n",
              "      <td>Cochin</td>\n",
              "      <td>2</td>\n",
              "      <td>13882</td>\n",
              "      <td>9</td>\n",
              "      <td>6</td>\n",
              "      <td>2019</td>\n",
              "      <td>9</td>\n",
              "      <td>25</td>\n",
              "      <td>4</td>\n",
              "      <td>25</td>\n",
              "      <td>19</td>\n",
              "      <td>0</td>\n",
              "    </tr>\n",
              "    <tr>\n",
              "      <th>3</th>\n",
              "      <td>IndiGo</td>\n",
              "      <td>Kolkata</td>\n",
              "      <td>Banglore</td>\n",
              "      <td>1</td>\n",
              "      <td>6218</td>\n",
              "      <td>12</td>\n",
              "      <td>5</td>\n",
              "      <td>2019</td>\n",
              "      <td>18</td>\n",
              "      <td>5</td>\n",
              "      <td>23</td>\n",
              "      <td>30</td>\n",
              "      <td>5</td>\n",
              "      <td>25</td>\n",
              "    </tr>\n",
              "    <tr>\n",
              "      <th>4</th>\n",
              "      <td>IndiGo</td>\n",
              "      <td>Banglore</td>\n",
              "      <td>New Delhi</td>\n",
              "      <td>1</td>\n",
              "      <td>13302</td>\n",
              "      <td>1</td>\n",
              "      <td>3</td>\n",
              "      <td>2019</td>\n",
              "      <td>16</td>\n",
              "      <td>50</td>\n",
              "      <td>21</td>\n",
              "      <td>35</td>\n",
              "      <td>4</td>\n",
              "      <td>45</td>\n",
              "    </tr>\n",
              "  </tbody>\n",
              "</table>\n",
              "</div>\n",
              "    <div class=\"colab-df-buttons\">\n",
              "\n",
              "  <div class=\"colab-df-container\">\n",
              "    <button class=\"colab-df-convert\" onclick=\"convertToInteractive('df-8486a5e7-faf7-4a35-9e70-8d752e19eee3')\"\n",
              "            title=\"Convert this dataframe to an interactive table.\"\n",
              "            style=\"display:none;\">\n",
              "\n",
              "  <svg xmlns=\"http://www.w3.org/2000/svg\" height=\"24px\" viewBox=\"0 -960 960 960\">\n",
              "    <path d=\"M120-120v-720h720v720H120Zm60-500h600v-160H180v160Zm220 220h160v-160H400v160Zm0 220h160v-160H400v160ZM180-400h160v-160H180v160Zm440 0h160v-160H620v160ZM180-180h160v-160H180v160Zm440 0h160v-160H620v160Z\"/>\n",
              "  </svg>\n",
              "    </button>\n",
              "\n",
              "  <style>\n",
              "    .colab-df-container {\n",
              "      display:flex;\n",
              "      gap: 12px;\n",
              "    }\n",
              "\n",
              "    .colab-df-convert {\n",
              "      background-color: #E8F0FE;\n",
              "      border: none;\n",
              "      border-radius: 50%;\n",
              "      cursor: pointer;\n",
              "      display: none;\n",
              "      fill: #1967D2;\n",
              "      height: 32px;\n",
              "      padding: 0 0 0 0;\n",
              "      width: 32px;\n",
              "    }\n",
              "\n",
              "    .colab-df-convert:hover {\n",
              "      background-color: #E2EBFA;\n",
              "      box-shadow: 0px 1px 2px rgba(60, 64, 67, 0.3), 0px 1px 3px 1px rgba(60, 64, 67, 0.15);\n",
              "      fill: #174EA6;\n",
              "    }\n",
              "\n",
              "    .colab-df-buttons div {\n",
              "      margin-bottom: 4px;\n",
              "    }\n",
              "\n",
              "    [theme=dark] .colab-df-convert {\n",
              "      background-color: #3B4455;\n",
              "      fill: #D2E3FC;\n",
              "    }\n",
              "\n",
              "    [theme=dark] .colab-df-convert:hover {\n",
              "      background-color: #434B5C;\n",
              "      box-shadow: 0px 1px 3px 1px rgba(0, 0, 0, 0.15);\n",
              "      filter: drop-shadow(0px 1px 2px rgba(0, 0, 0, 0.3));\n",
              "      fill: #FFFFFF;\n",
              "    }\n",
              "  </style>\n",
              "\n",
              "    <script>\n",
              "      const buttonEl =\n",
              "        document.querySelector('#df-8486a5e7-faf7-4a35-9e70-8d752e19eee3 button.colab-df-convert');\n",
              "      buttonEl.style.display =\n",
              "        google.colab.kernel.accessAllowed ? 'block' : 'none';\n",
              "\n",
              "      async function convertToInteractive(key) {\n",
              "        const element = document.querySelector('#df-8486a5e7-faf7-4a35-9e70-8d752e19eee3');\n",
              "        const dataTable =\n",
              "          await google.colab.kernel.invokeFunction('convertToInteractive',\n",
              "                                                    [key], {});\n",
              "        if (!dataTable) return;\n",
              "\n",
              "        const docLinkHtml = 'Like what you see? Visit the ' +\n",
              "          '<a target=\"_blank\" href=https://colab.research.google.com/notebooks/data_table.ipynb>data table notebook</a>'\n",
              "          + ' to learn more about interactive tables.';\n",
              "        element.innerHTML = '';\n",
              "        dataTable['output_type'] = 'display_data';\n",
              "        await google.colab.output.renderOutput(dataTable, element);\n",
              "        const docLink = document.createElement('div');\n",
              "        docLink.innerHTML = docLinkHtml;\n",
              "        element.appendChild(docLink);\n",
              "      }\n",
              "    </script>\n",
              "  </div>\n",
              "\n",
              "\n",
              "    <div id=\"df-fe228f40-0dea-4ec7-947a-7dff25b53f49\">\n",
              "      <button class=\"colab-df-quickchart\" onclick=\"quickchart('df-fe228f40-0dea-4ec7-947a-7dff25b53f49')\"\n",
              "                title=\"Suggest charts\"\n",
              "                style=\"display:none;\">\n",
              "\n",
              "<svg xmlns=\"http://www.w3.org/2000/svg\" height=\"24px\"viewBox=\"0 0 24 24\"\n",
              "     width=\"24px\">\n",
              "    <g>\n",
              "        <path d=\"M19 3H5c-1.1 0-2 .9-2 2v14c0 1.1.9 2 2 2h14c1.1 0 2-.9 2-2V5c0-1.1-.9-2-2-2zM9 17H7v-7h2v7zm4 0h-2V7h2v10zm4 0h-2v-4h2v4z\"/>\n",
              "    </g>\n",
              "</svg>\n",
              "      </button>\n",
              "\n",
              "<style>\n",
              "  .colab-df-quickchart {\n",
              "      --bg-color: #E8F0FE;\n",
              "      --fill-color: #1967D2;\n",
              "      --hover-bg-color: #E2EBFA;\n",
              "      --hover-fill-color: #174EA6;\n",
              "      --disabled-fill-color: #AAA;\n",
              "      --disabled-bg-color: #DDD;\n",
              "  }\n",
              "\n",
              "  [theme=dark] .colab-df-quickchart {\n",
              "      --bg-color: #3B4455;\n",
              "      --fill-color: #D2E3FC;\n",
              "      --hover-bg-color: #434B5C;\n",
              "      --hover-fill-color: #FFFFFF;\n",
              "      --disabled-bg-color: #3B4455;\n",
              "      --disabled-fill-color: #666;\n",
              "  }\n",
              "\n",
              "  .colab-df-quickchart {\n",
              "    background-color: var(--bg-color);\n",
              "    border: none;\n",
              "    border-radius: 50%;\n",
              "    cursor: pointer;\n",
              "    display: none;\n",
              "    fill: var(--fill-color);\n",
              "    height: 32px;\n",
              "    padding: 0;\n",
              "    width: 32px;\n",
              "  }\n",
              "\n",
              "  .colab-df-quickchart:hover {\n",
              "    background-color: var(--hover-bg-color);\n",
              "    box-shadow: 0 1px 2px rgba(60, 64, 67, 0.3), 0 1px 3px 1px rgba(60, 64, 67, 0.15);\n",
              "    fill: var(--button-hover-fill-color);\n",
              "  }\n",
              "\n",
              "  .colab-df-quickchart-complete:disabled,\n",
              "  .colab-df-quickchart-complete:disabled:hover {\n",
              "    background-color: var(--disabled-bg-color);\n",
              "    fill: var(--disabled-fill-color);\n",
              "    box-shadow: none;\n",
              "  }\n",
              "\n",
              "  .colab-df-spinner {\n",
              "    border: 2px solid var(--fill-color);\n",
              "    border-color: transparent;\n",
              "    border-bottom-color: var(--fill-color);\n",
              "    animation:\n",
              "      spin 1s steps(1) infinite;\n",
              "  }\n",
              "\n",
              "  @keyframes spin {\n",
              "    0% {\n",
              "      border-color: transparent;\n",
              "      border-bottom-color: var(--fill-color);\n",
              "      border-left-color: var(--fill-color);\n",
              "    }\n",
              "    20% {\n",
              "      border-color: transparent;\n",
              "      border-left-color: var(--fill-color);\n",
              "      border-top-color: var(--fill-color);\n",
              "    }\n",
              "    30% {\n",
              "      border-color: transparent;\n",
              "      border-left-color: var(--fill-color);\n",
              "      border-top-color: var(--fill-color);\n",
              "      border-right-color: var(--fill-color);\n",
              "    }\n",
              "    40% {\n",
              "      border-color: transparent;\n",
              "      border-right-color: var(--fill-color);\n",
              "      border-top-color: var(--fill-color);\n",
              "    }\n",
              "    60% {\n",
              "      border-color: transparent;\n",
              "      border-right-color: var(--fill-color);\n",
              "    }\n",
              "    80% {\n",
              "      border-color: transparent;\n",
              "      border-right-color: var(--fill-color);\n",
              "      border-bottom-color: var(--fill-color);\n",
              "    }\n",
              "    90% {\n",
              "      border-color: transparent;\n",
              "      border-bottom-color: var(--fill-color);\n",
              "    }\n",
              "  }\n",
              "</style>\n",
              "\n",
              "      <script>\n",
              "        async function quickchart(key) {\n",
              "          const quickchartButtonEl =\n",
              "            document.querySelector('#' + key + ' button');\n",
              "          quickchartButtonEl.disabled = true;  // To prevent multiple clicks.\n",
              "          quickchartButtonEl.classList.add('colab-df-spinner');\n",
              "          try {\n",
              "            const charts = await google.colab.kernel.invokeFunction(\n",
              "                'suggestCharts', [key], {});\n",
              "          } catch (error) {\n",
              "            console.error('Error during call to suggestCharts:', error);\n",
              "          }\n",
              "          quickchartButtonEl.classList.remove('colab-df-spinner');\n",
              "          quickchartButtonEl.classList.add('colab-df-quickchart-complete');\n",
              "        }\n",
              "        (() => {\n",
              "          let quickchartButtonEl =\n",
              "            document.querySelector('#df-fe228f40-0dea-4ec7-947a-7dff25b53f49 button');\n",
              "          quickchartButtonEl.style.display =\n",
              "            google.colab.kernel.accessAllowed ? 'block' : 'none';\n",
              "        })();\n",
              "      </script>\n",
              "    </div>\n",
              "\n",
              "    </div>\n",
              "  </div>\n"
            ],
            "application/vnd.google.colaboratory.intrinsic+json": {
              "type": "dataframe",
              "variable_name": "plane",
              "summary": "{\n  \"name\": \"plane\",\n  \"rows\": 10683,\n  \"fields\": [\n    {\n      \"column\": \"Airline\",\n      \"properties\": {\n        \"dtype\": \"category\",\n        \"num_unique_values\": 12,\n        \"samples\": [\n          \"Multiple carriers Premium economy\",\n          \"Jet Airways Business\",\n          \"IndiGo\"\n        ],\n        \"semantic_type\": \"\",\n        \"description\": \"\"\n      }\n    },\n    {\n      \"column\": \"Source\",\n      \"properties\": {\n        \"dtype\": \"category\",\n        \"num_unique_values\": 5,\n        \"samples\": [\n          \"Kolkata\",\n          \"Mumbai\",\n          \"Delhi\"\n        ],\n        \"semantic_type\": \"\",\n        \"description\": \"\"\n      }\n    },\n    {\n      \"column\": \"Destination\",\n      \"properties\": {\n        \"dtype\": \"category\",\n        \"num_unique_values\": 6,\n        \"samples\": [\n          \"New Delhi\",\n          \"Banglore\",\n          \"Hyderabad\"\n        ],\n        \"semantic_type\": \"\",\n        \"description\": \"\"\n      }\n    },\n    {\n      \"column\": \"Total_Stops\",\n      \"properties\": {\n        \"dtype\": \"number\",\n        \"std\": 0,\n        \"min\": 0,\n        \"max\": 4,\n        \"num_unique_values\": 5,\n        \"samples\": [\n          2,\n          4,\n          1\n        ],\n        \"semantic_type\": \"\",\n        \"description\": \"\"\n      }\n    },\n    {\n      \"column\": \"Price\",\n      \"properties\": {\n        \"dtype\": \"number\",\n        \"std\": 4611,\n        \"min\": 1759,\n        \"max\": 79512,\n        \"num_unique_values\": 1870,\n        \"samples\": [\n          10810,\n          4588,\n          10056\n        ],\n        \"semantic_type\": \"\",\n        \"description\": \"\"\n      }\n    },\n    {\n      \"column\": \"Date\",\n      \"properties\": {\n        \"dtype\": \"number\",\n        \"std\": 8,\n        \"min\": 1,\n        \"max\": 27,\n        \"num_unique_values\": 10,\n        \"samples\": [\n          6,\n          1,\n          18\n        ],\n        \"semantic_type\": \"\",\n        \"description\": \"\"\n      }\n    },\n    {\n      \"column\": \"Month\",\n      \"properties\": {\n        \"dtype\": \"number\",\n        \"std\": 1,\n        \"min\": 3,\n        \"max\": 6,\n        \"num_unique_values\": 4,\n        \"samples\": [\n          5,\n          4,\n          3\n        ],\n        \"semantic_type\": \"\",\n        \"description\": \"\"\n      }\n    },\n    {\n      \"column\": \"Year\",\n      \"properties\": {\n        \"dtype\": \"number\",\n        \"std\": 0,\n        \"min\": 2019,\n        \"max\": 2019,\n        \"num_unique_values\": 1,\n        \"samples\": [\n          2019\n        ],\n        \"semantic_type\": \"\",\n        \"description\": \"\"\n      }\n    },\n    {\n      \"column\": \"Dep_hours\",\n      \"properties\": {\n        \"dtype\": \"number\",\n        \"std\": 5,\n        \"min\": 0,\n        \"max\": 23,\n        \"num_unique_values\": 24,\n        \"samples\": [\n          21\n        ],\n        \"semantic_type\": \"\",\n        \"description\": \"\"\n      }\n    },\n    {\n      \"column\": \"Dep_min\",\n      \"properties\": {\n        \"dtype\": \"number\",\n        \"std\": 18,\n        \"min\": 0,\n        \"max\": 55,\n        \"num_unique_values\": 12,\n        \"samples\": [\n          35\n        ],\n        \"semantic_type\": \"\",\n        \"description\": \"\"\n      }\n    },\n    {\n      \"column\": \"Arrival_hours\",\n      \"properties\": {\n        \"dtype\": \"number\",\n        \"std\": 6,\n        \"min\": 0,\n        \"max\": 23,\n        \"num_unique_values\": 24,\n        \"samples\": [\n          19\n        ],\n        \"semantic_type\": \"\",\n        \"description\": \"\"\n      }\n    },\n    {\n      \"column\": \"Arrival_min\",\n      \"properties\": {\n        \"dtype\": \"number\",\n        \"std\": 16,\n        \"min\": 0,\n        \"max\": 55,\n        \"num_unique_values\": 12,\n        \"samples\": [\n          45\n        ],\n        \"semantic_type\": \"\",\n        \"description\": \"\"\n      }\n    },\n    {\n      \"column\": \"Duration_hours\",\n      \"properties\": {\n        \"dtype\": \"number\",\n        \"std\": 8,\n        \"min\": 1,\n        \"max\": 47,\n        \"num_unique_values\": 43,\n        \"samples\": [\n          32\n        ],\n        \"semantic_type\": \"\",\n        \"description\": \"\"\n      }\n    },\n    {\n      \"column\": \"Duration_min\",\n      \"properties\": {\n        \"dtype\": \"number\",\n        \"std\": 16,\n        \"min\": 0,\n        \"max\": 55,\n        \"num_unique_values\": 12,\n        \"samples\": [\n          55\n        ],\n        \"semantic_type\": \"\",\n        \"description\": \"\"\n      }\n    }\n  ]\n}"
            }
          },
          "metadata": {},
          "execution_count": 234
        }
      ]
    },
    {
      "cell_type": "markdown",
      "source": [
        "## Data Understanding"
      ],
      "metadata": {
        "id": "4NCL5RbU9PKh"
      }
    },
    {
      "cell_type": "markdown",
      "source": [
        "### Exploratory Data Analysis - Deskripsi Variabel"
      ],
      "metadata": {
        "id": "RyGV_7vF9Spx"
      }
    },
    {
      "cell_type": "code",
      "source": [
        "plane.info()"
      ],
      "metadata": {
        "colab": {
          "base_uri": "https://localhost:8080/"
        },
        "id": "pBVtzS_S9MlW",
        "outputId": "d2ed25f2-73d4-42e6-a7e2-641d21deb675"
      },
      "execution_count": 235,
      "outputs": [
        {
          "output_type": "stream",
          "name": "stdout",
          "text": [
            "<class 'pandas.core.frame.DataFrame'>\n",
            "RangeIndex: 10683 entries, 0 to 10682\n",
            "Data columns (total 14 columns):\n",
            " #   Column          Non-Null Count  Dtype \n",
            "---  ------          --------------  ----- \n",
            " 0   Airline         10683 non-null  object\n",
            " 1   Source          10683 non-null  object\n",
            " 2   Destination     10683 non-null  object\n",
            " 3   Total_Stops     10683 non-null  int64 \n",
            " 4   Price           10683 non-null  int64 \n",
            " 5   Date            10683 non-null  int64 \n",
            " 6   Month           10683 non-null  int64 \n",
            " 7   Year            10683 non-null  int64 \n",
            " 8   Dep_hours       10683 non-null  int64 \n",
            " 9   Dep_min         10683 non-null  int64 \n",
            " 10  Arrival_hours   10683 non-null  int64 \n",
            " 11  Arrival_min     10683 non-null  int64 \n",
            " 12  Duration_hours  10683 non-null  int64 \n",
            " 13  Duration_min    10683 non-null  int64 \n",
            "dtypes: int64(11), object(3)\n",
            "memory usage: 1.1+ MB\n"
          ]
        }
      ]
    },
    {
      "cell_type": "code",
      "source": [
        "plane.isna().sum()"
      ],
      "metadata": {
        "colab": {
          "base_uri": "https://localhost:8080/",
          "height": 523
        },
        "id": "Q946gZPh9aTQ",
        "outputId": "6e93a14e-32d7-4c22-ac3b-e7c725b19833"
      },
      "execution_count": 236,
      "outputs": [
        {
          "output_type": "execute_result",
          "data": {
            "text/plain": [
              "Airline           0\n",
              "Source            0\n",
              "Destination       0\n",
              "Total_Stops       0\n",
              "Price             0\n",
              "Date              0\n",
              "Month             0\n",
              "Year              0\n",
              "Dep_hours         0\n",
              "Dep_min           0\n",
              "Arrival_hours     0\n",
              "Arrival_min       0\n",
              "Duration_hours    0\n",
              "Duration_min      0\n",
              "dtype: int64"
            ],
            "text/html": [
              "<div>\n",
              "<style scoped>\n",
              "    .dataframe tbody tr th:only-of-type {\n",
              "        vertical-align: middle;\n",
              "    }\n",
              "\n",
              "    .dataframe tbody tr th {\n",
              "        vertical-align: top;\n",
              "    }\n",
              "\n",
              "    .dataframe thead th {\n",
              "        text-align: right;\n",
              "    }\n",
              "</style>\n",
              "<table border=\"1\" class=\"dataframe\">\n",
              "  <thead>\n",
              "    <tr style=\"text-align: right;\">\n",
              "      <th></th>\n",
              "      <th>0</th>\n",
              "    </tr>\n",
              "  </thead>\n",
              "  <tbody>\n",
              "    <tr>\n",
              "      <th>Airline</th>\n",
              "      <td>0</td>\n",
              "    </tr>\n",
              "    <tr>\n",
              "      <th>Source</th>\n",
              "      <td>0</td>\n",
              "    </tr>\n",
              "    <tr>\n",
              "      <th>Destination</th>\n",
              "      <td>0</td>\n",
              "    </tr>\n",
              "    <tr>\n",
              "      <th>Total_Stops</th>\n",
              "      <td>0</td>\n",
              "    </tr>\n",
              "    <tr>\n",
              "      <th>Price</th>\n",
              "      <td>0</td>\n",
              "    </tr>\n",
              "    <tr>\n",
              "      <th>Date</th>\n",
              "      <td>0</td>\n",
              "    </tr>\n",
              "    <tr>\n",
              "      <th>Month</th>\n",
              "      <td>0</td>\n",
              "    </tr>\n",
              "    <tr>\n",
              "      <th>Year</th>\n",
              "      <td>0</td>\n",
              "    </tr>\n",
              "    <tr>\n",
              "      <th>Dep_hours</th>\n",
              "      <td>0</td>\n",
              "    </tr>\n",
              "    <tr>\n",
              "      <th>Dep_min</th>\n",
              "      <td>0</td>\n",
              "    </tr>\n",
              "    <tr>\n",
              "      <th>Arrival_hours</th>\n",
              "      <td>0</td>\n",
              "    </tr>\n",
              "    <tr>\n",
              "      <th>Arrival_min</th>\n",
              "      <td>0</td>\n",
              "    </tr>\n",
              "    <tr>\n",
              "      <th>Duration_hours</th>\n",
              "      <td>0</td>\n",
              "    </tr>\n",
              "    <tr>\n",
              "      <th>Duration_min</th>\n",
              "      <td>0</td>\n",
              "    </tr>\n",
              "  </tbody>\n",
              "</table>\n",
              "</div><br><label><b>dtype:</b> int64</label>"
            ]
          },
          "metadata": {},
          "execution_count": 236
        }
      ]
    },
    {
      "cell_type": "code",
      "source": [
        "print(\"Jumlah duplikasi: \", plane.duplicated().sum())"
      ],
      "metadata": {
        "colab": {
          "base_uri": "https://localhost:8080/"
        },
        "id": "RFoS--cj9lM4",
        "outputId": "417b09cc-1d44-4601-fe9d-6e25165dac21"
      },
      "execution_count": 237,
      "outputs": [
        {
          "output_type": "stream",
          "name": "stdout",
          "text": [
            "Jumlah duplikasi:  222\n"
          ]
        }
      ]
    },
    {
      "cell_type": "code",
      "source": [
        "plane.describe()"
      ],
      "metadata": {
        "colab": {
          "base_uri": "https://localhost:8080/",
          "height": 320
        },
        "id": "wRi4XvpR9mb_",
        "outputId": "0fc3ab64-d42a-4715-83a2-6494cfcdc53d"
      },
      "execution_count": 238,
      "outputs": [
        {
          "output_type": "execute_result",
          "data": {
            "text/plain": [
              "        Total_Stops         Price          Date         Month     Year  \\\n",
              "count  10683.000000  10683.000000  10683.000000  10683.000000  10683.0   \n",
              "mean       0.824207   9087.064121     13.508378      4.708602   2019.0   \n",
              "std        0.675199   4611.359167      8.479277      1.164357      0.0   \n",
              "min        0.000000   1759.000000      1.000000      3.000000   2019.0   \n",
              "25%        0.000000   5277.000000      6.000000      3.000000   2019.0   \n",
              "50%        1.000000   8372.000000     12.000000      5.000000   2019.0   \n",
              "75%        1.000000  12373.000000     21.000000      6.000000   2019.0   \n",
              "max        4.000000  79512.000000     27.000000      6.000000   2019.0   \n",
              "\n",
              "          Dep_hours       Dep_min  Arrival_hours   Arrival_min  \\\n",
              "count  10683.000000  10683.000000   10683.000000  10683.000000   \n",
              "mean      12.490686     24.411214      13.348778     24.690630   \n",
              "std        5.748650     18.767980       6.859125     16.506036   \n",
              "min        0.000000      0.000000       0.000000      0.000000   \n",
              "25%        8.000000      5.000000       8.000000     10.000000   \n",
              "50%       11.000000     25.000000      14.000000     25.000000   \n",
              "75%       18.000000     40.000000      19.000000     35.000000   \n",
              "max       23.000000     55.000000      23.000000     55.000000   \n",
              "\n",
              "       Duration_hours  Duration_min  \n",
              "count    10683.000000  10683.000000  \n",
              "mean        10.246560     28.327249  \n",
              "std          8.494988     16.946113  \n",
              "min          1.000000      0.000000  \n",
              "25%          2.000000     15.000000  \n",
              "50%          8.000000     30.000000  \n",
              "75%         15.000000     45.000000  \n",
              "max         47.000000     55.000000  "
            ],
            "text/html": [
              "\n",
              "  <div id=\"df-575761af-e49b-434f-83ea-037cba2797ea\" class=\"colab-df-container\">\n",
              "    <div>\n",
              "<style scoped>\n",
              "    .dataframe tbody tr th:only-of-type {\n",
              "        vertical-align: middle;\n",
              "    }\n",
              "\n",
              "    .dataframe tbody tr th {\n",
              "        vertical-align: top;\n",
              "    }\n",
              "\n",
              "    .dataframe thead th {\n",
              "        text-align: right;\n",
              "    }\n",
              "</style>\n",
              "<table border=\"1\" class=\"dataframe\">\n",
              "  <thead>\n",
              "    <tr style=\"text-align: right;\">\n",
              "      <th></th>\n",
              "      <th>Total_Stops</th>\n",
              "      <th>Price</th>\n",
              "      <th>Date</th>\n",
              "      <th>Month</th>\n",
              "      <th>Year</th>\n",
              "      <th>Dep_hours</th>\n",
              "      <th>Dep_min</th>\n",
              "      <th>Arrival_hours</th>\n",
              "      <th>Arrival_min</th>\n",
              "      <th>Duration_hours</th>\n",
              "      <th>Duration_min</th>\n",
              "    </tr>\n",
              "  </thead>\n",
              "  <tbody>\n",
              "    <tr>\n",
              "      <th>count</th>\n",
              "      <td>10683.000000</td>\n",
              "      <td>10683.000000</td>\n",
              "      <td>10683.000000</td>\n",
              "      <td>10683.000000</td>\n",
              "      <td>10683.0</td>\n",
              "      <td>10683.000000</td>\n",
              "      <td>10683.000000</td>\n",
              "      <td>10683.000000</td>\n",
              "      <td>10683.000000</td>\n",
              "      <td>10683.000000</td>\n",
              "      <td>10683.000000</td>\n",
              "    </tr>\n",
              "    <tr>\n",
              "      <th>mean</th>\n",
              "      <td>0.824207</td>\n",
              "      <td>9087.064121</td>\n",
              "      <td>13.508378</td>\n",
              "      <td>4.708602</td>\n",
              "      <td>2019.0</td>\n",
              "      <td>12.490686</td>\n",
              "      <td>24.411214</td>\n",
              "      <td>13.348778</td>\n",
              "      <td>24.690630</td>\n",
              "      <td>10.246560</td>\n",
              "      <td>28.327249</td>\n",
              "    </tr>\n",
              "    <tr>\n",
              "      <th>std</th>\n",
              "      <td>0.675199</td>\n",
              "      <td>4611.359167</td>\n",
              "      <td>8.479277</td>\n",
              "      <td>1.164357</td>\n",
              "      <td>0.0</td>\n",
              "      <td>5.748650</td>\n",
              "      <td>18.767980</td>\n",
              "      <td>6.859125</td>\n",
              "      <td>16.506036</td>\n",
              "      <td>8.494988</td>\n",
              "      <td>16.946113</td>\n",
              "    </tr>\n",
              "    <tr>\n",
              "      <th>min</th>\n",
              "      <td>0.000000</td>\n",
              "      <td>1759.000000</td>\n",
              "      <td>1.000000</td>\n",
              "      <td>3.000000</td>\n",
              "      <td>2019.0</td>\n",
              "      <td>0.000000</td>\n",
              "      <td>0.000000</td>\n",
              "      <td>0.000000</td>\n",
              "      <td>0.000000</td>\n",
              "      <td>1.000000</td>\n",
              "      <td>0.000000</td>\n",
              "    </tr>\n",
              "    <tr>\n",
              "      <th>25%</th>\n",
              "      <td>0.000000</td>\n",
              "      <td>5277.000000</td>\n",
              "      <td>6.000000</td>\n",
              "      <td>3.000000</td>\n",
              "      <td>2019.0</td>\n",
              "      <td>8.000000</td>\n",
              "      <td>5.000000</td>\n",
              "      <td>8.000000</td>\n",
              "      <td>10.000000</td>\n",
              "      <td>2.000000</td>\n",
              "      <td>15.000000</td>\n",
              "    </tr>\n",
              "    <tr>\n",
              "      <th>50%</th>\n",
              "      <td>1.000000</td>\n",
              "      <td>8372.000000</td>\n",
              "      <td>12.000000</td>\n",
              "      <td>5.000000</td>\n",
              "      <td>2019.0</td>\n",
              "      <td>11.000000</td>\n",
              "      <td>25.000000</td>\n",
              "      <td>14.000000</td>\n",
              "      <td>25.000000</td>\n",
              "      <td>8.000000</td>\n",
              "      <td>30.000000</td>\n",
              "    </tr>\n",
              "    <tr>\n",
              "      <th>75%</th>\n",
              "      <td>1.000000</td>\n",
              "      <td>12373.000000</td>\n",
              "      <td>21.000000</td>\n",
              "      <td>6.000000</td>\n",
              "      <td>2019.0</td>\n",
              "      <td>18.000000</td>\n",
              "      <td>40.000000</td>\n",
              "      <td>19.000000</td>\n",
              "      <td>35.000000</td>\n",
              "      <td>15.000000</td>\n",
              "      <td>45.000000</td>\n",
              "    </tr>\n",
              "    <tr>\n",
              "      <th>max</th>\n",
              "      <td>4.000000</td>\n",
              "      <td>79512.000000</td>\n",
              "      <td>27.000000</td>\n",
              "      <td>6.000000</td>\n",
              "      <td>2019.0</td>\n",
              "      <td>23.000000</td>\n",
              "      <td>55.000000</td>\n",
              "      <td>23.000000</td>\n",
              "      <td>55.000000</td>\n",
              "      <td>47.000000</td>\n",
              "      <td>55.000000</td>\n",
              "    </tr>\n",
              "  </tbody>\n",
              "</table>\n",
              "</div>\n",
              "    <div class=\"colab-df-buttons\">\n",
              "\n",
              "  <div class=\"colab-df-container\">\n",
              "    <button class=\"colab-df-convert\" onclick=\"convertToInteractive('df-575761af-e49b-434f-83ea-037cba2797ea')\"\n",
              "            title=\"Convert this dataframe to an interactive table.\"\n",
              "            style=\"display:none;\">\n",
              "\n",
              "  <svg xmlns=\"http://www.w3.org/2000/svg\" height=\"24px\" viewBox=\"0 -960 960 960\">\n",
              "    <path d=\"M120-120v-720h720v720H120Zm60-500h600v-160H180v160Zm220 220h160v-160H400v160Zm0 220h160v-160H400v160ZM180-400h160v-160H180v160Zm440 0h160v-160H620v160ZM180-180h160v-160H180v160Zm440 0h160v-160H620v160Z\"/>\n",
              "  </svg>\n",
              "    </button>\n",
              "\n",
              "  <style>\n",
              "    .colab-df-container {\n",
              "      display:flex;\n",
              "      gap: 12px;\n",
              "    }\n",
              "\n",
              "    .colab-df-convert {\n",
              "      background-color: #E8F0FE;\n",
              "      border: none;\n",
              "      border-radius: 50%;\n",
              "      cursor: pointer;\n",
              "      display: none;\n",
              "      fill: #1967D2;\n",
              "      height: 32px;\n",
              "      padding: 0 0 0 0;\n",
              "      width: 32px;\n",
              "    }\n",
              "\n",
              "    .colab-df-convert:hover {\n",
              "      background-color: #E2EBFA;\n",
              "      box-shadow: 0px 1px 2px rgba(60, 64, 67, 0.3), 0px 1px 3px 1px rgba(60, 64, 67, 0.15);\n",
              "      fill: #174EA6;\n",
              "    }\n",
              "\n",
              "    .colab-df-buttons div {\n",
              "      margin-bottom: 4px;\n",
              "    }\n",
              "\n",
              "    [theme=dark] .colab-df-convert {\n",
              "      background-color: #3B4455;\n",
              "      fill: #D2E3FC;\n",
              "    }\n",
              "\n",
              "    [theme=dark] .colab-df-convert:hover {\n",
              "      background-color: #434B5C;\n",
              "      box-shadow: 0px 1px 3px 1px rgba(0, 0, 0, 0.15);\n",
              "      filter: drop-shadow(0px 1px 2px rgba(0, 0, 0, 0.3));\n",
              "      fill: #FFFFFF;\n",
              "    }\n",
              "  </style>\n",
              "\n",
              "    <script>\n",
              "      const buttonEl =\n",
              "        document.querySelector('#df-575761af-e49b-434f-83ea-037cba2797ea button.colab-df-convert');\n",
              "      buttonEl.style.display =\n",
              "        google.colab.kernel.accessAllowed ? 'block' : 'none';\n",
              "\n",
              "      async function convertToInteractive(key) {\n",
              "        const element = document.querySelector('#df-575761af-e49b-434f-83ea-037cba2797ea');\n",
              "        const dataTable =\n",
              "          await google.colab.kernel.invokeFunction('convertToInteractive',\n",
              "                                                    [key], {});\n",
              "        if (!dataTable) return;\n",
              "\n",
              "        const docLinkHtml = 'Like what you see? Visit the ' +\n",
              "          '<a target=\"_blank\" href=https://colab.research.google.com/notebooks/data_table.ipynb>data table notebook</a>'\n",
              "          + ' to learn more about interactive tables.';\n",
              "        element.innerHTML = '';\n",
              "        dataTable['output_type'] = 'display_data';\n",
              "        await google.colab.output.renderOutput(dataTable, element);\n",
              "        const docLink = document.createElement('div');\n",
              "        docLink.innerHTML = docLinkHtml;\n",
              "        element.appendChild(docLink);\n",
              "      }\n",
              "    </script>\n",
              "  </div>\n",
              "\n",
              "\n",
              "    <div id=\"df-7407ca1e-136b-4d4f-b443-1687eb731a55\">\n",
              "      <button class=\"colab-df-quickchart\" onclick=\"quickchart('df-7407ca1e-136b-4d4f-b443-1687eb731a55')\"\n",
              "                title=\"Suggest charts\"\n",
              "                style=\"display:none;\">\n",
              "\n",
              "<svg xmlns=\"http://www.w3.org/2000/svg\" height=\"24px\"viewBox=\"0 0 24 24\"\n",
              "     width=\"24px\">\n",
              "    <g>\n",
              "        <path d=\"M19 3H5c-1.1 0-2 .9-2 2v14c0 1.1.9 2 2 2h14c1.1 0 2-.9 2-2V5c0-1.1-.9-2-2-2zM9 17H7v-7h2v7zm4 0h-2V7h2v10zm4 0h-2v-4h2v4z\"/>\n",
              "    </g>\n",
              "</svg>\n",
              "      </button>\n",
              "\n",
              "<style>\n",
              "  .colab-df-quickchart {\n",
              "      --bg-color: #E8F0FE;\n",
              "      --fill-color: #1967D2;\n",
              "      --hover-bg-color: #E2EBFA;\n",
              "      --hover-fill-color: #174EA6;\n",
              "      --disabled-fill-color: #AAA;\n",
              "      --disabled-bg-color: #DDD;\n",
              "  }\n",
              "\n",
              "  [theme=dark] .colab-df-quickchart {\n",
              "      --bg-color: #3B4455;\n",
              "      --fill-color: #D2E3FC;\n",
              "      --hover-bg-color: #434B5C;\n",
              "      --hover-fill-color: #FFFFFF;\n",
              "      --disabled-bg-color: #3B4455;\n",
              "      --disabled-fill-color: #666;\n",
              "  }\n",
              "\n",
              "  .colab-df-quickchart {\n",
              "    background-color: var(--bg-color);\n",
              "    border: none;\n",
              "    border-radius: 50%;\n",
              "    cursor: pointer;\n",
              "    display: none;\n",
              "    fill: var(--fill-color);\n",
              "    height: 32px;\n",
              "    padding: 0;\n",
              "    width: 32px;\n",
              "  }\n",
              "\n",
              "  .colab-df-quickchart:hover {\n",
              "    background-color: var(--hover-bg-color);\n",
              "    box-shadow: 0 1px 2px rgba(60, 64, 67, 0.3), 0 1px 3px 1px rgba(60, 64, 67, 0.15);\n",
              "    fill: var(--button-hover-fill-color);\n",
              "  }\n",
              "\n",
              "  .colab-df-quickchart-complete:disabled,\n",
              "  .colab-df-quickchart-complete:disabled:hover {\n",
              "    background-color: var(--disabled-bg-color);\n",
              "    fill: var(--disabled-fill-color);\n",
              "    box-shadow: none;\n",
              "  }\n",
              "\n",
              "  .colab-df-spinner {\n",
              "    border: 2px solid var(--fill-color);\n",
              "    border-color: transparent;\n",
              "    border-bottom-color: var(--fill-color);\n",
              "    animation:\n",
              "      spin 1s steps(1) infinite;\n",
              "  }\n",
              "\n",
              "  @keyframes spin {\n",
              "    0% {\n",
              "      border-color: transparent;\n",
              "      border-bottom-color: var(--fill-color);\n",
              "      border-left-color: var(--fill-color);\n",
              "    }\n",
              "    20% {\n",
              "      border-color: transparent;\n",
              "      border-left-color: var(--fill-color);\n",
              "      border-top-color: var(--fill-color);\n",
              "    }\n",
              "    30% {\n",
              "      border-color: transparent;\n",
              "      border-left-color: var(--fill-color);\n",
              "      border-top-color: var(--fill-color);\n",
              "      border-right-color: var(--fill-color);\n",
              "    }\n",
              "    40% {\n",
              "      border-color: transparent;\n",
              "      border-right-color: var(--fill-color);\n",
              "      border-top-color: var(--fill-color);\n",
              "    }\n",
              "    60% {\n",
              "      border-color: transparent;\n",
              "      border-right-color: var(--fill-color);\n",
              "    }\n",
              "    80% {\n",
              "      border-color: transparent;\n",
              "      border-right-color: var(--fill-color);\n",
              "      border-bottom-color: var(--fill-color);\n",
              "    }\n",
              "    90% {\n",
              "      border-color: transparent;\n",
              "      border-bottom-color: var(--fill-color);\n",
              "    }\n",
              "  }\n",
              "</style>\n",
              "\n",
              "      <script>\n",
              "        async function quickchart(key) {\n",
              "          const quickchartButtonEl =\n",
              "            document.querySelector('#' + key + ' button');\n",
              "          quickchartButtonEl.disabled = true;  // To prevent multiple clicks.\n",
              "          quickchartButtonEl.classList.add('colab-df-spinner');\n",
              "          try {\n",
              "            const charts = await google.colab.kernel.invokeFunction(\n",
              "                'suggestCharts', [key], {});\n",
              "          } catch (error) {\n",
              "            console.error('Error during call to suggestCharts:', error);\n",
              "          }\n",
              "          quickchartButtonEl.classList.remove('colab-df-spinner');\n",
              "          quickchartButtonEl.classList.add('colab-df-quickchart-complete');\n",
              "        }\n",
              "        (() => {\n",
              "          let quickchartButtonEl =\n",
              "            document.querySelector('#df-7407ca1e-136b-4d4f-b443-1687eb731a55 button');\n",
              "          quickchartButtonEl.style.display =\n",
              "            google.colab.kernel.accessAllowed ? 'block' : 'none';\n",
              "        })();\n",
              "      </script>\n",
              "    </div>\n",
              "\n",
              "    </div>\n",
              "  </div>\n"
            ],
            "application/vnd.google.colaboratory.intrinsic+json": {
              "type": "dataframe",
              "summary": "{\n  \"name\": \"plane\",\n  \"rows\": 8,\n  \"fields\": [\n    {\n      \"column\": \"Total_Stops\",\n      \"properties\": {\n        \"dtype\": \"number\",\n        \"std\": 3776.6323044602514,\n        \"min\": 0.0,\n        \"max\": 10683.0,\n        \"num_unique_values\": 6,\n        \"samples\": [\n          10683.0,\n          0.8242066835158663,\n          4.0\n        ],\n        \"semantic_type\": \"\",\n        \"description\": \"\"\n      }\n    },\n    {\n      \"column\": \"Price\",\n      \"properties\": {\n        \"dtype\": \"number\",\n        \"std\": 25709.856656789263,\n        \"min\": 1759.0,\n        \"max\": 79512.0,\n        \"num_unique_values\": 8,\n        \"samples\": [\n          9087.064120565385,\n          8372.0,\n          10683.0\n        ],\n        \"semantic_type\": \"\",\n        \"description\": \"\"\n      }\n    },\n    {\n      \"column\": \"Date\",\n      \"properties\": {\n        \"dtype\": \"number\",\n        \"std\": 3772.5252932743374,\n        \"min\": 1.0,\n        \"max\": 10683.0,\n        \"num_unique_values\": 8,\n        \"samples\": [\n          13.508377796499111,\n          12.0,\n          10683.0\n        ],\n        \"semantic_type\": \"\",\n        \"description\": \"\"\n      }\n    },\n    {\n      \"column\": \"Month\",\n      \"properties\": {\n        \"dtype\": \"number\",\n        \"std\": 3775.552934700906,\n        \"min\": 1.164357049596759,\n        \"max\": 10683.0,\n        \"num_unique_values\": 6,\n        \"samples\": [\n          10683.0,\n          4.708602452494618,\n          6.0\n        ],\n        \"semantic_type\": \"\",\n        \"description\": \"\"\n      }\n    },\n    {\n      \"column\": \"Year\",\n      \"properties\": {\n        \"dtype\": \"number\",\n        \"std\": 3243.0531001996073,\n        \"min\": 0.0,\n        \"max\": 10683.0,\n        \"num_unique_values\": 3,\n        \"samples\": [\n          10683.0,\n          2019.0,\n          0.0\n        ],\n        \"semantic_type\": \"\",\n        \"description\": \"\"\n      }\n    },\n    {\n      \"column\": \"Dep_hours\",\n      \"properties\": {\n        \"dtype\": \"number\",\n        \"std\": 3773.0658632251952,\n        \"min\": 0.0,\n        \"max\": 10683.0,\n        \"num_unique_values\": 8,\n        \"samples\": [\n          12.490686136852943,\n          11.0,\n          10683.0\n        ],\n        \"semantic_type\": \"\",\n        \"description\": \"\"\n      }\n    },\n    {\n      \"column\": \"Dep_min\",\n      \"properties\": {\n        \"dtype\": \"number\",\n        \"std\": 3768.557907322429,\n        \"min\": 0.0,\n        \"max\": 10683.0,\n        \"num_unique_values\": 8,\n        \"samples\": [\n          24.411214078442384,\n          25.0,\n          10683.0\n        ],\n        \"semantic_type\": \"\",\n        \"description\": \"\"\n      }\n    },\n    {\n      \"column\": \"Arrival_hours\",\n      \"properties\": {\n        \"dtype\": \"number\",\n        \"std\": 3772.7645885136635,\n        \"min\": 0.0,\n        \"max\": 10683.0,\n        \"num_unique_values\": 8,\n        \"samples\": [\n          13.348778433024432,\n          14.0,\n          10683.0\n        ],\n        \"semantic_type\": \"\",\n        \"description\": \"\"\n      }\n    },\n    {\n      \"column\": \"Arrival_min\",\n      \"properties\": {\n        \"dtype\": \"number\",\n        \"std\": 3768.6528957392443,\n        \"min\": 0.0,\n        \"max\": 10683.0,\n        \"num_unique_values\": 8,\n        \"samples\": [\n          24.69062997285407,\n          25.0,\n          10683.0\n        ],\n        \"semantic_type\": \"\",\n        \"description\": \"\"\n      }\n    },\n    {\n      \"column\": \"Duration_hours\",\n      \"properties\": {\n        \"dtype\": \"number\",\n        \"std\": 3772.4052052752704,\n        \"min\": 1.0,\n        \"max\": 10683.0,\n        \"num_unique_values\": 8,\n        \"samples\": [\n          10.2465599550688,\n          8.0,\n          10683.0\n        ],\n        \"semantic_type\": \"\",\n        \"description\": \"\"\n      }\n    },\n    {\n      \"column\": \"Duration_min\",\n      \"properties\": {\n        \"dtype\": \"number\",\n        \"std\": 3767.4402906107316,\n        \"min\": 0.0,\n        \"max\": 10683.0,\n        \"num_unique_values\": 8,\n        \"samples\": [\n          28.32724890012169,\n          30.0,\n          10683.0\n        ],\n        \"semantic_type\": \"\",\n        \"description\": \"\"\n      }\n    }\n  ]\n}"
            }
          },
          "metadata": {},
          "execution_count": 238
        }
      ]
    },
    {
      "cell_type": "markdown",
      "source": [
        "### Exploratory Data Analysis - Menangani Missing Value dan Outliers"
      ],
      "metadata": {
        "id": "QqekW1G39tZm"
      }
    },
    {
      "cell_type": "code",
      "source": [
        "# Pengecekan variabel Duration_hours\n",
        "plane[plane['Duration_hours'] > 24]"
      ],
      "metadata": {
        "colab": {
          "base_uri": "https://localhost:8080/",
          "height": 495
        },
        "id": "TbDubbs49uLk",
        "outputId": "1ae527c0-d0ec-4cb7-c048-74ba6196f593"
      },
      "execution_count": 239,
      "outputs": [
        {
          "output_type": "execute_result",
          "data": {
            "text/plain": [
              "           Airline    Source Destination  Total_Stops  Price  Date  Month  \\\n",
              "8      Jet Airways  Banglore   New Delhi            1  11087    12      3   \n",
              "15       Air India     Delhi      Cochin            2  14011     3      3   \n",
              "51     Jet Airways   Kolkata    Banglore            1  12121     1      5   \n",
              "59         Vistara    Mumbai   Hyderabad            1  12395     6      3   \n",
              "61       Air India     Delhi      Cochin            1   5117     3      4   \n",
              "...            ...       ...         ...          ...    ...   ...    ...   \n",
              "10634  Jet Airways     Delhi      Cochin            2  11733     6      6   \n",
              "10639    Air India     Delhi      Cochin            3  10493     3      6   \n",
              "10642    Air India   Kolkata    Banglore            2  11222    21      5   \n",
              "10648    Air India     Delhi      Cochin            2  13801     1      6   \n",
              "10652    Air India     Delhi      Cochin            1   9790     9      3   \n",
              "\n",
              "       Year  Dep_hours  Dep_min  Arrival_hours  Arrival_min  Duration_hours  \\\n",
              "8      2019          8       55             10           25              25   \n",
              "15     2019         16       40             19           15              26   \n",
              "51     2019          9       35             10           55              25   \n",
              "59     2019         15       40             16           45              25   \n",
              "61     2019          6        5              9           25              27   \n",
              "...     ...        ...      ...            ...          ...             ...   \n",
              "10634  2019          9       40             12           35              26   \n",
              "10639  2019          5       15             19           15              38   \n",
              "10642  2019          8       20             11           10              26   \n",
              "10648  2019         16       55             19           15              26   \n",
              "10652  2019          5       15              6           50              25   \n",
              "\n",
              "       Duration_min  \n",
              "8                30  \n",
              "15               35  \n",
              "51               20  \n",
              "59                5  \n",
              "61               20  \n",
              "...             ...  \n",
              "10634            55  \n",
              "10639             0  \n",
              "10642            50  \n",
              "10648            20  \n",
              "10652            35  \n",
              "\n",
              "[923 rows x 14 columns]"
            ],
            "text/html": [
              "\n",
              "  <div id=\"df-d5621432-4e24-43b8-8181-573af4573504\" class=\"colab-df-container\">\n",
              "    <div>\n",
              "<style scoped>\n",
              "    .dataframe tbody tr th:only-of-type {\n",
              "        vertical-align: middle;\n",
              "    }\n",
              "\n",
              "    .dataframe tbody tr th {\n",
              "        vertical-align: top;\n",
              "    }\n",
              "\n",
              "    .dataframe thead th {\n",
              "        text-align: right;\n",
              "    }\n",
              "</style>\n",
              "<table border=\"1\" class=\"dataframe\">\n",
              "  <thead>\n",
              "    <tr style=\"text-align: right;\">\n",
              "      <th></th>\n",
              "      <th>Airline</th>\n",
              "      <th>Source</th>\n",
              "      <th>Destination</th>\n",
              "      <th>Total_Stops</th>\n",
              "      <th>Price</th>\n",
              "      <th>Date</th>\n",
              "      <th>Month</th>\n",
              "      <th>Year</th>\n",
              "      <th>Dep_hours</th>\n",
              "      <th>Dep_min</th>\n",
              "      <th>Arrival_hours</th>\n",
              "      <th>Arrival_min</th>\n",
              "      <th>Duration_hours</th>\n",
              "      <th>Duration_min</th>\n",
              "    </tr>\n",
              "  </thead>\n",
              "  <tbody>\n",
              "    <tr>\n",
              "      <th>8</th>\n",
              "      <td>Jet Airways</td>\n",
              "      <td>Banglore</td>\n",
              "      <td>New Delhi</td>\n",
              "      <td>1</td>\n",
              "      <td>11087</td>\n",
              "      <td>12</td>\n",
              "      <td>3</td>\n",
              "      <td>2019</td>\n",
              "      <td>8</td>\n",
              "      <td>55</td>\n",
              "      <td>10</td>\n",
              "      <td>25</td>\n",
              "      <td>25</td>\n",
              "      <td>30</td>\n",
              "    </tr>\n",
              "    <tr>\n",
              "      <th>15</th>\n",
              "      <td>Air India</td>\n",
              "      <td>Delhi</td>\n",
              "      <td>Cochin</td>\n",
              "      <td>2</td>\n",
              "      <td>14011</td>\n",
              "      <td>3</td>\n",
              "      <td>3</td>\n",
              "      <td>2019</td>\n",
              "      <td>16</td>\n",
              "      <td>40</td>\n",
              "      <td>19</td>\n",
              "      <td>15</td>\n",
              "      <td>26</td>\n",
              "      <td>35</td>\n",
              "    </tr>\n",
              "    <tr>\n",
              "      <th>51</th>\n",
              "      <td>Jet Airways</td>\n",
              "      <td>Kolkata</td>\n",
              "      <td>Banglore</td>\n",
              "      <td>1</td>\n",
              "      <td>12121</td>\n",
              "      <td>1</td>\n",
              "      <td>5</td>\n",
              "      <td>2019</td>\n",
              "      <td>9</td>\n",
              "      <td>35</td>\n",
              "      <td>10</td>\n",
              "      <td>55</td>\n",
              "      <td>25</td>\n",
              "      <td>20</td>\n",
              "    </tr>\n",
              "    <tr>\n",
              "      <th>59</th>\n",
              "      <td>Vistara</td>\n",
              "      <td>Mumbai</td>\n",
              "      <td>Hyderabad</td>\n",
              "      <td>1</td>\n",
              "      <td>12395</td>\n",
              "      <td>6</td>\n",
              "      <td>3</td>\n",
              "      <td>2019</td>\n",
              "      <td>15</td>\n",
              "      <td>40</td>\n",
              "      <td>16</td>\n",
              "      <td>45</td>\n",
              "      <td>25</td>\n",
              "      <td>5</td>\n",
              "    </tr>\n",
              "    <tr>\n",
              "      <th>61</th>\n",
              "      <td>Air India</td>\n",
              "      <td>Delhi</td>\n",
              "      <td>Cochin</td>\n",
              "      <td>1</td>\n",
              "      <td>5117</td>\n",
              "      <td>3</td>\n",
              "      <td>4</td>\n",
              "      <td>2019</td>\n",
              "      <td>6</td>\n",
              "      <td>5</td>\n",
              "      <td>9</td>\n",
              "      <td>25</td>\n",
              "      <td>27</td>\n",
              "      <td>20</td>\n",
              "    </tr>\n",
              "    <tr>\n",
              "      <th>...</th>\n",
              "      <td>...</td>\n",
              "      <td>...</td>\n",
              "      <td>...</td>\n",
              "      <td>...</td>\n",
              "      <td>...</td>\n",
              "      <td>...</td>\n",
              "      <td>...</td>\n",
              "      <td>...</td>\n",
              "      <td>...</td>\n",
              "      <td>...</td>\n",
              "      <td>...</td>\n",
              "      <td>...</td>\n",
              "      <td>...</td>\n",
              "      <td>...</td>\n",
              "    </tr>\n",
              "    <tr>\n",
              "      <th>10634</th>\n",
              "      <td>Jet Airways</td>\n",
              "      <td>Delhi</td>\n",
              "      <td>Cochin</td>\n",
              "      <td>2</td>\n",
              "      <td>11733</td>\n",
              "      <td>6</td>\n",
              "      <td>6</td>\n",
              "      <td>2019</td>\n",
              "      <td>9</td>\n",
              "      <td>40</td>\n",
              "      <td>12</td>\n",
              "      <td>35</td>\n",
              "      <td>26</td>\n",
              "      <td>55</td>\n",
              "    </tr>\n",
              "    <tr>\n",
              "      <th>10639</th>\n",
              "      <td>Air India</td>\n",
              "      <td>Delhi</td>\n",
              "      <td>Cochin</td>\n",
              "      <td>3</td>\n",
              "      <td>10493</td>\n",
              "      <td>3</td>\n",
              "      <td>6</td>\n",
              "      <td>2019</td>\n",
              "      <td>5</td>\n",
              "      <td>15</td>\n",
              "      <td>19</td>\n",
              "      <td>15</td>\n",
              "      <td>38</td>\n",
              "      <td>0</td>\n",
              "    </tr>\n",
              "    <tr>\n",
              "      <th>10642</th>\n",
              "      <td>Air India</td>\n",
              "      <td>Kolkata</td>\n",
              "      <td>Banglore</td>\n",
              "      <td>2</td>\n",
              "      <td>11222</td>\n",
              "      <td>21</td>\n",
              "      <td>5</td>\n",
              "      <td>2019</td>\n",
              "      <td>8</td>\n",
              "      <td>20</td>\n",
              "      <td>11</td>\n",
              "      <td>10</td>\n",
              "      <td>26</td>\n",
              "      <td>50</td>\n",
              "    </tr>\n",
              "    <tr>\n",
              "      <th>10648</th>\n",
              "      <td>Air India</td>\n",
              "      <td>Delhi</td>\n",
              "      <td>Cochin</td>\n",
              "      <td>2</td>\n",
              "      <td>13801</td>\n",
              "      <td>1</td>\n",
              "      <td>6</td>\n",
              "      <td>2019</td>\n",
              "      <td>16</td>\n",
              "      <td>55</td>\n",
              "      <td>19</td>\n",
              "      <td>15</td>\n",
              "      <td>26</td>\n",
              "      <td>20</td>\n",
              "    </tr>\n",
              "    <tr>\n",
              "      <th>10652</th>\n",
              "      <td>Air India</td>\n",
              "      <td>Delhi</td>\n",
              "      <td>Cochin</td>\n",
              "      <td>1</td>\n",
              "      <td>9790</td>\n",
              "      <td>9</td>\n",
              "      <td>3</td>\n",
              "      <td>2019</td>\n",
              "      <td>5</td>\n",
              "      <td>15</td>\n",
              "      <td>6</td>\n",
              "      <td>50</td>\n",
              "      <td>25</td>\n",
              "      <td>35</td>\n",
              "    </tr>\n",
              "  </tbody>\n",
              "</table>\n",
              "<p>923 rows × 14 columns</p>\n",
              "</div>\n",
              "    <div class=\"colab-df-buttons\">\n",
              "\n",
              "  <div class=\"colab-df-container\">\n",
              "    <button class=\"colab-df-convert\" onclick=\"convertToInteractive('df-d5621432-4e24-43b8-8181-573af4573504')\"\n",
              "            title=\"Convert this dataframe to an interactive table.\"\n",
              "            style=\"display:none;\">\n",
              "\n",
              "  <svg xmlns=\"http://www.w3.org/2000/svg\" height=\"24px\" viewBox=\"0 -960 960 960\">\n",
              "    <path d=\"M120-120v-720h720v720H120Zm60-500h600v-160H180v160Zm220 220h160v-160H400v160Zm0 220h160v-160H400v160ZM180-400h160v-160H180v160Zm440 0h160v-160H620v160ZM180-180h160v-160H180v160Zm440 0h160v-160H620v160Z\"/>\n",
              "  </svg>\n",
              "    </button>\n",
              "\n",
              "  <style>\n",
              "    .colab-df-container {\n",
              "      display:flex;\n",
              "      gap: 12px;\n",
              "    }\n",
              "\n",
              "    .colab-df-convert {\n",
              "      background-color: #E8F0FE;\n",
              "      border: none;\n",
              "      border-radius: 50%;\n",
              "      cursor: pointer;\n",
              "      display: none;\n",
              "      fill: #1967D2;\n",
              "      height: 32px;\n",
              "      padding: 0 0 0 0;\n",
              "      width: 32px;\n",
              "    }\n",
              "\n",
              "    .colab-df-convert:hover {\n",
              "      background-color: #E2EBFA;\n",
              "      box-shadow: 0px 1px 2px rgba(60, 64, 67, 0.3), 0px 1px 3px 1px rgba(60, 64, 67, 0.15);\n",
              "      fill: #174EA6;\n",
              "    }\n",
              "\n",
              "    .colab-df-buttons div {\n",
              "      margin-bottom: 4px;\n",
              "    }\n",
              "\n",
              "    [theme=dark] .colab-df-convert {\n",
              "      background-color: #3B4455;\n",
              "      fill: #D2E3FC;\n",
              "    }\n",
              "\n",
              "    [theme=dark] .colab-df-convert:hover {\n",
              "      background-color: #434B5C;\n",
              "      box-shadow: 0px 1px 3px 1px rgba(0, 0, 0, 0.15);\n",
              "      filter: drop-shadow(0px 1px 2px rgba(0, 0, 0, 0.3));\n",
              "      fill: #FFFFFF;\n",
              "    }\n",
              "  </style>\n",
              "\n",
              "    <script>\n",
              "      const buttonEl =\n",
              "        document.querySelector('#df-d5621432-4e24-43b8-8181-573af4573504 button.colab-df-convert');\n",
              "      buttonEl.style.display =\n",
              "        google.colab.kernel.accessAllowed ? 'block' : 'none';\n",
              "\n",
              "      async function convertToInteractive(key) {\n",
              "        const element = document.querySelector('#df-d5621432-4e24-43b8-8181-573af4573504');\n",
              "        const dataTable =\n",
              "          await google.colab.kernel.invokeFunction('convertToInteractive',\n",
              "                                                    [key], {});\n",
              "        if (!dataTable) return;\n",
              "\n",
              "        const docLinkHtml = 'Like what you see? Visit the ' +\n",
              "          '<a target=\"_blank\" href=https://colab.research.google.com/notebooks/data_table.ipynb>data table notebook</a>'\n",
              "          + ' to learn more about interactive tables.';\n",
              "        element.innerHTML = '';\n",
              "        dataTable['output_type'] = 'display_data';\n",
              "        await google.colab.output.renderOutput(dataTable, element);\n",
              "        const docLink = document.createElement('div');\n",
              "        docLink.innerHTML = docLinkHtml;\n",
              "        element.appendChild(docLink);\n",
              "      }\n",
              "    </script>\n",
              "  </div>\n",
              "\n",
              "\n",
              "    <div id=\"df-9613d842-0f1d-450d-846e-39cd3d1a0114\">\n",
              "      <button class=\"colab-df-quickchart\" onclick=\"quickchart('df-9613d842-0f1d-450d-846e-39cd3d1a0114')\"\n",
              "                title=\"Suggest charts\"\n",
              "                style=\"display:none;\">\n",
              "\n",
              "<svg xmlns=\"http://www.w3.org/2000/svg\" height=\"24px\"viewBox=\"0 0 24 24\"\n",
              "     width=\"24px\">\n",
              "    <g>\n",
              "        <path d=\"M19 3H5c-1.1 0-2 .9-2 2v14c0 1.1.9 2 2 2h14c1.1 0 2-.9 2-2V5c0-1.1-.9-2-2-2zM9 17H7v-7h2v7zm4 0h-2V7h2v10zm4 0h-2v-4h2v4z\"/>\n",
              "    </g>\n",
              "</svg>\n",
              "      </button>\n",
              "\n",
              "<style>\n",
              "  .colab-df-quickchart {\n",
              "      --bg-color: #E8F0FE;\n",
              "      --fill-color: #1967D2;\n",
              "      --hover-bg-color: #E2EBFA;\n",
              "      --hover-fill-color: #174EA6;\n",
              "      --disabled-fill-color: #AAA;\n",
              "      --disabled-bg-color: #DDD;\n",
              "  }\n",
              "\n",
              "  [theme=dark] .colab-df-quickchart {\n",
              "      --bg-color: #3B4455;\n",
              "      --fill-color: #D2E3FC;\n",
              "      --hover-bg-color: #434B5C;\n",
              "      --hover-fill-color: #FFFFFF;\n",
              "      --disabled-bg-color: #3B4455;\n",
              "      --disabled-fill-color: #666;\n",
              "  }\n",
              "\n",
              "  .colab-df-quickchart {\n",
              "    background-color: var(--bg-color);\n",
              "    border: none;\n",
              "    border-radius: 50%;\n",
              "    cursor: pointer;\n",
              "    display: none;\n",
              "    fill: var(--fill-color);\n",
              "    height: 32px;\n",
              "    padding: 0;\n",
              "    width: 32px;\n",
              "  }\n",
              "\n",
              "  .colab-df-quickchart:hover {\n",
              "    background-color: var(--hover-bg-color);\n",
              "    box-shadow: 0 1px 2px rgba(60, 64, 67, 0.3), 0 1px 3px 1px rgba(60, 64, 67, 0.15);\n",
              "    fill: var(--button-hover-fill-color);\n",
              "  }\n",
              "\n",
              "  .colab-df-quickchart-complete:disabled,\n",
              "  .colab-df-quickchart-complete:disabled:hover {\n",
              "    background-color: var(--disabled-bg-color);\n",
              "    fill: var(--disabled-fill-color);\n",
              "    box-shadow: none;\n",
              "  }\n",
              "\n",
              "  .colab-df-spinner {\n",
              "    border: 2px solid var(--fill-color);\n",
              "    border-color: transparent;\n",
              "    border-bottom-color: var(--fill-color);\n",
              "    animation:\n",
              "      spin 1s steps(1) infinite;\n",
              "  }\n",
              "\n",
              "  @keyframes spin {\n",
              "    0% {\n",
              "      border-color: transparent;\n",
              "      border-bottom-color: var(--fill-color);\n",
              "      border-left-color: var(--fill-color);\n",
              "    }\n",
              "    20% {\n",
              "      border-color: transparent;\n",
              "      border-left-color: var(--fill-color);\n",
              "      border-top-color: var(--fill-color);\n",
              "    }\n",
              "    30% {\n",
              "      border-color: transparent;\n",
              "      border-left-color: var(--fill-color);\n",
              "      border-top-color: var(--fill-color);\n",
              "      border-right-color: var(--fill-color);\n",
              "    }\n",
              "    40% {\n",
              "      border-color: transparent;\n",
              "      border-right-color: var(--fill-color);\n",
              "      border-top-color: var(--fill-color);\n",
              "    }\n",
              "    60% {\n",
              "      border-color: transparent;\n",
              "      border-right-color: var(--fill-color);\n",
              "    }\n",
              "    80% {\n",
              "      border-color: transparent;\n",
              "      border-right-color: var(--fill-color);\n",
              "      border-bottom-color: var(--fill-color);\n",
              "    }\n",
              "    90% {\n",
              "      border-color: transparent;\n",
              "      border-bottom-color: var(--fill-color);\n",
              "    }\n",
              "  }\n",
              "</style>\n",
              "\n",
              "      <script>\n",
              "        async function quickchart(key) {\n",
              "          const quickchartButtonEl =\n",
              "            document.querySelector('#' + key + ' button');\n",
              "          quickchartButtonEl.disabled = true;  // To prevent multiple clicks.\n",
              "          quickchartButtonEl.classList.add('colab-df-spinner');\n",
              "          try {\n",
              "            const charts = await google.colab.kernel.invokeFunction(\n",
              "                'suggestCharts', [key], {});\n",
              "          } catch (error) {\n",
              "            console.error('Error during call to suggestCharts:', error);\n",
              "          }\n",
              "          quickchartButtonEl.classList.remove('colab-df-spinner');\n",
              "          quickchartButtonEl.classList.add('colab-df-quickchart-complete');\n",
              "        }\n",
              "        (() => {\n",
              "          let quickchartButtonEl =\n",
              "            document.querySelector('#df-9613d842-0f1d-450d-846e-39cd3d1a0114 button');\n",
              "          quickchartButtonEl.style.display =\n",
              "            google.colab.kernel.accessAllowed ? 'block' : 'none';\n",
              "        })();\n",
              "      </script>\n",
              "    </div>\n",
              "\n",
              "    </div>\n",
              "  </div>\n"
            ],
            "application/vnd.google.colaboratory.intrinsic+json": {
              "type": "dataframe",
              "summary": "{\n  \"name\": \"plane[plane['Duration_hours'] > 24]\",\n  \"rows\": 923,\n  \"fields\": [\n    {\n      \"column\": \"Airline\",\n      \"properties\": {\n        \"dtype\": \"category\",\n        \"num_unique_values\": 3,\n        \"samples\": [\n          \"Jet Airways\",\n          \"Air India\",\n          \"Vistara\"\n        ],\n        \"semantic_type\": \"\",\n        \"description\": \"\"\n      }\n    },\n    {\n      \"column\": \"Source\",\n      \"properties\": {\n        \"dtype\": \"category\",\n        \"num_unique_values\": 4,\n        \"samples\": [\n          \"Delhi\",\n          \"Mumbai\",\n          \"Banglore\"\n        ],\n        \"semantic_type\": \"\",\n        \"description\": \"\"\n      }\n    },\n    {\n      \"column\": \"Destination\",\n      \"properties\": {\n        \"dtype\": \"category\",\n        \"num_unique_values\": 4,\n        \"samples\": [\n          \"Cochin\",\n          \"Hyderabad\",\n          \"New Delhi\"\n        ],\n        \"semantic_type\": \"\",\n        \"description\": \"\"\n      }\n    },\n    {\n      \"column\": \"Total_Stops\",\n      \"properties\": {\n        \"dtype\": \"number\",\n        \"std\": 0,\n        \"min\": 1,\n        \"max\": 4,\n        \"num_unique_values\": 4,\n        \"samples\": [\n          2,\n          4,\n          1\n        ],\n        \"semantic_type\": \"\",\n        \"description\": \"\"\n      }\n    },\n    {\n      \"column\": \"Price\",\n      \"properties\": {\n        \"dtype\": \"number\",\n        \"std\": 3116,\n        \"min\": 4487,\n        \"max\": 31783,\n        \"num_unique_values\": 361,\n        \"samples\": [\n          21375,\n          13381,\n          18799\n        ],\n        \"semantic_type\": \"\",\n        \"description\": \"\"\n      }\n    },\n    {\n      \"column\": \"Date\",\n      \"properties\": {\n        \"dtype\": \"number\",\n        \"std\": 8,\n        \"min\": 1,\n        \"max\": 27,\n        \"num_unique_values\": 10,\n        \"samples\": [\n          24,\n          3,\n          21\n        ],\n        \"semantic_type\": \"\",\n        \"description\": \"\"\n      }\n    },\n    {\n      \"column\": \"Month\",\n      \"properties\": {\n        \"dtype\": \"number\",\n        \"std\": 1,\n        \"min\": 3,\n        \"max\": 6,\n        \"num_unique_values\": 4,\n        \"samples\": [\n          5,\n          6,\n          3\n        ],\n        \"semantic_type\": \"\",\n        \"description\": \"\"\n      }\n    },\n    {\n      \"column\": \"Year\",\n      \"properties\": {\n        \"dtype\": \"number\",\n        \"std\": 0,\n        \"min\": 2019,\n        \"max\": 2019,\n        \"num_unique_values\": 1,\n        \"samples\": [\n          2019\n        ],\n        \"semantic_type\": \"\",\n        \"description\": \"\"\n      }\n    },\n    {\n      \"column\": \"Dep_hours\",\n      \"properties\": {\n        \"dtype\": \"number\",\n        \"std\": 5,\n        \"min\": 0,\n        \"max\": 23,\n        \"num_unique_values\": 22,\n        \"samples\": [\n          8\n        ],\n        \"semantic_type\": \"\",\n        \"description\": \"\"\n      }\n    },\n    {\n      \"column\": \"Dep_min\",\n      \"properties\": {\n        \"dtype\": \"number\",\n        \"std\": 18,\n        \"min\": 0,\n        \"max\": 55,\n        \"num_unique_values\": 12,\n        \"samples\": [\n          20\n        ],\n        \"semantic_type\": \"\",\n        \"description\": \"\"\n      }\n    },\n    {\n      \"column\": \"Arrival_hours\",\n      \"properties\": {\n        \"dtype\": \"number\",\n        \"std\": 5,\n        \"min\": 0,\n        \"max\": 23,\n        \"num_unique_values\": 20,\n        \"samples\": [\n          10\n        ],\n        \"semantic_type\": \"\",\n        \"description\": \"\"\n      }\n    },\n    {\n      \"column\": \"Arrival_min\",\n      \"properties\": {\n        \"dtype\": \"number\",\n        \"std\": 15,\n        \"min\": 0,\n        \"max\": 55,\n        \"num_unique_values\": 12,\n        \"samples\": [\n          5\n        ],\n        \"semantic_type\": \"\",\n        \"description\": \"\"\n      }\n    },\n    {\n      \"column\": \"Duration_hours\",\n      \"properties\": {\n        \"dtype\": \"number\",\n        \"std\": 3,\n        \"min\": 25,\n        \"max\": 47,\n        \"num_unique_values\": 19,\n        \"samples\": [\n          25\n        ],\n        \"semantic_type\": \"\",\n        \"description\": \"\"\n      }\n    },\n    {\n      \"column\": \"Duration_min\",\n      \"properties\": {\n        \"dtype\": \"number\",\n        \"std\": 17,\n        \"min\": 0,\n        \"max\": 55,\n        \"num_unique_values\": 12,\n        \"samples\": [\n          55\n        ],\n        \"semantic_type\": \"\",\n        \"description\": \"\"\n      }\n    }\n  ]\n}"
            }
          },
          "metadata": {},
          "execution_count": 239
        }
      ]
    },
    {
      "cell_type": "code",
      "source": [
        "# Drop baris dengan durasi di atas 24 jam\n",
        "plane = plane[plane['Duration_hours'] <= 24]"
      ],
      "metadata": {
        "id": "tU-DSnaH9zWD"
      },
      "execution_count": 240,
      "outputs": []
    },
    {
      "cell_type": "markdown",
      "source": [
        "- Menghapus `Duration_hours`yang melebihi 24 jam"
      ],
      "metadata": {
        "id": "PxoWJYLKwWpA"
      }
    },
    {
      "cell_type": "code",
      "source": [
        "# Pengecekan variabel Total_Stops\n",
        "plane['Total_Stops'].value_counts()"
      ],
      "metadata": {
        "colab": {
          "base_uri": "https://localhost:8080/",
          "height": 241
        },
        "id": "JrovK-MP93oJ",
        "outputId": "e59c0bb2-c696-4cea-fe04-e9d0ffb70931"
      },
      "execution_count": 241,
      "outputs": [
        {
          "output_type": "execute_result",
          "data": {
            "text/plain": [
              "Total_Stops\n",
              "1    5153\n",
              "0    3491\n",
              "2    1096\n",
              "3      20\n",
              "Name: count, dtype: int64"
            ],
            "text/html": [
              "<div>\n",
              "<style scoped>\n",
              "    .dataframe tbody tr th:only-of-type {\n",
              "        vertical-align: middle;\n",
              "    }\n",
              "\n",
              "    .dataframe tbody tr th {\n",
              "        vertical-align: top;\n",
              "    }\n",
              "\n",
              "    .dataframe thead th {\n",
              "        text-align: right;\n",
              "    }\n",
              "</style>\n",
              "<table border=\"1\" class=\"dataframe\">\n",
              "  <thead>\n",
              "    <tr style=\"text-align: right;\">\n",
              "      <th></th>\n",
              "      <th>count</th>\n",
              "    </tr>\n",
              "    <tr>\n",
              "      <th>Total_Stops</th>\n",
              "      <th></th>\n",
              "    </tr>\n",
              "  </thead>\n",
              "  <tbody>\n",
              "    <tr>\n",
              "      <th>1</th>\n",
              "      <td>5153</td>\n",
              "    </tr>\n",
              "    <tr>\n",
              "      <th>0</th>\n",
              "      <td>3491</td>\n",
              "    </tr>\n",
              "    <tr>\n",
              "      <th>2</th>\n",
              "      <td>1096</td>\n",
              "    </tr>\n",
              "    <tr>\n",
              "      <th>3</th>\n",
              "      <td>20</td>\n",
              "    </tr>\n",
              "  </tbody>\n",
              "</table>\n",
              "</div><br><label><b>dtype:</b> int64</label>"
            ]
          },
          "metadata": {},
          "execution_count": 241
        }
      ]
    },
    {
      "cell_type": "markdown",
      "source": [
        "- Terdapat 5153 data dengan Total_Stops 1\n",
        "- Terdapat 3491 data dengan Total_Stops 0\n",
        "- Terdapat 1096 data dengan Total_Stops 2\n",
        "- Terdapat 20 data dengan Total_Stops 3\n",
        "- Insight: Terdapat missing value terhadap Total_Stops yang lebih dari 2 karena pesawat biasanya hanya melakukan transit maksimal 2 kali."
      ],
      "metadata": {
        "id": "3_MmzXOMOdSm"
      }
    },
    {
      "cell_type": "code",
      "source": [
        "# Penanganan variabel Total_Stops\n",
        "plane = plane[plane['Total_Stops'] <= 2]"
      ],
      "metadata": {
        "id": "ZxoIDRdK9-mL"
      },
      "execution_count": 242,
      "outputs": []
    },
    {
      "cell_type": "markdown",
      "source": [
        "- Total_Stops yang lebih dari 2 kali di hapus"
      ],
      "metadata": {
        "id": "UWf30-IzPDu6"
      }
    },
    {
      "cell_type": "code",
      "source": [
        "# Pengecekan Duration_hours dengan Duration_min yang isinya 0 semua\n",
        "plane[(plane['Duration_hours'] == 0) & (plane['Duration_min'] == 0)]"
      ],
      "metadata": {
        "colab": {
          "base_uri": "https://localhost:8080/",
          "height": 73
        },
        "id": "IhWrMGobBEN1",
        "outputId": "3472b1a4-579f-4d00-c0c7-d3f536d8082f"
      },
      "execution_count": 243,
      "outputs": [
        {
          "output_type": "execute_result",
          "data": {
            "text/plain": [
              "Empty DataFrame\n",
              "Columns: [Airline, Source, Destination, Total_Stops, Price, Date, Month, Year, Dep_hours, Dep_min, Arrival_hours, Arrival_min, Duration_hours, Duration_min]\n",
              "Index: []"
            ],
            "text/html": [
              "\n",
              "  <div id=\"df-8e24a927-c225-4bc1-9545-d2e87147ffd0\" class=\"colab-df-container\">\n",
              "    <div>\n",
              "<style scoped>\n",
              "    .dataframe tbody tr th:only-of-type {\n",
              "        vertical-align: middle;\n",
              "    }\n",
              "\n",
              "    .dataframe tbody tr th {\n",
              "        vertical-align: top;\n",
              "    }\n",
              "\n",
              "    .dataframe thead th {\n",
              "        text-align: right;\n",
              "    }\n",
              "</style>\n",
              "<table border=\"1\" class=\"dataframe\">\n",
              "  <thead>\n",
              "    <tr style=\"text-align: right;\">\n",
              "      <th></th>\n",
              "      <th>Airline</th>\n",
              "      <th>Source</th>\n",
              "      <th>Destination</th>\n",
              "      <th>Total_Stops</th>\n",
              "      <th>Price</th>\n",
              "      <th>Date</th>\n",
              "      <th>Month</th>\n",
              "      <th>Year</th>\n",
              "      <th>Dep_hours</th>\n",
              "      <th>Dep_min</th>\n",
              "      <th>Arrival_hours</th>\n",
              "      <th>Arrival_min</th>\n",
              "      <th>Duration_hours</th>\n",
              "      <th>Duration_min</th>\n",
              "    </tr>\n",
              "  </thead>\n",
              "  <tbody>\n",
              "  </tbody>\n",
              "</table>\n",
              "</div>\n",
              "    <div class=\"colab-df-buttons\">\n",
              "\n",
              "  <div class=\"colab-df-container\">\n",
              "    <button class=\"colab-df-convert\" onclick=\"convertToInteractive('df-8e24a927-c225-4bc1-9545-d2e87147ffd0')\"\n",
              "            title=\"Convert this dataframe to an interactive table.\"\n",
              "            style=\"display:none;\">\n",
              "\n",
              "  <svg xmlns=\"http://www.w3.org/2000/svg\" height=\"24px\" viewBox=\"0 -960 960 960\">\n",
              "    <path d=\"M120-120v-720h720v720H120Zm60-500h600v-160H180v160Zm220 220h160v-160H400v160Zm0 220h160v-160H400v160ZM180-400h160v-160H180v160Zm440 0h160v-160H620v160ZM180-180h160v-160H180v160Zm440 0h160v-160H620v160Z\"/>\n",
              "  </svg>\n",
              "    </button>\n",
              "\n",
              "  <style>\n",
              "    .colab-df-container {\n",
              "      display:flex;\n",
              "      gap: 12px;\n",
              "    }\n",
              "\n",
              "    .colab-df-convert {\n",
              "      background-color: #E8F0FE;\n",
              "      border: none;\n",
              "      border-radius: 50%;\n",
              "      cursor: pointer;\n",
              "      display: none;\n",
              "      fill: #1967D2;\n",
              "      height: 32px;\n",
              "      padding: 0 0 0 0;\n",
              "      width: 32px;\n",
              "    }\n",
              "\n",
              "    .colab-df-convert:hover {\n",
              "      background-color: #E2EBFA;\n",
              "      box-shadow: 0px 1px 2px rgba(60, 64, 67, 0.3), 0px 1px 3px 1px rgba(60, 64, 67, 0.15);\n",
              "      fill: #174EA6;\n",
              "    }\n",
              "\n",
              "    .colab-df-buttons div {\n",
              "      margin-bottom: 4px;\n",
              "    }\n",
              "\n",
              "    [theme=dark] .colab-df-convert {\n",
              "      background-color: #3B4455;\n",
              "      fill: #D2E3FC;\n",
              "    }\n",
              "\n",
              "    [theme=dark] .colab-df-convert:hover {\n",
              "      background-color: #434B5C;\n",
              "      box-shadow: 0px 1px 3px 1px rgba(0, 0, 0, 0.15);\n",
              "      filter: drop-shadow(0px 1px 2px rgba(0, 0, 0, 0.3));\n",
              "      fill: #FFFFFF;\n",
              "    }\n",
              "  </style>\n",
              "\n",
              "    <script>\n",
              "      const buttonEl =\n",
              "        document.querySelector('#df-8e24a927-c225-4bc1-9545-d2e87147ffd0 button.colab-df-convert');\n",
              "      buttonEl.style.display =\n",
              "        google.colab.kernel.accessAllowed ? 'block' : 'none';\n",
              "\n",
              "      async function convertToInteractive(key) {\n",
              "        const element = document.querySelector('#df-8e24a927-c225-4bc1-9545-d2e87147ffd0');\n",
              "        const dataTable =\n",
              "          await google.colab.kernel.invokeFunction('convertToInteractive',\n",
              "                                                    [key], {});\n",
              "        if (!dataTable) return;\n",
              "\n",
              "        const docLinkHtml = 'Like what you see? Visit the ' +\n",
              "          '<a target=\"_blank\" href=https://colab.research.google.com/notebooks/data_table.ipynb>data table notebook</a>'\n",
              "          + ' to learn more about interactive tables.';\n",
              "        element.innerHTML = '';\n",
              "        dataTable['output_type'] = 'display_data';\n",
              "        await google.colab.output.renderOutput(dataTable, element);\n",
              "        const docLink = document.createElement('div');\n",
              "        docLink.innerHTML = docLinkHtml;\n",
              "        element.appendChild(docLink);\n",
              "      }\n",
              "    </script>\n",
              "  </div>\n",
              "\n",
              "\n",
              "    </div>\n",
              "  </div>\n"
            ],
            "application/vnd.google.colaboratory.intrinsic+json": {
              "type": "dataframe",
              "repr_error": "Out of range float values are not JSON compliant: nan"
            }
          },
          "metadata": {},
          "execution_count": 243
        }
      ]
    },
    {
      "cell_type": "markdown",
      "source": [
        "- Tidak ada penerbangan dengan waktu 0 jam 0 menit"
      ],
      "metadata": {
        "id": "4UAuiJAUPSEd"
      }
    },
    {
      "cell_type": "code",
      "source": [
        "plane.describe()"
      ],
      "metadata": {
        "colab": {
          "base_uri": "https://localhost:8080/",
          "height": 320
        },
        "id": "4Zo3ybgjDq37",
        "outputId": "14a83a98-496b-4fd9-9fa3-0c157418d7d6"
      },
      "execution_count": 244,
      "outputs": [
        {
          "output_type": "execute_result",
          "data": {
            "text/plain": [
              "       Total_Stops         Price         Date        Month    Year  \\\n",
              "count  9740.000000   9740.000000  9740.000000  9740.000000  9740.0   \n",
              "mean      0.754107   8831.233060    13.541786     4.715503  2019.0   \n",
              "std       0.640721   4650.262413     8.479870     1.162205     0.0   \n",
              "min       0.000000   1759.000000     1.000000     3.000000  2019.0   \n",
              "25%       0.000000   5069.000000     6.000000     3.000000  2019.0   \n",
              "50%       1.000000   7845.000000    12.000000     5.000000  2019.0   \n",
              "75%       1.000000  12121.000000    21.000000     6.000000  2019.0   \n",
              "max       2.000000  79512.000000    27.000000     6.000000  2019.0   \n",
              "\n",
              "         Dep_hours      Dep_min  Arrival_hours  Arrival_min  Duration_hours  \\\n",
              "count  9740.000000  9740.000000    9740.000000  9740.000000     9740.000000   \n",
              "mean     12.543326    24.504620      13.200821    24.624230        8.572793   \n",
              "std       5.766557    18.775085       6.935500    16.585909        6.773175   \n",
              "min       0.000000     0.000000       0.000000     0.000000        1.000000   \n",
              "25%       8.000000     5.000000       8.000000    10.000000        2.000000   \n",
              "50%      11.000000    25.000000      14.000000    25.000000        7.000000   \n",
              "75%      18.000000    40.000000      19.000000    35.000000       13.000000   \n",
              "max      23.000000    55.000000      23.000000    55.000000       24.000000   \n",
              "\n",
              "       Duration_min  \n",
              "count   9740.000000  \n",
              "mean      28.480493  \n",
              "std       16.897434  \n",
              "min        0.000000  \n",
              "25%       15.000000  \n",
              "50%       30.000000  \n",
              "75%       45.000000  \n",
              "max       55.000000  "
            ],
            "text/html": [
              "\n",
              "  <div id=\"df-65b79dcc-f8bc-4caa-a77c-a9853c746703\" class=\"colab-df-container\">\n",
              "    <div>\n",
              "<style scoped>\n",
              "    .dataframe tbody tr th:only-of-type {\n",
              "        vertical-align: middle;\n",
              "    }\n",
              "\n",
              "    .dataframe tbody tr th {\n",
              "        vertical-align: top;\n",
              "    }\n",
              "\n",
              "    .dataframe thead th {\n",
              "        text-align: right;\n",
              "    }\n",
              "</style>\n",
              "<table border=\"1\" class=\"dataframe\">\n",
              "  <thead>\n",
              "    <tr style=\"text-align: right;\">\n",
              "      <th></th>\n",
              "      <th>Total_Stops</th>\n",
              "      <th>Price</th>\n",
              "      <th>Date</th>\n",
              "      <th>Month</th>\n",
              "      <th>Year</th>\n",
              "      <th>Dep_hours</th>\n",
              "      <th>Dep_min</th>\n",
              "      <th>Arrival_hours</th>\n",
              "      <th>Arrival_min</th>\n",
              "      <th>Duration_hours</th>\n",
              "      <th>Duration_min</th>\n",
              "    </tr>\n",
              "  </thead>\n",
              "  <tbody>\n",
              "    <tr>\n",
              "      <th>count</th>\n",
              "      <td>9740.000000</td>\n",
              "      <td>9740.000000</td>\n",
              "      <td>9740.000000</td>\n",
              "      <td>9740.000000</td>\n",
              "      <td>9740.0</td>\n",
              "      <td>9740.000000</td>\n",
              "      <td>9740.000000</td>\n",
              "      <td>9740.000000</td>\n",
              "      <td>9740.000000</td>\n",
              "      <td>9740.000000</td>\n",
              "      <td>9740.000000</td>\n",
              "    </tr>\n",
              "    <tr>\n",
              "      <th>mean</th>\n",
              "      <td>0.754107</td>\n",
              "      <td>8831.233060</td>\n",
              "      <td>13.541786</td>\n",
              "      <td>4.715503</td>\n",
              "      <td>2019.0</td>\n",
              "      <td>12.543326</td>\n",
              "      <td>24.504620</td>\n",
              "      <td>13.200821</td>\n",
              "      <td>24.624230</td>\n",
              "      <td>8.572793</td>\n",
              "      <td>28.480493</td>\n",
              "    </tr>\n",
              "    <tr>\n",
              "      <th>std</th>\n",
              "      <td>0.640721</td>\n",
              "      <td>4650.262413</td>\n",
              "      <td>8.479870</td>\n",
              "      <td>1.162205</td>\n",
              "      <td>0.0</td>\n",
              "      <td>5.766557</td>\n",
              "      <td>18.775085</td>\n",
              "      <td>6.935500</td>\n",
              "      <td>16.585909</td>\n",
              "      <td>6.773175</td>\n",
              "      <td>16.897434</td>\n",
              "    </tr>\n",
              "    <tr>\n",
              "      <th>min</th>\n",
              "      <td>0.000000</td>\n",
              "      <td>1759.000000</td>\n",
              "      <td>1.000000</td>\n",
              "      <td>3.000000</td>\n",
              "      <td>2019.0</td>\n",
              "      <td>0.000000</td>\n",
              "      <td>0.000000</td>\n",
              "      <td>0.000000</td>\n",
              "      <td>0.000000</td>\n",
              "      <td>1.000000</td>\n",
              "      <td>0.000000</td>\n",
              "    </tr>\n",
              "    <tr>\n",
              "      <th>25%</th>\n",
              "      <td>0.000000</td>\n",
              "      <td>5069.000000</td>\n",
              "      <td>6.000000</td>\n",
              "      <td>3.000000</td>\n",
              "      <td>2019.0</td>\n",
              "      <td>8.000000</td>\n",
              "      <td>5.000000</td>\n",
              "      <td>8.000000</td>\n",
              "      <td>10.000000</td>\n",
              "      <td>2.000000</td>\n",
              "      <td>15.000000</td>\n",
              "    </tr>\n",
              "    <tr>\n",
              "      <th>50%</th>\n",
              "      <td>1.000000</td>\n",
              "      <td>7845.000000</td>\n",
              "      <td>12.000000</td>\n",
              "      <td>5.000000</td>\n",
              "      <td>2019.0</td>\n",
              "      <td>11.000000</td>\n",
              "      <td>25.000000</td>\n",
              "      <td>14.000000</td>\n",
              "      <td>25.000000</td>\n",
              "      <td>7.000000</td>\n",
              "      <td>30.000000</td>\n",
              "    </tr>\n",
              "    <tr>\n",
              "      <th>75%</th>\n",
              "      <td>1.000000</td>\n",
              "      <td>12121.000000</td>\n",
              "      <td>21.000000</td>\n",
              "      <td>6.000000</td>\n",
              "      <td>2019.0</td>\n",
              "      <td>18.000000</td>\n",
              "      <td>40.000000</td>\n",
              "      <td>19.000000</td>\n",
              "      <td>35.000000</td>\n",
              "      <td>13.000000</td>\n",
              "      <td>45.000000</td>\n",
              "    </tr>\n",
              "    <tr>\n",
              "      <th>max</th>\n",
              "      <td>2.000000</td>\n",
              "      <td>79512.000000</td>\n",
              "      <td>27.000000</td>\n",
              "      <td>6.000000</td>\n",
              "      <td>2019.0</td>\n",
              "      <td>23.000000</td>\n",
              "      <td>55.000000</td>\n",
              "      <td>23.000000</td>\n",
              "      <td>55.000000</td>\n",
              "      <td>24.000000</td>\n",
              "      <td>55.000000</td>\n",
              "    </tr>\n",
              "  </tbody>\n",
              "</table>\n",
              "</div>\n",
              "    <div class=\"colab-df-buttons\">\n",
              "\n",
              "  <div class=\"colab-df-container\">\n",
              "    <button class=\"colab-df-convert\" onclick=\"convertToInteractive('df-65b79dcc-f8bc-4caa-a77c-a9853c746703')\"\n",
              "            title=\"Convert this dataframe to an interactive table.\"\n",
              "            style=\"display:none;\">\n",
              "\n",
              "  <svg xmlns=\"http://www.w3.org/2000/svg\" height=\"24px\" viewBox=\"0 -960 960 960\">\n",
              "    <path d=\"M120-120v-720h720v720H120Zm60-500h600v-160H180v160Zm220 220h160v-160H400v160Zm0 220h160v-160H400v160ZM180-400h160v-160H180v160Zm440 0h160v-160H620v160ZM180-180h160v-160H180v160Zm440 0h160v-160H620v160Z\"/>\n",
              "  </svg>\n",
              "    </button>\n",
              "\n",
              "  <style>\n",
              "    .colab-df-container {\n",
              "      display:flex;\n",
              "      gap: 12px;\n",
              "    }\n",
              "\n",
              "    .colab-df-convert {\n",
              "      background-color: #E8F0FE;\n",
              "      border: none;\n",
              "      border-radius: 50%;\n",
              "      cursor: pointer;\n",
              "      display: none;\n",
              "      fill: #1967D2;\n",
              "      height: 32px;\n",
              "      padding: 0 0 0 0;\n",
              "      width: 32px;\n",
              "    }\n",
              "\n",
              "    .colab-df-convert:hover {\n",
              "      background-color: #E2EBFA;\n",
              "      box-shadow: 0px 1px 2px rgba(60, 64, 67, 0.3), 0px 1px 3px 1px rgba(60, 64, 67, 0.15);\n",
              "      fill: #174EA6;\n",
              "    }\n",
              "\n",
              "    .colab-df-buttons div {\n",
              "      margin-bottom: 4px;\n",
              "    }\n",
              "\n",
              "    [theme=dark] .colab-df-convert {\n",
              "      background-color: #3B4455;\n",
              "      fill: #D2E3FC;\n",
              "    }\n",
              "\n",
              "    [theme=dark] .colab-df-convert:hover {\n",
              "      background-color: #434B5C;\n",
              "      box-shadow: 0px 1px 3px 1px rgba(0, 0, 0, 0.15);\n",
              "      filter: drop-shadow(0px 1px 2px rgba(0, 0, 0, 0.3));\n",
              "      fill: #FFFFFF;\n",
              "    }\n",
              "  </style>\n",
              "\n",
              "    <script>\n",
              "      const buttonEl =\n",
              "        document.querySelector('#df-65b79dcc-f8bc-4caa-a77c-a9853c746703 button.colab-df-convert');\n",
              "      buttonEl.style.display =\n",
              "        google.colab.kernel.accessAllowed ? 'block' : 'none';\n",
              "\n",
              "      async function convertToInteractive(key) {\n",
              "        const element = document.querySelector('#df-65b79dcc-f8bc-4caa-a77c-a9853c746703');\n",
              "        const dataTable =\n",
              "          await google.colab.kernel.invokeFunction('convertToInteractive',\n",
              "                                                    [key], {});\n",
              "        if (!dataTable) return;\n",
              "\n",
              "        const docLinkHtml = 'Like what you see? Visit the ' +\n",
              "          '<a target=\"_blank\" href=https://colab.research.google.com/notebooks/data_table.ipynb>data table notebook</a>'\n",
              "          + ' to learn more about interactive tables.';\n",
              "        element.innerHTML = '';\n",
              "        dataTable['output_type'] = 'display_data';\n",
              "        await google.colab.output.renderOutput(dataTable, element);\n",
              "        const docLink = document.createElement('div');\n",
              "        docLink.innerHTML = docLinkHtml;\n",
              "        element.appendChild(docLink);\n",
              "      }\n",
              "    </script>\n",
              "  </div>\n",
              "\n",
              "\n",
              "    <div id=\"df-a847cb99-6767-4e25-ba2e-289a6f5ecd25\">\n",
              "      <button class=\"colab-df-quickchart\" onclick=\"quickchart('df-a847cb99-6767-4e25-ba2e-289a6f5ecd25')\"\n",
              "                title=\"Suggest charts\"\n",
              "                style=\"display:none;\">\n",
              "\n",
              "<svg xmlns=\"http://www.w3.org/2000/svg\" height=\"24px\"viewBox=\"0 0 24 24\"\n",
              "     width=\"24px\">\n",
              "    <g>\n",
              "        <path d=\"M19 3H5c-1.1 0-2 .9-2 2v14c0 1.1.9 2 2 2h14c1.1 0 2-.9 2-2V5c0-1.1-.9-2-2-2zM9 17H7v-7h2v7zm4 0h-2V7h2v10zm4 0h-2v-4h2v4z\"/>\n",
              "    </g>\n",
              "</svg>\n",
              "      </button>\n",
              "\n",
              "<style>\n",
              "  .colab-df-quickchart {\n",
              "      --bg-color: #E8F0FE;\n",
              "      --fill-color: #1967D2;\n",
              "      --hover-bg-color: #E2EBFA;\n",
              "      --hover-fill-color: #174EA6;\n",
              "      --disabled-fill-color: #AAA;\n",
              "      --disabled-bg-color: #DDD;\n",
              "  }\n",
              "\n",
              "  [theme=dark] .colab-df-quickchart {\n",
              "      --bg-color: #3B4455;\n",
              "      --fill-color: #D2E3FC;\n",
              "      --hover-bg-color: #434B5C;\n",
              "      --hover-fill-color: #FFFFFF;\n",
              "      --disabled-bg-color: #3B4455;\n",
              "      --disabled-fill-color: #666;\n",
              "  }\n",
              "\n",
              "  .colab-df-quickchart {\n",
              "    background-color: var(--bg-color);\n",
              "    border: none;\n",
              "    border-radius: 50%;\n",
              "    cursor: pointer;\n",
              "    display: none;\n",
              "    fill: var(--fill-color);\n",
              "    height: 32px;\n",
              "    padding: 0;\n",
              "    width: 32px;\n",
              "  }\n",
              "\n",
              "  .colab-df-quickchart:hover {\n",
              "    background-color: var(--hover-bg-color);\n",
              "    box-shadow: 0 1px 2px rgba(60, 64, 67, 0.3), 0 1px 3px 1px rgba(60, 64, 67, 0.15);\n",
              "    fill: var(--button-hover-fill-color);\n",
              "  }\n",
              "\n",
              "  .colab-df-quickchart-complete:disabled,\n",
              "  .colab-df-quickchart-complete:disabled:hover {\n",
              "    background-color: var(--disabled-bg-color);\n",
              "    fill: var(--disabled-fill-color);\n",
              "    box-shadow: none;\n",
              "  }\n",
              "\n",
              "  .colab-df-spinner {\n",
              "    border: 2px solid var(--fill-color);\n",
              "    border-color: transparent;\n",
              "    border-bottom-color: var(--fill-color);\n",
              "    animation:\n",
              "      spin 1s steps(1) infinite;\n",
              "  }\n",
              "\n",
              "  @keyframes spin {\n",
              "    0% {\n",
              "      border-color: transparent;\n",
              "      border-bottom-color: var(--fill-color);\n",
              "      border-left-color: var(--fill-color);\n",
              "    }\n",
              "    20% {\n",
              "      border-color: transparent;\n",
              "      border-left-color: var(--fill-color);\n",
              "      border-top-color: var(--fill-color);\n",
              "    }\n",
              "    30% {\n",
              "      border-color: transparent;\n",
              "      border-left-color: var(--fill-color);\n",
              "      border-top-color: var(--fill-color);\n",
              "      border-right-color: var(--fill-color);\n",
              "    }\n",
              "    40% {\n",
              "      border-color: transparent;\n",
              "      border-right-color: var(--fill-color);\n",
              "      border-top-color: var(--fill-color);\n",
              "    }\n",
              "    60% {\n",
              "      border-color: transparent;\n",
              "      border-right-color: var(--fill-color);\n",
              "    }\n",
              "    80% {\n",
              "      border-color: transparent;\n",
              "      border-right-color: var(--fill-color);\n",
              "      border-bottom-color: var(--fill-color);\n",
              "    }\n",
              "    90% {\n",
              "      border-color: transparent;\n",
              "      border-bottom-color: var(--fill-color);\n",
              "    }\n",
              "  }\n",
              "</style>\n",
              "\n",
              "      <script>\n",
              "        async function quickchart(key) {\n",
              "          const quickchartButtonEl =\n",
              "            document.querySelector('#' + key + ' button');\n",
              "          quickchartButtonEl.disabled = true;  // To prevent multiple clicks.\n",
              "          quickchartButtonEl.classList.add('colab-df-spinner');\n",
              "          try {\n",
              "            const charts = await google.colab.kernel.invokeFunction(\n",
              "                'suggestCharts', [key], {});\n",
              "          } catch (error) {\n",
              "            console.error('Error during call to suggestCharts:', error);\n",
              "          }\n",
              "          quickchartButtonEl.classList.remove('colab-df-spinner');\n",
              "          quickchartButtonEl.classList.add('colab-df-quickchart-complete');\n",
              "        }\n",
              "        (() => {\n",
              "          let quickchartButtonEl =\n",
              "            document.querySelector('#df-a847cb99-6767-4e25-ba2e-289a6f5ecd25 button');\n",
              "          quickchartButtonEl.style.display =\n",
              "            google.colab.kernel.accessAllowed ? 'block' : 'none';\n",
              "        })();\n",
              "      </script>\n",
              "    </div>\n",
              "\n",
              "    </div>\n",
              "  </div>\n"
            ],
            "application/vnd.google.colaboratory.intrinsic+json": {
              "type": "dataframe",
              "summary": "{\n  \"name\": \"plane\",\n  \"rows\": 8,\n  \"fields\": [\n    {\n      \"column\": \"Total_Stops\",\n      \"properties\": {\n        \"dtype\": \"number\",\n        \"std\": 3443.337602963333,\n        \"min\": 0.0,\n        \"max\": 9740.0,\n        \"num_unique_values\": 6,\n        \"samples\": [\n          9740.0,\n          0.7541067761806981,\n          2.0\n        ],\n        \"semantic_type\": \"\",\n        \"description\": \"\"\n      }\n    },\n    {\n      \"column\": \"Price\",\n      \"properties\": {\n        \"dtype\": \"number\",\n        \"std\": 25792.361436897496,\n        \"min\": 1759.0,\n        \"max\": 79512.0,\n        \"num_unique_values\": 8,\n        \"samples\": [\n          8831.233059548254,\n          7845.0,\n          9740.0\n        ],\n        \"semantic_type\": \"\",\n        \"description\": \"\"\n      }\n    },\n    {\n      \"column\": \"Date\",\n      \"properties\": {\n        \"dtype\": \"number\",\n        \"std\": 3439.123599877348,\n        \"min\": 1.0,\n        \"max\": 9740.0,\n        \"num_unique_values\": 8,\n        \"samples\": [\n          13.541786447638604,\n          12.0,\n          9740.0\n        ],\n        \"semantic_type\": \"\",\n        \"description\": \"\"\n      }\n    },\n    {\n      \"column\": \"Month\",\n      \"properties\": {\n        \"dtype\": \"number\",\n        \"std\": 3442.151883593313,\n        \"min\": 1.1622046667132884,\n        \"max\": 9740.0,\n        \"num_unique_values\": 6,\n        \"samples\": [\n          9740.0,\n          4.715503080082136,\n          6.0\n        ],\n        \"semantic_type\": \"\",\n        \"description\": \"\"\n      }\n    },\n    {\n      \"column\": \"Year\",\n      \"properties\": {\n        \"dtype\": \"number\",\n        \"std\": 2918.5637735023024,\n        \"min\": 0.0,\n        \"max\": 9740.0,\n        \"num_unique_values\": 3,\n        \"samples\": [\n          9740.0,\n          2019.0,\n          0.0\n        ],\n        \"semantic_type\": \"\",\n        \"description\": \"\"\n      }\n    },\n    {\n      \"column\": \"Dep_hours\",\n      \"properties\": {\n        \"dtype\": \"number\",\n        \"std\": 3439.662098587128,\n        \"min\": 0.0,\n        \"max\": 9740.0,\n        \"num_unique_values\": 8,\n        \"samples\": [\n          12.543326488706365,\n          11.0,\n          9740.0\n        ],\n        \"semantic_type\": \"\",\n        \"description\": \"\"\n      }\n    },\n    {\n      \"column\": \"Dep_min\",\n      \"properties\": {\n        \"dtype\": \"number\",\n        \"std\": 3435.1559985381714,\n        \"min\": 0.0,\n        \"max\": 9740.0,\n        \"num_unique_values\": 8,\n        \"samples\": [\n          24.504620123203285,\n          25.0,\n          9740.0\n        ],\n        \"semantic_type\": \"\",\n        \"description\": \"\"\n      }\n    },\n    {\n      \"column\": \"Arrival_hours\",\n      \"properties\": {\n        \"dtype\": \"number\",\n        \"std\": 3439.3679974957645,\n        \"min\": 0.0,\n        \"max\": 9740.0,\n        \"num_unique_values\": 8,\n        \"samples\": [\n          13.20082135523614,\n          14.0,\n          9740.0\n        ],\n        \"semantic_type\": \"\",\n        \"description\": \"\"\n      }\n    },\n    {\n      \"column\": \"Arrival_min\",\n      \"properties\": {\n        \"dtype\": \"number\",\n        \"std\": 3435.2548570507615,\n        \"min\": 0.0,\n        \"max\": 9740.0,\n        \"num_unique_values\": 8,\n        \"samples\": [\n          24.62422997946612,\n          25.0,\n          9740.0\n        ],\n        \"semantic_type\": \"\",\n        \"description\": \"\"\n      }\n    },\n    {\n      \"column\": \"Duration_hours\",\n      \"properties\": {\n        \"dtype\": \"number\",\n        \"std\": 3440.468615506857,\n        \"min\": 1.0,\n        \"max\": 9740.0,\n        \"num_unique_values\": 8,\n        \"samples\": [\n          8.572792607802874,\n          7.0,\n          9740.0\n        ],\n        \"semantic_type\": \"\",\n        \"description\": \"\"\n      }\n    },\n    {\n      \"column\": \"Duration_min\",\n      \"properties\": {\n        \"dtype\": \"number\",\n        \"std\": 3434.0380424666087,\n        \"min\": 0.0,\n        \"max\": 9740.0,\n        \"num_unique_values\": 8,\n        \"samples\": [\n          28.480492813141684,\n          30.0,\n          9740.0\n        ],\n        \"semantic_type\": \"\",\n        \"description\": \"\"\n      }\n    }\n  ]\n}"
            }
          },
          "metadata": {},
          "execution_count": 244
        }
      ]
    },
    {
      "cell_type": "code",
      "source": [
        "plane.head()"
      ],
      "metadata": {
        "colab": {
          "base_uri": "https://localhost:8080/",
          "height": 243
        },
        "id": "kzIoq7jEEN6q",
        "outputId": "ff4924e3-522c-4092-ed77-26cf956b1e6e"
      },
      "execution_count": 245,
      "outputs": [
        {
          "output_type": "execute_result",
          "data": {
            "text/plain": [
              "       Airline    Source Destination  Total_Stops  Price  Date  Month  Year  \\\n",
              "0       IndiGo  Banglore   New Delhi            0   3897    24      3  2019   \n",
              "1    Air India   Kolkata    Banglore            2   7662     1      5  2019   \n",
              "2  Jet Airways     Delhi      Cochin            2  13882     9      6  2019   \n",
              "3       IndiGo   Kolkata    Banglore            1   6218    12      5  2019   \n",
              "4       IndiGo  Banglore   New Delhi            1  13302     1      3  2019   \n",
              "\n",
              "   Dep_hours  Dep_min  Arrival_hours  Arrival_min  Duration_hours  \\\n",
              "0         22       20              1           10               2   \n",
              "1          5       50             13           15               7   \n",
              "2          9       25              4           25              19   \n",
              "3         18        5             23           30               5   \n",
              "4         16       50             21           35               4   \n",
              "\n",
              "   Duration_min  \n",
              "0            50  \n",
              "1            25  \n",
              "2             0  \n",
              "3            25  \n",
              "4            45  "
            ],
            "text/html": [
              "\n",
              "  <div id=\"df-2ac733d5-9f1f-4139-be76-1e0a553f4450\" class=\"colab-df-container\">\n",
              "    <div>\n",
              "<style scoped>\n",
              "    .dataframe tbody tr th:only-of-type {\n",
              "        vertical-align: middle;\n",
              "    }\n",
              "\n",
              "    .dataframe tbody tr th {\n",
              "        vertical-align: top;\n",
              "    }\n",
              "\n",
              "    .dataframe thead th {\n",
              "        text-align: right;\n",
              "    }\n",
              "</style>\n",
              "<table border=\"1\" class=\"dataframe\">\n",
              "  <thead>\n",
              "    <tr style=\"text-align: right;\">\n",
              "      <th></th>\n",
              "      <th>Airline</th>\n",
              "      <th>Source</th>\n",
              "      <th>Destination</th>\n",
              "      <th>Total_Stops</th>\n",
              "      <th>Price</th>\n",
              "      <th>Date</th>\n",
              "      <th>Month</th>\n",
              "      <th>Year</th>\n",
              "      <th>Dep_hours</th>\n",
              "      <th>Dep_min</th>\n",
              "      <th>Arrival_hours</th>\n",
              "      <th>Arrival_min</th>\n",
              "      <th>Duration_hours</th>\n",
              "      <th>Duration_min</th>\n",
              "    </tr>\n",
              "  </thead>\n",
              "  <tbody>\n",
              "    <tr>\n",
              "      <th>0</th>\n",
              "      <td>IndiGo</td>\n",
              "      <td>Banglore</td>\n",
              "      <td>New Delhi</td>\n",
              "      <td>0</td>\n",
              "      <td>3897</td>\n",
              "      <td>24</td>\n",
              "      <td>3</td>\n",
              "      <td>2019</td>\n",
              "      <td>22</td>\n",
              "      <td>20</td>\n",
              "      <td>1</td>\n",
              "      <td>10</td>\n",
              "      <td>2</td>\n",
              "      <td>50</td>\n",
              "    </tr>\n",
              "    <tr>\n",
              "      <th>1</th>\n",
              "      <td>Air India</td>\n",
              "      <td>Kolkata</td>\n",
              "      <td>Banglore</td>\n",
              "      <td>2</td>\n",
              "      <td>7662</td>\n",
              "      <td>1</td>\n",
              "      <td>5</td>\n",
              "      <td>2019</td>\n",
              "      <td>5</td>\n",
              "      <td>50</td>\n",
              "      <td>13</td>\n",
              "      <td>15</td>\n",
              "      <td>7</td>\n",
              "      <td>25</td>\n",
              "    </tr>\n",
              "    <tr>\n",
              "      <th>2</th>\n",
              "      <td>Jet Airways</td>\n",
              "      <td>Delhi</td>\n",
              "      <td>Cochin</td>\n",
              "      <td>2</td>\n",
              "      <td>13882</td>\n",
              "      <td>9</td>\n",
              "      <td>6</td>\n",
              "      <td>2019</td>\n",
              "      <td>9</td>\n",
              "      <td>25</td>\n",
              "      <td>4</td>\n",
              "      <td>25</td>\n",
              "      <td>19</td>\n",
              "      <td>0</td>\n",
              "    </tr>\n",
              "    <tr>\n",
              "      <th>3</th>\n",
              "      <td>IndiGo</td>\n",
              "      <td>Kolkata</td>\n",
              "      <td>Banglore</td>\n",
              "      <td>1</td>\n",
              "      <td>6218</td>\n",
              "      <td>12</td>\n",
              "      <td>5</td>\n",
              "      <td>2019</td>\n",
              "      <td>18</td>\n",
              "      <td>5</td>\n",
              "      <td>23</td>\n",
              "      <td>30</td>\n",
              "      <td>5</td>\n",
              "      <td>25</td>\n",
              "    </tr>\n",
              "    <tr>\n",
              "      <th>4</th>\n",
              "      <td>IndiGo</td>\n",
              "      <td>Banglore</td>\n",
              "      <td>New Delhi</td>\n",
              "      <td>1</td>\n",
              "      <td>13302</td>\n",
              "      <td>1</td>\n",
              "      <td>3</td>\n",
              "      <td>2019</td>\n",
              "      <td>16</td>\n",
              "      <td>50</td>\n",
              "      <td>21</td>\n",
              "      <td>35</td>\n",
              "      <td>4</td>\n",
              "      <td>45</td>\n",
              "    </tr>\n",
              "  </tbody>\n",
              "</table>\n",
              "</div>\n",
              "    <div class=\"colab-df-buttons\">\n",
              "\n",
              "  <div class=\"colab-df-container\">\n",
              "    <button class=\"colab-df-convert\" onclick=\"convertToInteractive('df-2ac733d5-9f1f-4139-be76-1e0a553f4450')\"\n",
              "            title=\"Convert this dataframe to an interactive table.\"\n",
              "            style=\"display:none;\">\n",
              "\n",
              "  <svg xmlns=\"http://www.w3.org/2000/svg\" height=\"24px\" viewBox=\"0 -960 960 960\">\n",
              "    <path d=\"M120-120v-720h720v720H120Zm60-500h600v-160H180v160Zm220 220h160v-160H400v160Zm0 220h160v-160H400v160ZM180-400h160v-160H180v160Zm440 0h160v-160H620v160ZM180-180h160v-160H180v160Zm440 0h160v-160H620v160Z\"/>\n",
              "  </svg>\n",
              "    </button>\n",
              "\n",
              "  <style>\n",
              "    .colab-df-container {\n",
              "      display:flex;\n",
              "      gap: 12px;\n",
              "    }\n",
              "\n",
              "    .colab-df-convert {\n",
              "      background-color: #E8F0FE;\n",
              "      border: none;\n",
              "      border-radius: 50%;\n",
              "      cursor: pointer;\n",
              "      display: none;\n",
              "      fill: #1967D2;\n",
              "      height: 32px;\n",
              "      padding: 0 0 0 0;\n",
              "      width: 32px;\n",
              "    }\n",
              "\n",
              "    .colab-df-convert:hover {\n",
              "      background-color: #E2EBFA;\n",
              "      box-shadow: 0px 1px 2px rgba(60, 64, 67, 0.3), 0px 1px 3px 1px rgba(60, 64, 67, 0.15);\n",
              "      fill: #174EA6;\n",
              "    }\n",
              "\n",
              "    .colab-df-buttons div {\n",
              "      margin-bottom: 4px;\n",
              "    }\n",
              "\n",
              "    [theme=dark] .colab-df-convert {\n",
              "      background-color: #3B4455;\n",
              "      fill: #D2E3FC;\n",
              "    }\n",
              "\n",
              "    [theme=dark] .colab-df-convert:hover {\n",
              "      background-color: #434B5C;\n",
              "      box-shadow: 0px 1px 3px 1px rgba(0, 0, 0, 0.15);\n",
              "      filter: drop-shadow(0px 1px 2px rgba(0, 0, 0, 0.3));\n",
              "      fill: #FFFFFF;\n",
              "    }\n",
              "  </style>\n",
              "\n",
              "    <script>\n",
              "      const buttonEl =\n",
              "        document.querySelector('#df-2ac733d5-9f1f-4139-be76-1e0a553f4450 button.colab-df-convert');\n",
              "      buttonEl.style.display =\n",
              "        google.colab.kernel.accessAllowed ? 'block' : 'none';\n",
              "\n",
              "      async function convertToInteractive(key) {\n",
              "        const element = document.querySelector('#df-2ac733d5-9f1f-4139-be76-1e0a553f4450');\n",
              "        const dataTable =\n",
              "          await google.colab.kernel.invokeFunction('convertToInteractive',\n",
              "                                                    [key], {});\n",
              "        if (!dataTable) return;\n",
              "\n",
              "        const docLinkHtml = 'Like what you see? Visit the ' +\n",
              "          '<a target=\"_blank\" href=https://colab.research.google.com/notebooks/data_table.ipynb>data table notebook</a>'\n",
              "          + ' to learn more about interactive tables.';\n",
              "        element.innerHTML = '';\n",
              "        dataTable['output_type'] = 'display_data';\n",
              "        await google.colab.output.renderOutput(dataTable, element);\n",
              "        const docLink = document.createElement('div');\n",
              "        docLink.innerHTML = docLinkHtml;\n",
              "        element.appendChild(docLink);\n",
              "      }\n",
              "    </script>\n",
              "  </div>\n",
              "\n",
              "\n",
              "    <div id=\"df-e5f1f281-315b-4ee4-8d88-fb288ddab9d5\">\n",
              "      <button class=\"colab-df-quickchart\" onclick=\"quickchart('df-e5f1f281-315b-4ee4-8d88-fb288ddab9d5')\"\n",
              "                title=\"Suggest charts\"\n",
              "                style=\"display:none;\">\n",
              "\n",
              "<svg xmlns=\"http://www.w3.org/2000/svg\" height=\"24px\"viewBox=\"0 0 24 24\"\n",
              "     width=\"24px\">\n",
              "    <g>\n",
              "        <path d=\"M19 3H5c-1.1 0-2 .9-2 2v14c0 1.1.9 2 2 2h14c1.1 0 2-.9 2-2V5c0-1.1-.9-2-2-2zM9 17H7v-7h2v7zm4 0h-2V7h2v10zm4 0h-2v-4h2v4z\"/>\n",
              "    </g>\n",
              "</svg>\n",
              "      </button>\n",
              "\n",
              "<style>\n",
              "  .colab-df-quickchart {\n",
              "      --bg-color: #E8F0FE;\n",
              "      --fill-color: #1967D2;\n",
              "      --hover-bg-color: #E2EBFA;\n",
              "      --hover-fill-color: #174EA6;\n",
              "      --disabled-fill-color: #AAA;\n",
              "      --disabled-bg-color: #DDD;\n",
              "  }\n",
              "\n",
              "  [theme=dark] .colab-df-quickchart {\n",
              "      --bg-color: #3B4455;\n",
              "      --fill-color: #D2E3FC;\n",
              "      --hover-bg-color: #434B5C;\n",
              "      --hover-fill-color: #FFFFFF;\n",
              "      --disabled-bg-color: #3B4455;\n",
              "      --disabled-fill-color: #666;\n",
              "  }\n",
              "\n",
              "  .colab-df-quickchart {\n",
              "    background-color: var(--bg-color);\n",
              "    border: none;\n",
              "    border-radius: 50%;\n",
              "    cursor: pointer;\n",
              "    display: none;\n",
              "    fill: var(--fill-color);\n",
              "    height: 32px;\n",
              "    padding: 0;\n",
              "    width: 32px;\n",
              "  }\n",
              "\n",
              "  .colab-df-quickchart:hover {\n",
              "    background-color: var(--hover-bg-color);\n",
              "    box-shadow: 0 1px 2px rgba(60, 64, 67, 0.3), 0 1px 3px 1px rgba(60, 64, 67, 0.15);\n",
              "    fill: var(--button-hover-fill-color);\n",
              "  }\n",
              "\n",
              "  .colab-df-quickchart-complete:disabled,\n",
              "  .colab-df-quickchart-complete:disabled:hover {\n",
              "    background-color: var(--disabled-bg-color);\n",
              "    fill: var(--disabled-fill-color);\n",
              "    box-shadow: none;\n",
              "  }\n",
              "\n",
              "  .colab-df-spinner {\n",
              "    border: 2px solid var(--fill-color);\n",
              "    border-color: transparent;\n",
              "    border-bottom-color: var(--fill-color);\n",
              "    animation:\n",
              "      spin 1s steps(1) infinite;\n",
              "  }\n",
              "\n",
              "  @keyframes spin {\n",
              "    0% {\n",
              "      border-color: transparent;\n",
              "      border-bottom-color: var(--fill-color);\n",
              "      border-left-color: var(--fill-color);\n",
              "    }\n",
              "    20% {\n",
              "      border-color: transparent;\n",
              "      border-left-color: var(--fill-color);\n",
              "      border-top-color: var(--fill-color);\n",
              "    }\n",
              "    30% {\n",
              "      border-color: transparent;\n",
              "      border-left-color: var(--fill-color);\n",
              "      border-top-color: var(--fill-color);\n",
              "      border-right-color: var(--fill-color);\n",
              "    }\n",
              "    40% {\n",
              "      border-color: transparent;\n",
              "      border-right-color: var(--fill-color);\n",
              "      border-top-color: var(--fill-color);\n",
              "    }\n",
              "    60% {\n",
              "      border-color: transparent;\n",
              "      border-right-color: var(--fill-color);\n",
              "    }\n",
              "    80% {\n",
              "      border-color: transparent;\n",
              "      border-right-color: var(--fill-color);\n",
              "      border-bottom-color: var(--fill-color);\n",
              "    }\n",
              "    90% {\n",
              "      border-color: transparent;\n",
              "      border-bottom-color: var(--fill-color);\n",
              "    }\n",
              "  }\n",
              "</style>\n",
              "\n",
              "      <script>\n",
              "        async function quickchart(key) {\n",
              "          const quickchartButtonEl =\n",
              "            document.querySelector('#' + key + ' button');\n",
              "          quickchartButtonEl.disabled = true;  // To prevent multiple clicks.\n",
              "          quickchartButtonEl.classList.add('colab-df-spinner');\n",
              "          try {\n",
              "            const charts = await google.colab.kernel.invokeFunction(\n",
              "                'suggestCharts', [key], {});\n",
              "          } catch (error) {\n",
              "            console.error('Error during call to suggestCharts:', error);\n",
              "          }\n",
              "          quickchartButtonEl.classList.remove('colab-df-spinner');\n",
              "          quickchartButtonEl.classList.add('colab-df-quickchart-complete');\n",
              "        }\n",
              "        (() => {\n",
              "          let quickchartButtonEl =\n",
              "            document.querySelector('#df-e5f1f281-315b-4ee4-8d88-fb288ddab9d5 button');\n",
              "          quickchartButtonEl.style.display =\n",
              "            google.colab.kernel.accessAllowed ? 'block' : 'none';\n",
              "        })();\n",
              "      </script>\n",
              "    </div>\n",
              "\n",
              "    </div>\n",
              "  </div>\n"
            ],
            "application/vnd.google.colaboratory.intrinsic+json": {
              "type": "dataframe",
              "variable_name": "plane",
              "summary": "{\n  \"name\": \"plane\",\n  \"rows\": 9740,\n  \"fields\": [\n    {\n      \"column\": \"Airline\",\n      \"properties\": {\n        \"dtype\": \"category\",\n        \"num_unique_values\": 12,\n        \"samples\": [\n          \"Multiple carriers Premium economy\",\n          \"Jet Airways Business\",\n          \"IndiGo\"\n        ],\n        \"semantic_type\": \"\",\n        \"description\": \"\"\n      }\n    },\n    {\n      \"column\": \"Source\",\n      \"properties\": {\n        \"dtype\": \"category\",\n        \"num_unique_values\": 5,\n        \"samples\": [\n          \"Kolkata\",\n          \"Mumbai\",\n          \"Delhi\"\n        ],\n        \"semantic_type\": \"\",\n        \"description\": \"\"\n      }\n    },\n    {\n      \"column\": \"Destination\",\n      \"properties\": {\n        \"dtype\": \"category\",\n        \"num_unique_values\": 6,\n        \"samples\": [\n          \"New Delhi\",\n          \"Banglore\",\n          \"Hyderabad\"\n        ],\n        \"semantic_type\": \"\",\n        \"description\": \"\"\n      }\n    },\n    {\n      \"column\": \"Total_Stops\",\n      \"properties\": {\n        \"dtype\": \"number\",\n        \"std\": 0,\n        \"min\": 0,\n        \"max\": 2,\n        \"num_unique_values\": 3,\n        \"samples\": [\n          0,\n          2,\n          1\n        ],\n        \"semantic_type\": \"\",\n        \"description\": \"\"\n      }\n    },\n    {\n      \"column\": \"Price\",\n      \"properties\": {\n        \"dtype\": \"number\",\n        \"std\": 4650,\n        \"min\": 1759,\n        \"max\": 79512,\n        \"num_unique_values\": 1724,\n        \"samples\": [\n          14237,\n          8588,\n          8052\n        ],\n        \"semantic_type\": \"\",\n        \"description\": \"\"\n      }\n    },\n    {\n      \"column\": \"Date\",\n      \"properties\": {\n        \"dtype\": \"number\",\n        \"std\": 8,\n        \"min\": 1,\n        \"max\": 27,\n        \"num_unique_values\": 10,\n        \"samples\": [\n          21,\n          1,\n          18\n        ],\n        \"semantic_type\": \"\",\n        \"description\": \"\"\n      }\n    },\n    {\n      \"column\": \"Month\",\n      \"properties\": {\n        \"dtype\": \"number\",\n        \"std\": 1,\n        \"min\": 3,\n        \"max\": 6,\n        \"num_unique_values\": 4,\n        \"samples\": [\n          5,\n          4,\n          3\n        ],\n        \"semantic_type\": \"\",\n        \"description\": \"\"\n      }\n    },\n    {\n      \"column\": \"Year\",\n      \"properties\": {\n        \"dtype\": \"number\",\n        \"std\": 0,\n        \"min\": 2019,\n        \"max\": 2019,\n        \"num_unique_values\": 1,\n        \"samples\": [\n          2019\n        ],\n        \"semantic_type\": \"\",\n        \"description\": \"\"\n      }\n    },\n    {\n      \"column\": \"Dep_hours\",\n      \"properties\": {\n        \"dtype\": \"number\",\n        \"std\": 5,\n        \"min\": 0,\n        \"max\": 23,\n        \"num_unique_values\": 24,\n        \"samples\": [\n          21\n        ],\n        \"semantic_type\": \"\",\n        \"description\": \"\"\n      }\n    },\n    {\n      \"column\": \"Dep_min\",\n      \"properties\": {\n        \"dtype\": \"number\",\n        \"std\": 18,\n        \"min\": 0,\n        \"max\": 55,\n        \"num_unique_values\": 12,\n        \"samples\": [\n          35\n        ],\n        \"semantic_type\": \"\",\n        \"description\": \"\"\n      }\n    },\n    {\n      \"column\": \"Arrival_hours\",\n      \"properties\": {\n        \"dtype\": \"number\",\n        \"std\": 6,\n        \"min\": 0,\n        \"max\": 23,\n        \"num_unique_values\": 24,\n        \"samples\": [\n          19\n        ],\n        \"semantic_type\": \"\",\n        \"description\": \"\"\n      }\n    },\n    {\n      \"column\": \"Arrival_min\",\n      \"properties\": {\n        \"dtype\": \"number\",\n        \"std\": 16,\n        \"min\": 0,\n        \"max\": 55,\n        \"num_unique_values\": 12,\n        \"samples\": [\n          45\n        ],\n        \"semantic_type\": \"\",\n        \"description\": \"\"\n      }\n    },\n    {\n      \"column\": \"Duration_hours\",\n      \"properties\": {\n        \"dtype\": \"number\",\n        \"std\": 6,\n        \"min\": 1,\n        \"max\": 24,\n        \"num_unique_values\": 24,\n        \"samples\": [\n          12\n        ],\n        \"semantic_type\": \"\",\n        \"description\": \"\"\n      }\n    },\n    {\n      \"column\": \"Duration_min\",\n      \"properties\": {\n        \"dtype\": \"number\",\n        \"std\": 16,\n        \"min\": 0,\n        \"max\": 55,\n        \"num_unique_values\": 12,\n        \"samples\": [\n          55\n        ],\n        \"semantic_type\": \"\",\n        \"description\": \"\"\n      }\n    }\n  ]\n}"
            }
          },
          "metadata": {},
          "execution_count": 245
        }
      ]
    },
    {
      "cell_type": "code",
      "source": [
        "sns.boxplot(data=plane, x='Price')\n",
        "plt.title('Boxplot of Ticket Prices')\n",
        "plt.show()"
      ],
      "metadata": {
        "colab": {
          "base_uri": "https://localhost:8080/",
          "height": 472
        },
        "id": "K4Kmsc1YFAGR",
        "outputId": "3babdb4d-cf7a-485e-b361-68b10d8cbe95"
      },
      "execution_count": 246,
      "outputs": [
        {
          "output_type": "display_data",
          "data": {
            "text/plain": [
              "<Figure size 640x480 with 1 Axes>"
            ],
            "image/png": "[encoded data removed]"
          },
          "metadata": {}
        }
      ]
    },
    {
      "cell_type": "markdown",
      "source": [
        "- Terdapat banyak outlier dari data Price yang kemungkinan data Price yang dianggap oulier artinya tidak wajar tiket pesawat dengan harga segitu. Oleh karena itu sebaiknya dilakukan penghapusan outlier."
      ],
      "metadata": {
        "id": "q9lTivA8PoqG"
      }
    },
    {
      "cell_type": "code",
      "source": [
        "# Hitung Q1, Q3 dan IQR\n",
        "Q1 = plane['Price'].quantile(0.25)\n",
        "Q3 = plane['Price'].quantile(0.75)\n",
        "IQR = Q3 - Q1\n",
        "\n",
        "# Hitung batas bawah dan batas atas\n",
        "lower_bound = Q1 - 1.5 * IQR\n",
        "upper_bound = Q3 + 1.5 * IQR\n",
        "\n",
        "# Filter data yang tidak termasuk outlier\n",
        "plane_no_outliers = plane[(plane['Price'] >= lower_bound) & (plane['Price'] <= upper_bound)]\n",
        "\n",
        "# Boxplot setelah menghapus outlier\n",
        "sns.boxplot(data=plane_no_outliers, x='Price')\n",
        "plt.title('Boxplot of Ticket Prices (Outliers Removed)')\n",
        "plt.show()"
      ],
      "metadata": {
        "colab": {
          "base_uri": "https://localhost:8080/",
          "height": 472
        },
        "id": "YMzji4zOGt23",
        "outputId": "4eb77a27-0483-4837-fd76-c5472d2d0bb4"
      },
      "execution_count": 247,
      "outputs": [
        {
          "output_type": "display_data",
          "data": {
            "text/plain": [
              "<Figure size 640x480 with 1 Axes>"
            ],
            "image/png": "[encoded data removed]"
          },
          "metadata": {}
        }
      ]
    },
    {
      "cell_type": "markdown",
      "source": [
        "- Setelah dilakukan penghapusan outlier, terdapat masih ada 2 outlier yang sangat dekat dengan batas IQR, nilai ini sudah tidak perlu dihapus karena tidak terlalu berpengaruh untuk penganalisan selanjutnya sebab posisinya sudah sangat dekat dengan IQR."
      ],
      "metadata": {
        "id": "ywHKPwboQAAQ"
      }
    },
    {
      "cell_type": "markdown",
      "source": [
        "### Exploratory Data Analysis - Univariate Analysis"
      ],
      "metadata": {
        "id": "r2zAc_HyHIT8"
      }
    },
    {
      "cell_type": "code",
      "source": [
        "plane.info()"
      ],
      "metadata": {
        "colab": {
          "base_uri": "https://localhost:8080/"
        },
        "id": "t8bFA5WMVURQ",
        "outputId": "56a2b7d9-d748-4df9-989d-df2d57b6bff5"
      },
      "execution_count": 248,
      "outputs": [
        {
          "output_type": "stream",
          "name": "stdout",
          "text": [
            "<class 'pandas.core.frame.DataFrame'>\n",
            "Index: 9740 entries, 0 to 10682\n",
            "Data columns (total 14 columns):\n",
            " #   Column          Non-Null Count  Dtype \n",
            "---  ------          --------------  ----- \n",
            " 0   Airline         9740 non-null   object\n",
            " 1   Source          9740 non-null   object\n",
            " 2   Destination     9740 non-null   object\n",
            " 3   Total_Stops     9740 non-null   int64 \n",
            " 4   Price           9740 non-null   int64 \n",
            " 5   Date            9740 non-null   int64 \n",
            " 6   Month           9740 non-null   int64 \n",
            " 7   Year            9740 non-null   int64 \n",
            " 8   Dep_hours       9740 non-null   int64 \n",
            " 9   Dep_min         9740 non-null   int64 \n",
            " 10  Arrival_hours   9740 non-null   int64 \n",
            " 11  Arrival_min     9740 non-null   int64 \n",
            " 12  Duration_hours  9740 non-null   int64 \n",
            " 13  Duration_min    9740 non-null   int64 \n",
            "dtypes: int64(11), object(3)\n",
            "memory usage: 1.1+ MB\n"
          ]
        }
      ]
    },
    {
      "cell_type": "code",
      "source": [
        "categorical_features = [\n",
        "    'Airline', 'Source', 'Destination'\n",
        "]\n",
        "\n",
        "numerical_features = [\n",
        "    'Total_Stops', 'Date', 'Month', 'Year','Dep_hours', 'Dep_min',\n",
        "    'Arrival_hours', 'Arrival_min',\n",
        "    'Duration_hours', 'Duration_min'\n",
        "]\n",
        "\n",
        "target = 'Price'"
      ],
      "metadata": {
        "id": "hju2EGvzUKPx"
      },
      "execution_count": 249,
      "outputs": []
    },
    {
      "cell_type": "markdown",
      "source": [
        "- Dilakukan pendefinisian pada `categorical_features` yang berisi variabel kategorik yaitu ada `Airline`, `Source`, dan `Destination`\n",
        "- Dilakukan pendefinisian pada `numerical_features` yang berisi variabel numerik yaitu ada `Total_hours`, `Date`, `Month`, `Year`, `Dep_hours`, `Dep_min`, `Arrival_hours`, `Arrival_min`, `Duration_hours`, dan `Duration_min`\n",
        "- Variabel `Price` menjadi target karena model ini nantinya akan digunakan untuk memprediksi harga"
      ],
      "metadata": {
        "id": "vxwMWSroQYPY"
      }
    },
    {
      "cell_type": "code",
      "source": [
        "for feature in categorical_features:\n",
        "    count = plane[feature].value_counts().sort_index()\n",
        "    percent = 100 * plane[feature].value_counts(normalize=True).sort_index()\n",
        "\n",
        "    plane_categorical = pd.DataFrame({\n",
        "        'Jumlah Sampel': count,\n",
        "        'Persentase (%)': percent.round(1)\n",
        "    })\n",
        "\n",
        "    print(f\"\\n=== Fitur: {feature} ===\")\n",
        "    print(plane_categorical)\n",
        "\n",
        "    count.plot(kind='bar', title=f'Distribusi {feature}', figsize=(8,4))\n",
        "    plt.ylabel('Jumlah')\n",
        "    plt.xlabel(feature)\n",
        "    plt.xticks(rotation=45)\n",
        "    plt.tight_layout()\n",
        "    plt.show()"
      ],
      "metadata": {
        "colab": {
          "base_uri": "https://localhost:8080/",
          "height": 1000
        },
        "id": "hZwYnJw7V7_4",
        "outputId": "f059ca3e-00d4-494b-f01a-73e0619553a8"
      },
      "execution_count": 250,
      "outputs": [
        {
          "output_type": "stream",
          "name": "stdout",
          "text": [
            "\n",
            "=== Fitur: Airline ===\n",
            "                                   Jumlah Sampel  Persentase (%)\n",
            "Airline                                                         \n",
            "Air Asia                                     319             3.3\n",
            "Air India                                   1359            14.0\n",
            "GoAir                                        194             2.0\n",
            "IndiGo                                      2053            21.1\n",
            "Jet Airways                                 3377            34.7\n",
            "Jet Airways Business                           6             0.1\n",
            "Multiple carriers                           1188            12.2\n",
            "Multiple carriers Premium economy             13             0.1\n",
            "SpiceJet                                     818             8.4\n",
            "Trujet                                         1             0.0\n",
            "Vistara                                      409             4.2\n",
            "Vistara Premium economy                        3             0.0\n"
          ]
        },
        {
          "output_type": "display_data",
          "data": {
            "text/plain": [
              "<Figure size 800x400 with 1 Axes>"
            ],
            "image/png": "[encoded data removed]"
          },
          "metadata": {}
        },
        {
          "output_type": "stream",
          "name": "stdout",
          "text": [
            "\n",
            "=== Fitur: Source ===\n",
            "          Jumlah Sampel  Persentase (%)\n",
            "Source                                 \n",
            "Banglore           2121            21.8\n",
            "Chennai             381             3.9\n",
            "Delhi              4059            41.7\n",
            "Kolkata            2501            25.7\n",
            "Mumbai              678             7.0\n"
          ]
        },
        {
          "output_type": "display_data",
          "data": {
            "text/plain": [
              "<Figure size 800x400 with 1 Axes>"
            ],
            "image/png": "[encoded data removed]"
          },
          "metadata": {}
        },
        {
          "output_type": "stream",
          "name": "stdout",
          "text": [
            "\n",
            "=== Fitur: Destination ===\n",
            "             Jumlah Sampel  Persentase (%)\n",
            "Destination                               \n",
            "Banglore              2501            25.7\n",
            "Cochin                4059            41.7\n",
            "Delhi                 1265            13.0\n",
            "Hyderabad              678             7.0\n",
            "Kolkata                381             3.9\n",
            "New Delhi              856             8.8\n"
          ]
        },
        {
          "output_type": "display_data",
          "data": {
            "text/plain": [
              "<Figure size 800x400 with 1 Axes>"
            ],
            "image/png": "[encoded data removed]"
          },
          "metadata": {}
        }
      ]
    },
    {
      "cell_type": "markdown",
      "source": [
        "- Pada diagram batang distribusi `Airline` terhadap jumlah, maskapai dengan jumlah tertinggi yaitu Jet Airways dengan jumlah sebanyak 3377 dan yang terendah adalah maskapai Trujet dengan jumlah 1.\n",
        "- Pada diagram batang distribusi `Source`terhadap jumlah, tempat keberangkatan tertinggi yaitu di Delhi dengan jumlah 4059 dan yang terendah di Chennai dengan jumlah 381\n",
        "- Pada diagram batang distribusi `Destination`terhadap jumlah, tujuan destinasi tertinggi yaitu Cochin dengan jumlah 4059 dan yang terendah di Kolkata dengan jumlah 381."
      ],
      "metadata": {
        "id": "Gj76zikbRO2h"
      }
    },
    {
      "cell_type": "code",
      "source": [
        "plane[numerical_features].hist(bins=50, figsize=(20, 15), color='#1f77b4', edgecolor='black')\n",
        "plt.suptitle('Distribusi Fitur Numerikal', fontsize=16)\n",
        "plt.tight_layout(rect=[0, 0.03, 1, 0.95])\n",
        "plt.show()"
      ],
      "metadata": {
        "colab": {
          "base_uri": "https://localhost:8080/",
          "height": 848
        },
        "id": "72imBa0CWIT1",
        "outputId": "5959fe15-66ac-40a4-8e9c-083e4daa8a9d"
      },
      "execution_count": 251,
      "outputs": [
        {
          "output_type": "display_data",
          "data": {
            "text/plain": [
              "<Figure size 2000x1500 with 12 Axes>"
            ],
            "image/png": "[encoded data removed]"
          },
          "metadata": {}
        }
      ]
    },
    {
      "cell_type": "markdown",
      "source": [
        "- Dari diagram batang Distribusi `Total_Stops`, jumlah total stop tertinggi yaitu di angka 1 yang artinya pesawat hanya transit 1 kali dan total stop terendah di angka 2 yang artinya pesawat melakukan  2 kali transit\n",
        "- Dari diagram batang distribusi `Date`, tanggal tertinggi berada di batang ke empat atau sekitar tanggal 8 dan yang terendah berada di batang ke 2 yaitu sekitar tanggal 3\n",
        "- Dari diagram batang distribusi `month`, bulan dengan jumlah penerbangan tertinggi terjadi pada bulan 6 atau bulan Juni dan yang terendah yaitu pada bulan ke 4 atau bulan April.\n",
        "- Dari diagram batang distribusi `Year` terlihat hanya ada satu batang yaitu di tahun 2019, yang artinya data hanya pada rentang tahin 2019.\n",
        "- Dari diagram batang distribusi `Dep_hours` terlihat bahwa jam keberangkatan pesawat tertinggi terjadi pada jam 7 dan yang terendah pada jam 3.\n",
        "- Dari diagram batang distribusi `Dep_min` terlihat bahwa menit keberangkatan pesawat tertinggi pada menit 0, artinya pesawat lebih sering berangkat di jam yang tepat todak lebih beberapa menit. Dan keberangkatan pesawat terendah di menit 40.\n",
        "- Dari diagram batang distribusi `Arrival_hours` terlihat bahwa pesawat sering tiba di pukul 19 dan paling jarang tiba di pukul 6.\n",
        "- Dari diagram batang distribusi `Arrival_min` terlihat bahwa pesawat sering tiba di menit 0 dan paling jarang tiba di menit 55.\n",
        "- Dari diagram batang distribusi `Duration_hours` terlihat bahwa lama penerbangan paling sering yaitu selama 2 jam dan yang paling jarang yaitu selama 17 jam.\n",
        "- Dari diagram batang distribusi `Duration_min` terlihat bahwa durasi menit dalam penerbangan paling sering di menit 30 dan yang paling jarang dengan durasi menit 10."
      ],
      "metadata": {
        "id": "jHlfLm_eTu7_"
      }
    },
    {
      "cell_type": "code",
      "source": [
        "plt.figure(figsize=(12, 6))\n",
        "sns.boxplot(x='Airline', y='Price', data=plane_no_outliers, palette='Set3', showfliers=False)\n",
        "plt.title('Distribusi Harga Tiket per Maskapai (Tanpa Outlier)')\n",
        "plt.xticks(rotation=45)\n",
        "plt.tight_layout()\n",
        "plt.show()"
      ],
      "metadata": {
        "colab": {
          "base_uri": "https://localhost:8080/",
          "height": 698
        },
        "id": "PZ9FQdGaWTFv",
        "outputId": "f7003a51-4657-4b44-fc29-342612f33573"
      },
      "execution_count": 252,
      "outputs": [
        {
          "output_type": "stream",
          "name": "stderr",
          "text": [
            "<ipython-input-252-3d029ce46ca3>:2: FutureWarning: \n",
            "\n",
            "Passing `palette` without assigning `hue` is deprecated and will be removed in v0.14.0. Assign the `x` variable to `hue` and set `legend=False` for the same effect.\n",
            "\n",
            "  sns.boxplot(x='Airline', y='Price', data=plane_no_outliers, palette='Set3', showfliers=False)\n"
          ]
        },
        {
          "output_type": "display_data",
          "data": {
            "text/plain": [
              "<Figure size 1200x600 with 1 Axes>"
            ],
            "image/png": "[encoded data removed]"
          },
          "metadata": {}
        }
      ]
    },
    {
      "cell_type": "markdown",
      "source": [
        "- Dari boxplot diagram `Airline` terhadap `Price` terlihat bahwa range harga terpanjang pada maskapai Jet Airways dengan menyediakan tiket paling murah hingga paling mahal dan range harga terpendek pada maskapai Trujet."
      ],
      "metadata": {
        "id": "-KDvUwNsXeTm"
      }
    },
    {
      "cell_type": "markdown",
      "source": [
        "### Exploratory Data Analysis - Multivariate Analysis"
      ],
      "metadata": {
        "id": "7fYGFy5_YvOf"
      }
    },
    {
      "cell_type": "code",
      "source": [
        "for col in categorical_features:\n",
        "    sns.catplot(\n",
        "        x=col,\n",
        "        y=\"Price\",\n",
        "        kind=\"bar\",\n",
        "        data=plane_no_outliers,\n",
        "        palette=\"Set3\",\n",
        "        height=4,\n",
        "        aspect=3\n",
        "    )\n",
        "    plt.title(f\"Rata-rata Harga (Price) terhadap Kategori '{col}'\")\n",
        "    plt.xticks(rotation=45)\n",
        "    plt.tight_layout()\n",
        "    plt.show()"
      ],
      "metadata": {
        "colab": {
          "base_uri": "https://localhost:8080/",
          "height": 1000
        },
        "id": "2BoMkYXpYyaS",
        "outputId": "acca380c-dca1-4261-a973-e7c20eacc090"
      },
      "execution_count": 253,
      "outputs": [
        {
          "output_type": "stream",
          "name": "stderr",
          "text": [
            "<ipython-input-253-d9cd72f88bca>:2: FutureWarning: \n",
            "\n",
            "Passing `palette` without assigning `hue` is deprecated and will be removed in v0.14.0. Assign the `x` variable to `hue` and set `legend=False` for the same effect.\n",
            "\n",
            "  sns.catplot(\n"
          ]
        },
        {
          "output_type": "display_data",
          "data": {
            "text/plain": [
              "<Figure size 1200x400 with 1 Axes>"
            ],
            "image/png": "[encoded data removed]"
          },
          "metadata": {}
        },
        {
          "output_type": "stream",
          "name": "stderr",
          "text": [
            "<ipython-input-253-d9cd72f88bca>:2: FutureWarning: \n",
            "\n",
            "Passing `palette` without assigning `hue` is deprecated and will be removed in v0.14.0. Assign the `x` variable to `hue` and set `legend=False` for the same effect.\n",
            "\n",
            "  sns.catplot(\n"
          ]
        },
        {
          "output_type": "display_data",
          "data": {
            "text/plain": [
              "<Figure size 1200x400 with 1 Axes>"
            ],
            "image/png": "[encoded data removed]"
          },
          "metadata": {}
        },
        {
          "output_type": "stream",
          "name": "stderr",
          "text": [
            "<ipython-input-253-d9cd72f88bca>:2: FutureWarning: \n",
            "\n",
            "Passing `palette` without assigning `hue` is deprecated and will be removed in v0.14.0. Assign the `x` variable to `hue` and set `legend=False` for the same effect.\n",
            "\n",
            "  sns.catplot(\n"
          ]
        },
        {
          "output_type": "display_data",
          "data": {
            "text/plain": [
              "<Figure size 1200x400 with 1 Axes>"
            ],
            "image/png": "[encoded data removed]"
          },
          "metadata": {}
        }
      ]
    },
    {
      "cell_type": "markdown",
      "source": [
        "- Dari diagram hubungan variabel `Airline` dengan `Price` terlihat bahwa maskapai dengan harga tertinggi yaitu Multiple carriers Premium economy dan yang terendah Trujet.\n",
        "- Dari diagram hubungan variabel `Source` dengan `Price` terlihat bahwa harga lokasi keberangkatan termahal berada di Delhi dan yang paling murah di Mumbai\n",
        "- Dari diagram hubungan variabel `Destination` dengan `Price` terlihat bahwa harga lokasi pendaratan termahal berada di New Delhi dan Cochin. Untuk yang termurah berada di Hyderabad"
      ],
      "metadata": {
        "id": "jiHQ9H2vYHsL"
      }
    },
    {
      "cell_type": "code",
      "source": [
        "features_for_corr = [\n",
        "    'Total_Stops', 'Date', 'Month', 'Year','Dep_hours', 'Dep_min',\n",
        "    'Arrival_hours', 'Arrival_min',\n",
        "    'Duration_hours', 'Duration_min',\n",
        "    'Price'\n",
        "]\n",
        "\n",
        "correlation_matrix = plane_no_outliers[features_for_corr].corr().round(2)\n",
        "plt.figure(figsize=(10, 8))\n",
        "sns.heatmap(\n",
        "    data=correlation_matrix,\n",
        "    annot=True,\n",
        "    cmap='coolwarm',\n",
        "    linewidths=0.5\n",
        ")\n",
        "plt.title(\"Correlation Matrix untuk Fitur Numerik dan Target\", size=20)\n",
        "plt.tight_layout()\n",
        "plt.savefig(\"correlation_matrix.png\")\n",
        "plt.show()"
      ],
      "metadata": {
        "colab": {
          "base_uri": "https://localhost:8080/",
          "height": 807
        },
        "id": "kvFTnbXlZPvY",
        "outputId": "54e6e45f-1bbd-40e6-dd91-31abb9e7d923"
      },
      "execution_count": 254,
      "outputs": [
        {
          "output_type": "display_data",
          "data": {
            "text/plain": [
              "<Figure size 1000x800 with 2 Axes>"
            ],
            "image/png": "[encoded data removed]"
          },
          "metadata": {}
        }
      ]
    },
    {
      "cell_type": "markdown",
      "source": [
        "- Korelasi terkuat pada variabel `Total_Stops` dan `Duration_hours`yaitu sebesar 0,67\n",
        "- Korelasi terendah pada variabel -0 yaitu pada variabel `Date` dan `Arrival_hours`, variabel `Date` dan `Dep_min`, sertabvariabel `Date` dan `Total_Stops`. Nilai -0 ini artinya tidak ada korelasi sama sekali antar variabel\n",
        "- Korelasi `Year` tidak terlihat karena isi tahun hanya sama"
      ],
      "metadata": {
        "id": "7VfphWW2Z-Cn"
      }
    },
    {
      "cell_type": "markdown",
      "source": [
        "## Data Preparation"
      ],
      "metadata": {
        "id": "SfHbmbUaaM2j"
      }
    },
    {
      "cell_type": "markdown",
      "source": [
        "### Hapus Duplikat"
      ],
      "metadata": {
        "id": "ZX0dgUdId2Al"
      }
    },
    {
      "cell_type": "code",
      "source": [
        "# Menghapus Duplikasi Data\n",
        "plane = plane.drop_duplicates()\n",
        "print(\"Jumlah setelah menghapus duplikasi: \", plane.shape)"
      ],
      "metadata": {
        "colab": {
          "base_uri": "https://localhost:8080/"
        },
        "id": "v9zk3JmeaNt-",
        "outputId": "36ff4303-3d06-480c-d01a-f0a4de5aaf6f"
      },
      "execution_count": 255,
      "outputs": [
        {
          "output_type": "stream",
          "name": "stdout",
          "text": [
            "Jumlah setelah menghapus duplikasi:  (9579, 14)\n"
          ]
        }
      ]
    },
    {
      "cell_type": "markdown",
      "source": [
        "- Dilakukan penghapusan data yang duplikat, setelah dihapus terdapat sisa data sebanyak 9579 data dengan 14 kolom"
      ],
      "metadata": {
        "id": "VM9SYP0xbbPy"
      }
    },
    {
      "cell_type": "markdown",
      "source": [
        "### Filter Data"
      ],
      "metadata": {
        "id": "Al7uXhSCd5BC"
      }
    },
    {
      "cell_type": "code",
      "source": [
        "# Menggabungkan variabel date, month, year menjadi variabel Date_of_Journey\n",
        "plane['Date_of_Journey'] = pd.to_datetime(\n",
        "    plane['Date'].astype(str) + '-' +\n",
        "    plane['Month'].astype(str) + '-' +\n",
        "    plane['Year'].astype(str),\n",
        "    format='%d-%m-%Y'\n",
        ")"
      ],
      "metadata": {
        "id": "Yz8u8FiLafdw",
        "colab": {
          "base_uri": "https://localhost:8080/"
        },
        "outputId": "9bb83c59-1d6e-4226-dcdb-63454d78f7fe"
      },
      "execution_count": 256,
      "outputs": [
        {
          "output_type": "stream",
          "name": "stderr",
          "text": [
            "<ipython-input-256-c8f0ba69dacc>:2: SettingWithCopyWarning: \n",
            "A value is trying to be set on a copy of a slice from a DataFrame.\n",
            "Try using .loc[row_indexer,col_indexer] = value instead\n",
            "\n",
            "See the caveats in the documentation: https://pandas.pydata.org/pandas-docs/stable/user_guide/indexing.html#returning-a-view-versus-a-copy\n",
            "  plane['Date_of_Journey'] = pd.to_datetime(\n"
          ]
        }
      ]
    },
    {
      "cell_type": "markdown",
      "source": [
        "- Untuk mendapat hasil analisis yang lebih baik dilakukan penggabungan variabel `Date`, `Month`, dan `Year` menjadi variabel `Date_of_Journey`"
      ],
      "metadata": {
        "id": "SbXD99HnbmjB"
      }
    },
    {
      "cell_type": "code",
      "source": [
        "# Membuat fitur turunan\n",
        "plane['Day_of_week'] = plane['Date_of_Journey'].dt.dayofweek\n",
        "plane['Is_weekend'] = plane['Day_of_week'].isin([5,6]).astype(int)"
      ],
      "metadata": {
        "id": "kiQEdANTapxI",
        "colab": {
          "base_uri": "https://localhost:8080/"
        },
        "outputId": "5206e767-b334-4dae-8d0d-70544327bc8e"
      },
      "execution_count": 257,
      "outputs": [
        {
          "output_type": "stream",
          "name": "stderr",
          "text": [
            "<ipython-input-257-101dfd085bde>:2: SettingWithCopyWarning: \n",
            "A value is trying to be set on a copy of a slice from a DataFrame.\n",
            "Try using .loc[row_indexer,col_indexer] = value instead\n",
            "\n",
            "See the caveats in the documentation: https://pandas.pydata.org/pandas-docs/stable/user_guide/indexing.html#returning-a-view-versus-a-copy\n",
            "  plane['Day_of_week'] = plane['Date_of_Journey'].dt.dayofweek\n",
            "<ipython-input-257-101dfd085bde>:3: SettingWithCopyWarning: \n",
            "A value is trying to be set on a copy of a slice from a DataFrame.\n",
            "Try using .loc[row_indexer,col_indexer] = value instead\n",
            "\n",
            "See the caveats in the documentation: https://pandas.pydata.org/pandas-docs/stable/user_guide/indexing.html#returning-a-view-versus-a-copy\n",
            "  plane['Is_weekend'] = plane['Day_of_week'].isin([5,6]).astype(int)\n"
          ]
        }
      ]
    },
    {
      "cell_type": "markdown",
      "source": [
        "- Setelah penggabungan menjadi variabel `Date_of_Journey` dilakukan fitur turunan menjadi variabel `Day_of_week` untuk mengetahui di hari apa penerbangan di jadwalkan dan variabel `Is_weekend` untuk mengetahui apakah penerbangan dilakukan di hari weekend atau tidak"
      ],
      "metadata": {
        "id": "7CCQRBx9b6zh"
      }
    },
    {
      "cell_type": "code",
      "source": [
        "# Menghapus variabel Date, Month, dan Year\n",
        "plane.drop(['Date', 'Month', 'Year'], axis=1, inplace=True)"
      ],
      "metadata": {
        "id": "fXmGJnS4ardk",
        "colab": {
          "base_uri": "https://localhost:8080/"
        },
        "outputId": "c1e70cc6-2b68-41ff-981b-9fe5623da338"
      },
      "execution_count": 258,
      "outputs": [
        {
          "output_type": "stream",
          "name": "stderr",
          "text": [
            "<ipython-input-258-97b3adf93325>:2: SettingWithCopyWarning: \n",
            "A value is trying to be set on a copy of a slice from a DataFrame\n",
            "\n",
            "See the caveats in the documentation: https://pandas.pydata.org/pandas-docs/stable/user_guide/indexing.html#returning-a-view-versus-a-copy\n",
            "  plane.drop(['Date', 'Month', 'Year'], axis=1, inplace=True)\n"
          ]
        }
      ]
    },
    {
      "cell_type": "markdown",
      "source": [
        "- Karena `Date`, `Month`, dan `Year` sudah digabung maka ketiga variabel ini dihapus"
      ],
      "metadata": {
        "id": "E7k0ogjKcW2v"
      }
    },
    {
      "cell_type": "code",
      "source": [
        "# Menghapus variabel Date_of_Journey\n",
        "plane.drop(['Date_of_Journey'], axis=1, inplace=True)"
      ],
      "metadata": {
        "id": "7u5IDOX-qLfU",
        "colab": {
          "base_uri": "https://localhost:8080/"
        },
        "outputId": "654d09bb-6fd1-495e-d267-abad0a2b2e64"
      },
      "execution_count": 259,
      "outputs": [
        {
          "output_type": "stream",
          "name": "stderr",
          "text": [
            "<ipython-input-259-75e143563487>:2: SettingWithCopyWarning: \n",
            "A value is trying to be set on a copy of a slice from a DataFrame\n",
            "\n",
            "See the caveats in the documentation: https://pandas.pydata.org/pandas-docs/stable/user_guide/indexing.html#returning-a-view-versus-a-copy\n",
            "  plane.drop(['Date_of_Journey'], axis=1, inplace=True)\n"
          ]
        }
      ]
    },
    {
      "cell_type": "markdown",
      "source": [
        "- Karena sudah dilakukan fitur turunan dari `Date_of_Journey` maka variabel ini dapat dihapus"
      ],
      "metadata": {
        "id": "3DJIrpklclVB"
      }
    },
    {
      "cell_type": "code",
      "source": [
        "# Menggabungkan Duration_hours dan Duration_min menjadi variabel Duration_total_min\n",
        "plane['Duration_total_min'] = plane['Duration_hours'] * 60 + plane['Duration_min']"
      ],
      "metadata": {
        "id": "9wnCehn_av8I"
      },
      "execution_count": 260,
      "outputs": []
    },
    {
      "cell_type": "markdown",
      "source": [
        "- Untuk memudahkan dalam penganalisisan maka variabel `Duration_hours` dan `Duration_min` digabung menjadi `Duration_total_min` untuk mengetahui durasi penerbangan dalam bentuk menit"
      ],
      "metadata": {
        "id": "MH2FQkGScy2t"
      }
    },
    {
      "cell_type": "code",
      "source": [
        "# Menghapus variabel Duration_hours dan Duration_min\n",
        "plane.drop(['Duration_hours', 'Duration_min'], axis=1, inplace=True)"
      ],
      "metadata": {
        "id": "SDuFuL6Jl8Gt"
      },
      "execution_count": 261,
      "outputs": []
    },
    {
      "cell_type": "markdown",
      "source": [
        "- Karena variabel `Duration_hours` dan `Duration_min` sudah digabung maka kedua variabel ini dihapus"
      ],
      "metadata": {
        "id": "UG0mP5LvdHsK"
      }
    },
    {
      "cell_type": "code",
      "source": [
        "# Menggabungkan Arrival_hours dan Arrival_min\n",
        "plane['Arrival_total_min'] = plane['Arrival_hours'] * 60 + plane['Arrival_min']"
      ],
      "metadata": {
        "id": "S8b1Q2EPmm6f"
      },
      "execution_count": 262,
      "outputs": []
    },
    {
      "cell_type": "markdown",
      "source": [
        "- Untuk mempermudah dalam menganalisis maka variabel `Arrival_hours` dan `Arrival_min` digabung dalam bentuk menit dan menghasilkan variabel `Arrival_total_min` dengan bentuk akhir dalam bentuk menit"
      ],
      "metadata": {
        "id": "pflh0MrhdXuI"
      }
    },
    {
      "cell_type": "code",
      "source": [
        "# Menghapus variabel Arrival_hours dan Arrival_min\n",
        "plane.drop(['Arrival_hours', 'Arrival_min'], axis=1, inplace=True)"
      ],
      "metadata": {
        "id": "-gboJd9hoCIP"
      },
      "execution_count": 263,
      "outputs": []
    },
    {
      "cell_type": "markdown",
      "source": [
        "- Karena variabel `Arrival_hours` dan `Arrival_min` sudah digabung maka variabel ini dapat dihapus"
      ],
      "metadata": {
        "id": "cvUmzNOneAol"
      }
    },
    {
      "cell_type": "code",
      "source": [
        "# Menggabungkan variabel Dep_hours dan Dep_min\n",
        "plane['Dep_total_min'] = plane['Dep_hours'] * 60 + plane['Dep_min']"
      ],
      "metadata": {
        "id": "iGBvWnrgn2pk"
      },
      "execution_count": 264,
      "outputs": []
    },
    {
      "cell_type": "markdown",
      "source": [
        "- Untuk mempermudah dalam menganalisis maka variabel `Dep_hours` dan `Dep_min` digabung menjadi `Dep_total_min` dengan bentuk akhir berupa menit"
      ],
      "metadata": {
        "id": "GYStzbFGeOmA"
      }
    },
    {
      "cell_type": "code",
      "source": [
        "# Menghapus variabel Dep_hours dan Dep_min\n",
        "plane.drop(['Dep_hours', 'Dep_min'], axis=1, inplace=True)"
      ],
      "metadata": {
        "id": "eisr6DuWoiAb"
      },
      "execution_count": 265,
      "outputs": []
    },
    {
      "cell_type": "markdown",
      "source": [
        "- Karena variabel `Dep_hours` dan `Dep_min` sudah digabung maka kedua variabel ini dapat dihapus"
      ],
      "metadata": {
        "id": "2y5DZIH5epBf"
      }
    },
    {
      "cell_type": "code",
      "source": [
        "plane.info()"
      ],
      "metadata": {
        "colab": {
          "base_uri": "https://localhost:8080/"
        },
        "id": "bnl6vHpFoxxt",
        "outputId": "c41f8ce1-3d1b-4785-b67b-177c7afc57b6"
      },
      "execution_count": 266,
      "outputs": [
        {
          "output_type": "stream",
          "name": "stdout",
          "text": [
            "<class 'pandas.core.frame.DataFrame'>\n",
            "Index: 9579 entries, 0 to 10682\n",
            "Data columns (total 10 columns):\n",
            " #   Column              Non-Null Count  Dtype \n",
            "---  ------              --------------  ----- \n",
            " 0   Airline             9579 non-null   object\n",
            " 1   Source              9579 non-null   object\n",
            " 2   Destination         9579 non-null   object\n",
            " 3   Total_Stops         9579 non-null   int64 \n",
            " 4   Price               9579 non-null   int64 \n",
            " 5   Day_of_week         9579 non-null   int32 \n",
            " 6   Is_weekend          9579 non-null   int64 \n",
            " 7   Duration_total_min  9579 non-null   int64 \n",
            " 8   Arrival_total_min   9579 non-null   int64 \n",
            " 9   Dep_total_min       9579 non-null   int64 \n",
            "dtypes: int32(1), int64(6), object(3)\n",
            "memory usage: 785.8+ KB\n"
          ]
        }
      ]
    },
    {
      "cell_type": "markdown",
      "source": [
        "- Hail akhirnya terdapat 9579 data dengan 10 variabel yaitu variabel `Airline`, `Source`, `Destination`, `Total_Stops`, `Price`, `Day_of_week`, `Is_weekend`, `Duration_total_min`, `Arrival_total_min`, dan `Dep_total_min`"
      ],
      "metadata": {
        "id": "jvKCbPyWe0YV"
      }
    },
    {
      "cell_type": "code",
      "source": [
        "plane.head()"
      ],
      "metadata": {
        "colab": {
          "base_uri": "https://localhost:8080/",
          "height": 206
        },
        "id": "C1LeZ_K5rDP-",
        "outputId": "e64ddbe4-f6cc-41a2-fb1c-67193be03a25"
      },
      "execution_count": 267,
      "outputs": [
        {
          "output_type": "execute_result",
          "data": {
            "text/plain": [
              "       Airline    Source Destination  Total_Stops  Price  Day_of_week  \\\n",
              "0       IndiGo  Banglore   New Delhi            0   3897            6   \n",
              "1    Air India   Kolkata    Banglore            2   7662            2   \n",
              "2  Jet Airways     Delhi      Cochin            2  13882            6   \n",
              "3       IndiGo   Kolkata    Banglore            1   6218            6   \n",
              "4       IndiGo  Banglore   New Delhi            1  13302            4   \n",
              "\n",
              "   Is_weekend  Duration_total_min  Arrival_total_min  Dep_total_min  \n",
              "0           1                 170                 70           1340  \n",
              "1           0                 445                795            350  \n",
              "2           1                1140                265            565  \n",
              "3           1                 325               1410           1085  \n",
              "4           0                 285               1295           1010  "
            ],
            "text/html": [
              "\n",
              "  <div id=\"df-f608f23c-7db2-4ad9-9249-3d4f181d4ac3\" class=\"colab-df-container\">\n",
              "    <div>\n",
              "<style scoped>\n",
              "    .dataframe tbody tr th:only-of-type {\n",
              "        vertical-align: middle;\n",
              "    }\n",
              "\n",
              "    .dataframe tbody tr th {\n",
              "        vertical-align: top;\n",
              "    }\n",
              "\n",
              "    .dataframe thead th {\n",
              "        text-align: right;\n",
              "    }\n",
              "</style>\n",
              "<table border=\"1\" class=\"dataframe\">\n",
              "  <thead>\n",
              "    <tr style=\"text-align: right;\">\n",
              "      <th></th>\n",
              "      <th>Airline</th>\n",
              "      <th>Source</th>\n",
              "      <th>Destination</th>\n",
              "      <th>Total_Stops</th>\n",
              "      <th>Price</th>\n",
              "      <th>Day_of_week</th>\n",
              "      <th>Is_weekend</th>\n",
              "      <th>Duration_total_min</th>\n",
              "      <th>Arrival_total_min</th>\n",
              "      <th>Dep_total_min</th>\n",
              "    </tr>\n",
              "  </thead>\n",
              "  <tbody>\n",
              "    <tr>\n",
              "      <th>0</th>\n",
              "      <td>IndiGo</td>\n",
              "      <td>Banglore</td>\n",
              "      <td>New Delhi</td>\n",
              "      <td>0</td>\n",
              "      <td>3897</td>\n",
              "      <td>6</td>\n",
              "      <td>1</td>\n",
              "      <td>170</td>\n",
              "      <td>70</td>\n",
              "      <td>1340</td>\n",
              "    </tr>\n",
              "    <tr>\n",
              "      <th>1</th>\n",
              "      <td>Air India</td>\n",
              "      <td>Kolkata</td>\n",
              "      <td>Banglore</td>\n",
              "      <td>2</td>\n",
              "      <td>7662</td>\n",
              "      <td>2</td>\n",
              "      <td>0</td>\n",
              "      <td>445</td>\n",
              "      <td>795</td>\n",
              "      <td>350</td>\n",
              "    </tr>\n",
              "    <tr>\n",
              "      <th>2</th>\n",
              "      <td>Jet Airways</td>\n",
              "      <td>Delhi</td>\n",
              "      <td>Cochin</td>\n",
              "      <td>2</td>\n",
              "      <td>13882</td>\n",
              "      <td>6</td>\n",
              "      <td>1</td>\n",
              "      <td>1140</td>\n",
              "      <td>265</td>\n",
              "      <td>565</td>\n",
              "    </tr>\n",
              "    <tr>\n",
              "      <th>3</th>\n",
              "      <td>IndiGo</td>\n",
              "      <td>Kolkata</td>\n",
              "      <td>Banglore</td>\n",
              "      <td>1</td>\n",
              "      <td>6218</td>\n",
              "      <td>6</td>\n",
              "      <td>1</td>\n",
              "      <td>325</td>\n",
              "      <td>1410</td>\n",
              "      <td>1085</td>\n",
              "    </tr>\n",
              "    <tr>\n",
              "      <th>4</th>\n",
              "      <td>IndiGo</td>\n",
              "      <td>Banglore</td>\n",
              "      <td>New Delhi</td>\n",
              "      <td>1</td>\n",
              "      <td>13302</td>\n",
              "      <td>4</td>\n",
              "      <td>0</td>\n",
              "      <td>285</td>\n",
              "      <td>1295</td>\n",
              "      <td>1010</td>\n",
              "    </tr>\n",
              "  </tbody>\n",
              "</table>\n",
              "</div>\n",
              "    <div class=\"colab-df-buttons\">\n",
              "\n",
              "  <div class=\"colab-df-container\">\n",
              "    <button class=\"colab-df-convert\" onclick=\"convertToInteractive('df-f608f23c-7db2-4ad9-9249-3d4f181d4ac3')\"\n",
              "            title=\"Convert this dataframe to an interactive table.\"\n",
              "            style=\"display:none;\">\n",
              "\n",
              "  <svg xmlns=\"http://www.w3.org/2000/svg\" height=\"24px\" viewBox=\"0 -960 960 960\">\n",
              "    <path d=\"M120-120v-720h720v720H120Zm60-500h600v-160H180v160Zm220 220h160v-160H400v160Zm0 220h160v-160H400v160ZM180-400h160v-160H180v160Zm440 0h160v-160H620v160ZM180-180h160v-160H180v160Zm440 0h160v-160H620v160Z\"/>\n",
              "  </svg>\n",
              "    </button>\n",
              "\n",
              "  <style>\n",
              "    .colab-df-container {\n",
              "      display:flex;\n",
              "      gap: 12px;\n",
              "    }\n",
              "\n",
              "    .colab-df-convert {\n",
              "      background-color: #E8F0FE;\n",
              "      border: none;\n",
              "      border-radius: 50%;\n",
              "      cursor: pointer;\n",
              "      display: none;\n",
              "      fill: #1967D2;\n",
              "      height: 32px;\n",
              "      padding: 0 0 0 0;\n",
              "      width: 32px;\n",
              "    }\n",
              "\n",
              "    .colab-df-convert:hover {\n",
              "      background-color: #E2EBFA;\n",
              "      box-shadow: 0px 1px 2px rgba(60, 64, 67, 0.3), 0px 1px 3px 1px rgba(60, 64, 67, 0.15);\n",
              "      fill: #174EA6;\n",
              "    }\n",
              "\n",
              "    .colab-df-buttons div {\n",
              "      margin-bottom: 4px;\n",
              "    }\n",
              "\n",
              "    [theme=dark] .colab-df-convert {\n",
              "      background-color: #3B4455;\n",
              "      fill: #D2E3FC;\n",
              "    }\n",
              "\n",
              "    [theme=dark] .colab-df-convert:hover {\n",
              "      background-color: #434B5C;\n",
              "      box-shadow: 0px 1px 3px 1px rgba(0, 0, 0, 0.15);\n",
              "      filter: drop-shadow(0px 1px 2px rgba(0, 0, 0, 0.3));\n",
              "      fill: #FFFFFF;\n",
              "    }\n",
              "  </style>\n",
              "\n",
              "    <script>\n",
              "      const buttonEl =\n",
              "        document.querySelector('#df-f608f23c-7db2-4ad9-9249-3d4f181d4ac3 button.colab-df-convert');\n",
              "      buttonEl.style.display =\n",
              "        google.colab.kernel.accessAllowed ? 'block' : 'none';\n",
              "\n",
              "      async function convertToInteractive(key) {\n",
              "        const element = document.querySelector('#df-f608f23c-7db2-4ad9-9249-3d4f181d4ac3');\n",
              "        const dataTable =\n",
              "          await google.colab.kernel.invokeFunction('convertToInteractive',\n",
              "                                                    [key], {});\n",
              "        if (!dataTable) return;\n",
              "\n",
              "        const docLinkHtml = 'Like what you see? Visit the ' +\n",
              "          '<a target=\"_blank\" href=https://colab.research.google.com/notebooks/data_table.ipynb>data table notebook</a>'\n",
              "          + ' to learn more about interactive tables.';\n",
              "        element.innerHTML = '';\n",
              "        dataTable['output_type'] = 'display_data';\n",
              "        await google.colab.output.renderOutput(dataTable, element);\n",
              "        const docLink = document.createElement('div');\n",
              "        docLink.innerHTML = docLinkHtml;\n",
              "        element.appendChild(docLink);\n",
              "      }\n",
              "    </script>\n",
              "  </div>\n",
              "\n",
              "\n",
              "    <div id=\"df-c89509a3-182a-4bdf-8989-e826007e686a\">\n",
              "      <button class=\"colab-df-quickchart\" onclick=\"quickchart('df-c89509a3-182a-4bdf-8989-e826007e686a')\"\n",
              "                title=\"Suggest charts\"\n",
              "                style=\"display:none;\">\n",
              "\n",
              "<svg xmlns=\"http://www.w3.org/2000/svg\" height=\"24px\"viewBox=\"0 0 24 24\"\n",
              "     width=\"24px\">\n",
              "    <g>\n",
              "        <path d=\"M19 3H5c-1.1 0-2 .9-2 2v14c0 1.1.9 2 2 2h14c1.1 0 2-.9 2-2V5c0-1.1-.9-2-2-2zM9 17H7v-7h2v7zm4 0h-2V7h2v10zm4 0h-2v-4h2v4z\"/>\n",
              "    </g>\n",
              "</svg>\n",
              "      </button>\n",
              "\n",
              "<style>\n",
              "  .colab-df-quickchart {\n",
              "      --bg-color: #E8F0FE;\n",
              "      --fill-color: #1967D2;\n",
              "      --hover-bg-color: #E2EBFA;\n",
              "      --hover-fill-color: #174EA6;\n",
              "      --disabled-fill-color: #AAA;\n",
              "      --disabled-bg-color: #DDD;\n",
              "  }\n",
              "\n",
              "  [theme=dark] .colab-df-quickchart {\n",
              "      --bg-color: #3B4455;\n",
              "      --fill-color: #D2E3FC;\n",
              "      --hover-bg-color: #434B5C;\n",
              "      --hover-fill-color: #FFFFFF;\n",
              "      --disabled-bg-color: #3B4455;\n",
              "      --disabled-fill-color: #666;\n",
              "  }\n",
              "\n",
              "  .colab-df-quickchart {\n",
              "    background-color: var(--bg-color);\n",
              "    border: none;\n",
              "    border-radius: 50%;\n",
              "    cursor: pointer;\n",
              "    display: none;\n",
              "    fill: var(--fill-color);\n",
              "    height: 32px;\n",
              "    padding: 0;\n",
              "    width: 32px;\n",
              "  }\n",
              "\n",
              "  .colab-df-quickchart:hover {\n",
              "    background-color: var(--hover-bg-color);\n",
              "    box-shadow: 0 1px 2px rgba(60, 64, 67, 0.3), 0 1px 3px 1px rgba(60, 64, 67, 0.15);\n",
              "    fill: var(--button-hover-fill-color);\n",
              "  }\n",
              "\n",
              "  .colab-df-quickchart-complete:disabled,\n",
              "  .colab-df-quickchart-complete:disabled:hover {\n",
              "    background-color: var(--disabled-bg-color);\n",
              "    fill: var(--disabled-fill-color);\n",
              "    box-shadow: none;\n",
              "  }\n",
              "\n",
              "  .colab-df-spinner {\n",
              "    border: 2px solid var(--fill-color);\n",
              "    border-color: transparent;\n",
              "    border-bottom-color: var(--fill-color);\n",
              "    animation:\n",
              "      spin 1s steps(1) infinite;\n",
              "  }\n",
              "\n",
              "  @keyframes spin {\n",
              "    0% {\n",
              "      border-color: transparent;\n",
              "      border-bottom-color: var(--fill-color);\n",
              "      border-left-color: var(--fill-color);\n",
              "    }\n",
              "    20% {\n",
              "      border-color: transparent;\n",
              "      border-left-color: var(--fill-color);\n",
              "      border-top-color: var(--fill-color);\n",
              "    }\n",
              "    30% {\n",
              "      border-color: transparent;\n",
              "      border-left-color: var(--fill-color);\n",
              "      border-top-color: var(--fill-color);\n",
              "      border-right-color: var(--fill-color);\n",
              "    }\n",
              "    40% {\n",
              "      border-color: transparent;\n",
              "      border-right-color: var(--fill-color);\n",
              "      border-top-color: var(--fill-color);\n",
              "    }\n",
              "    60% {\n",
              "      border-color: transparent;\n",
              "      border-right-color: var(--fill-color);\n",
              "    }\n",
              "    80% {\n",
              "      border-color: transparent;\n",
              "      border-right-color: var(--fill-color);\n",
              "      border-bottom-color: var(--fill-color);\n",
              "    }\n",
              "    90% {\n",
              "      border-color: transparent;\n",
              "      border-bottom-color: var(--fill-color);\n",
              "    }\n",
              "  }\n",
              "</style>\n",
              "\n",
              "      <script>\n",
              "        async function quickchart(key) {\n",
              "          const quickchartButtonEl =\n",
              "            document.querySelector('#' + key + ' button');\n",
              "          quickchartButtonEl.disabled = true;  // To prevent multiple clicks.\n",
              "          quickchartButtonEl.classList.add('colab-df-spinner');\n",
              "          try {\n",
              "            const charts = await google.colab.kernel.invokeFunction(\n",
              "                'suggestCharts', [key], {});\n",
              "          } catch (error) {\n",
              "            console.error('Error during call to suggestCharts:', error);\n",
              "          }\n",
              "          quickchartButtonEl.classList.remove('colab-df-spinner');\n",
              "          quickchartButtonEl.classList.add('colab-df-quickchart-complete');\n",
              "        }\n",
              "        (() => {\n",
              "          let quickchartButtonEl =\n",
              "            document.querySelector('#df-c89509a3-182a-4bdf-8989-e826007e686a button');\n",
              "          quickchartButtonEl.style.display =\n",
              "            google.colab.kernel.accessAllowed ? 'block' : 'none';\n",
              "        })();\n",
              "      </script>\n",
              "    </div>\n",
              "\n",
              "    </div>\n",
              "  </div>\n"
            ],
            "application/vnd.google.colaboratory.intrinsic+json": {
              "type": "dataframe",
              "variable_name": "plane",
              "summary": "{\n  \"name\": \"plane\",\n  \"rows\": 9579,\n  \"fields\": [\n    {\n      \"column\": \"Airline\",\n      \"properties\": {\n        \"dtype\": \"category\",\n        \"num_unique_values\": 12,\n        \"samples\": [\n          \"Multiple carriers Premium economy\",\n          \"Jet Airways Business\",\n          \"IndiGo\"\n        ],\n        \"semantic_type\": \"\",\n        \"description\": \"\"\n      }\n    },\n    {\n      \"column\": \"Source\",\n      \"properties\": {\n        \"dtype\": \"category\",\n        \"num_unique_values\": 5,\n        \"samples\": [\n          \"Kolkata\",\n          \"Mumbai\",\n          \"Delhi\"\n        ],\n        \"semantic_type\": \"\",\n        \"description\": \"\"\n      }\n    },\n    {\n      \"column\": \"Destination\",\n      \"properties\": {\n        \"dtype\": \"category\",\n        \"num_unique_values\": 6,\n        \"samples\": [\n          \"New Delhi\",\n          \"Banglore\",\n          \"Hyderabad\"\n        ],\n        \"semantic_type\": \"\",\n        \"description\": \"\"\n      }\n    },\n    {\n      \"column\": \"Total_Stops\",\n      \"properties\": {\n        \"dtype\": \"number\",\n        \"std\": 0,\n        \"min\": 0,\n        \"max\": 2,\n        \"num_unique_values\": 3,\n        \"samples\": [\n          0,\n          2,\n          1\n        ],\n        \"semantic_type\": \"\",\n        \"description\": \"\"\n      }\n    },\n    {\n      \"column\": \"Price\",\n      \"properties\": {\n        \"dtype\": \"number\",\n        \"std\": 4661,\n        \"min\": 1759,\n        \"max\": 79512,\n        \"num_unique_values\": 1724,\n        \"samples\": [\n          14237,\n          8588,\n          8052\n        ],\n        \"semantic_type\": \"\",\n        \"description\": \"\"\n      }\n    },\n    {\n      \"column\": \"Day_of_week\",\n      \"properties\": {\n        \"dtype\": \"int32\",\n        \"num_unique_values\": 7,\n        \"samples\": [\n          6,\n          2,\n          5\n        ],\n        \"semantic_type\": \"\",\n        \"description\": \"\"\n      }\n    },\n    {\n      \"column\": \"Is_weekend\",\n      \"properties\": {\n        \"dtype\": \"number\",\n        \"std\": 0,\n        \"min\": 0,\n        \"max\": 1,\n        \"num_unique_values\": 2,\n        \"samples\": [\n          0,\n          1\n        ],\n        \"semantic_type\": \"\",\n        \"description\": \"\"\n      }\n    },\n    {\n      \"column\": \"Duration_total_min\",\n      \"properties\": {\n        \"dtype\": \"number\",\n        \"std\": 398,\n        \"min\": 75,\n        \"max\": 1495,\n        \"num_unique_values\": 270,\n        \"samples\": [\n          375,\n          1375\n        ],\n        \"semantic_type\": \"\",\n        \"description\": \"\"\n      }\n    },\n    {\n      \"column\": \"Arrival_total_min\",\n      \"properties\": {\n        \"dtype\": \"number\",\n        \"std\": 413,\n        \"min\": 5,\n        \"max\": 1435,\n        \"num_unique_values\": 220,\n        \"samples\": [\n          645,\n          745\n        ],\n        \"semantic_type\": \"\",\n        \"description\": \"\"\n      }\n    },\n    {\n      \"column\": \"Dep_total_min\",\n      \"properties\": {\n        \"dtype\": \"number\",\n        \"std\": 345,\n        \"min\": 20,\n        \"max\": 1435,\n        \"num_unique_values\": 218,\n        \"samples\": [\n          310,\n          680\n        ],\n        \"semantic_type\": \"\",\n        \"description\": \"\"\n      }\n    }\n  ]\n}"
            }
          },
          "metadata": {},
          "execution_count": 267
        }
      ]
    },
    {
      "cell_type": "markdown",
      "source": [
        "### Encoding Fitur Kategori"
      ],
      "metadata": {
        "id": "VzIzSjDqsk-l"
      }
    },
    {
      "cell_type": "code",
      "source": [
        "# Buat ulang plane_no_outliers dari plane yang sudah lengkap\n",
        "Q1 = plane['Price'].quantile(0.25)\n",
        "Q3 = plane['Price'].quantile(0.75)\n",
        "IQR = Q3 - Q1\n",
        "lower_bound = Q1 - 1.5 * IQR\n",
        "upper_bound = Q3 + 1.5 * IQR\n",
        "\n",
        "plane_no_outliers = plane[(plane['Price'] >= lower_bound) & (plane['Price'] <= upper_bound)]"
      ],
      "metadata": {
        "id": "qKBuglAWCEkL"
      },
      "execution_count": 268,
      "outputs": []
    },
    {
      "cell_type": "markdown",
      "source": [
        "- Karena ada perubahan variabel maka dilakukan pendefinisian ulang pada plane_no_outliers"
      ],
      "metadata": {
        "id": "Rz1rcApzfffS"
      }
    },
    {
      "cell_type": "code",
      "source": [
        "categorical_features = [\n",
        "    'Airline', 'Source', 'Destination'\n",
        "]\n",
        "\n",
        "numerical_features = [\n",
        "    'Total_Stops', 'Day_of_week',\n",
        "    'Is_weekend', 'Duration_total_min',\n",
        "    'Arrival_total_min', 'Dep_total_min'\n",
        "]\n",
        "\n",
        "target = 'Price'\n",
        "\n",
        "features = categorical_features + numerical_features\n",
        "plane_model = plane_no_outliers[features + [target]].copy()\n",
        "\n",
        "# One-hot encoding\n",
        "plane_encoded = pd.get_dummies(plane_model, columns=categorical_features, dtype=int, drop_first=True)\n",
        "\n",
        "print(plane_encoded.head())"
      ],
      "metadata": {
        "colab": {
          "base_uri": "https://localhost:8080/"
        },
        "id": "j1iOvU0zEczH",
        "outputId": "689fad4b-334e-4129-9410-d82ea010bae0"
      },
      "execution_count": 269,
      "outputs": [
        {
          "output_type": "stream",
          "name": "stdout",
          "text": [
            "   Total_Stops  Day_of_week  Is_weekend  Duration_total_min  \\\n",
            "0            0            6           1                 170   \n",
            "1            2            2           0                 445   \n",
            "2            2            6           1                1140   \n",
            "3            1            6           1                 325   \n",
            "4            1            4           0                 285   \n",
            "\n",
            "   Arrival_total_min  Dep_total_min  Price  Airline_Air India  Airline_GoAir  \\\n",
            "0                 70           1340   3897                  0              0   \n",
            "1                795            350   7662                  1              0   \n",
            "2                265            565  13882                  0              0   \n",
            "3               1410           1085   6218                  0              0   \n",
            "4               1295           1010  13302                  0              0   \n",
            "\n",
            "   Airline_IndiGo  ...  Airline_Vistara Premium economy  Source_Chennai  \\\n",
            "0               1  ...                                0               0   \n",
            "1               0  ...                                0               0   \n",
            "2               0  ...                                0               0   \n",
            "3               1  ...                                0               0   \n",
            "4               1  ...                                0               0   \n",
            "\n",
            "   Source_Delhi  Source_Kolkata  Source_Mumbai  Destination_Cochin  \\\n",
            "0             0               0              0                   0   \n",
            "1             0               1              0                   0   \n",
            "2             1               0              0                   1   \n",
            "3             0               1              0                   0   \n",
            "4             0               0              0                   0   \n",
            "\n",
            "   Destination_Delhi  Destination_Hyderabad  Destination_Kolkata  \\\n",
            "0                  0                      0                    0   \n",
            "1                  0                      0                    0   \n",
            "2                  0                      0                    0   \n",
            "3                  0                      0                    0   \n",
            "4                  0                      0                    0   \n",
            "\n",
            "   Destination_New Delhi  \n",
            "0                      1  \n",
            "1                      0  \n",
            "2                      0  \n",
            "3                      0  \n",
            "4                      1  \n",
            "\n",
            "[5 rows x 26 columns]\n"
          ]
        }
      ]
    },
    {
      "cell_type": "markdown",
      "source": [
        "- Melakukan encoding pada fitur kategorik"
      ],
      "metadata": {
        "id": "RY7OxWI7fujJ"
      }
    },
    {
      "cell_type": "markdown",
      "source": [
        "### Train-Test-Split"
      ],
      "metadata": {
        "id": "NFUxgT-IFMKs"
      }
    },
    {
      "cell_type": "code",
      "source": [
        "X = plane_encoded.drop([\"Price\"], axis=1)\n",
        "y = plane_encoded[\"Price\"]\n",
        "\n",
        "X_train, X_test, y_train, y_test = train_test_split(\n",
        "    X, y, test_size=0.1, random_state=123\n",
        ")"
      ],
      "metadata": {
        "id": "HD4IvpugFM9B"
      },
      "execution_count": 270,
      "outputs": []
    },
    {
      "cell_type": "markdown",
      "source": [
        "- Membagi data train dan test"
      ],
      "metadata": {
        "id": "q755poP7fy4z"
      }
    },
    {
      "cell_type": "code",
      "source": [
        "print(f'Total # of sample in whole dataset: {len(X)}')\n",
        "print(f'Total # of sample in train dataset: {len(X_train)}')\n",
        "print(f'Total # of sample in test dataset: {len(X_test)}')"
      ],
      "metadata": {
        "colab": {
          "base_uri": "https://localhost:8080/"
        },
        "id": "peu6Cc3KFfTK",
        "outputId": "fba5b661-c633-41c7-c091-a155e7ef5b52"
      },
      "execution_count": 271,
      "outputs": [
        {
          "output_type": "stream",
          "name": "stdout",
          "text": [
            "Total # of sample in whole dataset: 9487\n",
            "Total # of sample in train dataset: 8538\n",
            "Total # of sample in test dataset: 949\n"
          ]
        }
      ]
    },
    {
      "cell_type": "markdown",
      "source": [
        "- Dari total 9487 data, sebanyak 8538 data untuk train, dan 949 data untuk test"
      ],
      "metadata": {
        "id": "BPTyKcp0f4ig"
      }
    },
    {
      "cell_type": "markdown",
      "source": [
        "### Standarisasi"
      ],
      "metadata": {
        "id": "B-kvErMZFckb"
      }
    },
    {
      "cell_type": "code",
      "source": [
        "scaler = StandardScaler()\n",
        "scaler.fit(X_train[numerical_features])\n",
        "\n",
        "# Transform data latih dan uji\n",
        "X_train[numerical_features] = scaler.transform(X_train[numerical_features])\n",
        "X_test[numerical_features] = scaler.transform(X_test[numerical_features])\n",
        "print(X_train[numerical_features].head())"
      ],
      "metadata": {
        "colab": {
          "base_uri": "https://localhost:8080/"
        },
        "id": "g9nQPUi6FlG1",
        "outputId": "e98e3a19-a9c2-4d83-92d4-7252946a64a7"
      },
      "execution_count": 272,
      "outputs": [
        {
          "output_type": "stream",
          "name": "stdout",
          "text": [
            "      Total_Stops  Day_of_week  Is_weekend  Duration_total_min  \\\n",
            "1847     0.423253     1.529899    1.548397            2.039347   \n",
            "9823     0.423253     0.042563   -0.645829           -0.737006   \n",
            "8545     0.423253    -0.453215   -0.645829            0.138421   \n",
            "5588     0.423253    -1.444772   -0.645829            0.138421   \n",
            "483      0.423253     0.042563   -0.645829            0.013360   \n",
            "\n",
            "      Arrival_total_min  Dep_total_min  \n",
            "1847           0.869965       1.429184  \n",
            "9823          -0.483413      -1.151718  \n",
            "8545           0.386616      -1.122719  \n",
            "5588           0.386616      -1.122719  \n",
            "483            0.773295      -0.513742  \n"
          ]
        }
      ]
    },
    {
      "cell_type": "markdown",
      "source": [
        "- Untuk menyamakan skala fitur yanga ada dilakukan standarisasi"
      ],
      "metadata": {
        "id": "RaAFpUR3guwN"
      }
    },
    {
      "cell_type": "code",
      "source": [
        "print(X_train[numerical_features].describe().round(4))"
      ],
      "metadata": {
        "colab": {
          "base_uri": "https://localhost:8080/"
        },
        "id": "ZDJOEr2TFsj0",
        "outputId": "f63c193f-4172-419d-b489-ca05fbe1751d"
      },
      "execution_count": 273,
      "outputs": [
        {
          "output_type": "stream",
          "name": "stdout",
          "text": [
            "       Total_Stops  Day_of_week  Is_weekend  Duration_total_min  \\\n",
            "count    8538.0000    8538.0000   8538.0000           8538.0000   \n",
            "mean        0.0000      -0.0000     -0.0000              0.0000   \n",
            "std         1.0001       1.0001      1.0001              1.0001   \n",
            "min        -1.1722      -1.4448     -0.6458             -1.1497   \n",
            "25%        -1.1722      -0.9490     -0.6458             -0.9121   \n",
            "50%         0.4233       0.0426     -0.6458             -0.2117   \n",
            "75%         0.4233       1.0341      1.5484              0.6637   \n",
            "max         2.0187       1.5299      1.5484              2.4020   \n",
            "\n",
            "       Arrival_total_min  Dep_total_min  \n",
            "count          8538.0000      8538.0000  \n",
            "mean              0.0000        -0.0000  \n",
            "std               1.0001         1.0001  \n",
            "min              -1.9697        -2.1957  \n",
            "25%              -0.7372        -0.8617  \n",
            "50%               0.0604        -0.1948  \n",
            "75%               0.8095         0.9362  \n",
            "max               1.4862         1.9077  \n"
          ]
        }
      ]
    },
    {
      "cell_type": "markdown",
      "source": [
        "## Model Development"
      ],
      "metadata": {
        "id": "SzwjyO4NF8q8"
      }
    },
    {
      "cell_type": "markdown",
      "source": [
        "### K-Nearest Neighbor"
      ],
      "metadata": {
        "id": "l9VeMW3oGB67"
      }
    },
    {
      "cell_type": "code",
      "source": [
        "# Menyiapkan dataframe untuk analisis model\n",
        "models = pd.DataFrame(index=['train_mse', 'test_mse'],\n",
        "                      columns=['KNN', 'RandomForest', 'Boosting'])"
      ],
      "metadata": {
        "id": "K6QoyZ0VF9dY"
      },
      "execution_count": 274,
      "outputs": []
    },
    {
      "cell_type": "code",
      "source": [
        "# Inisialisasi dan latih model\n",
        "knn = KNeighborsRegressor(n_neighbors=10)\n",
        "knn.fit(X_train, y_train)\n",
        "\n",
        "# Hitung MSE untuk train dan test\n",
        "y_train_pred = knn.predict(X_train)\n",
        "y_test_pred = knn.predict(X_test)\n",
        "\n",
        "models.loc['train_mse', 'KNN'] = mean_squared_error(y_train, y_train_pred)\n",
        "models.loc['test_mse', 'KNN'] = mean_squared_error(y_test, y_test_pred)"
      ],
      "metadata": {
        "id": "i4LpZ57OGIwK"
      },
      "execution_count": 275,
      "outputs": []
    },
    {
      "cell_type": "markdown",
      "source": [
        "### Random Forest"
      ],
      "metadata": {
        "id": "RjTUbzSeHCo6"
      }
    },
    {
      "cell_type": "code",
      "source": [
        "RF = RandomForestRegressor(n_estimators=50, max_depth=16, random_state=55, n_jobs=-1)\n",
        "RF.fit(X_train, y_train)\n",
        "\n",
        "y_train_pred = RF.predict(X_train)\n",
        "y_test_pred = RF.predict(X_test)\n",
        "\n",
        "models.loc['train_mse', 'RandomForest'] = mean_squared_error(y_train, y_train_pred)\n",
        "models.loc['test_mse', 'RandomForest'] = mean_squared_error(y_test, y_test_pred)"
      ],
      "metadata": {
        "id": "mEktGxnLG-wr"
      },
      "execution_count": 276,
      "outputs": []
    },
    {
      "cell_type": "markdown",
      "source": [
        "### Boosting Algorithm"
      ],
      "metadata": {
        "id": "_0G2u-3hHT9-"
      }
    },
    {
      "cell_type": "code",
      "source": [
        "# Inisialisasi dan latih model boosting\n",
        "boosting = AdaBoostRegressor(learning_rate=0.05, random_state=55)\n",
        "boosting.fit(X_train, y_train)\n",
        "\n",
        "y_train_pred = boosting.predict(X_train)\n",
        "y_test_pred = boosting.predict(X_test)\n",
        "\n",
        "models.loc['train_mse', 'Boosting'] = mean_squared_error(y_train, y_train_pred)\n",
        "models.loc['test_mse', 'Boosting'] = mean_squared_error(y_test, y_test_pred)"
      ],
      "metadata": {
        "id": "Dvn9zbHNHXHf"
      },
      "execution_count": 277,
      "outputs": []
    },
    {
      "cell_type": "markdown",
      "source": [
        "## Evaluasi Model"
      ],
      "metadata": {
        "id": "1jHXVB6eHmo-"
      }
    },
    {
      "cell_type": "code",
      "source": [
        "# Scaling X_test menggunakan scaler yang sudah fit dari X_train\n",
        "X_test_scaled = X_test.copy()\n",
        "X_test_scaled[numerical_features] = scaler.transform(X_test[numerical_features])"
      ],
      "metadata": {
        "id": "lS9aGRl3HniO"
      },
      "execution_count": 278,
      "outputs": []
    },
    {
      "cell_type": "code",
      "source": [
        "mse = pd.DataFrame(columns=['train', 'test'], index=['KNN','RF','Boosting'])\n",
        "\n",
        "# Buat dictionary untuk setiap algoritma yang digunakan\n",
        "model_dict = {'KNN': knn, 'RF': RF, 'Boosting': boosting}\n",
        "\n",
        "# Hitung Mean Squared Error masing-masing algoritma pada data train dan test\n",
        "for name, model in model_dict.items():\n",
        "    mse.loc[name, 'train'] = mean_squared_error(y_true=y_train, y_pred=model.predict(X_train)) / 1e3\n",
        "    mse.loc[name, 'test'] = mean_squared_error(y_true=y_test, y_pred=model.predict(X_test)) / 1e3\n",
        "\n",
        "mse"
      ],
      "metadata": {
        "colab": {
          "base_uri": "https://localhost:8080/",
          "height": 143
        },
        "id": "tA-q4A5lH4c-",
        "outputId": "b03bafe7-baf0-41bf-a160-27863e2a9b67"
      },
      "execution_count": 279,
      "outputs": [
        {
          "output_type": "execute_result",
          "data": {
            "text/plain": [
              "                train         test\n",
              "KNN       4265.338616  4727.798823\n",
              "RF        2327.643793  4176.975962\n",
              "Boosting  6529.342032  6123.370864"
            ],
            "text/html": [
              "\n",
              "  <div id=\"df-1e600842-720e-4bfb-b228-2815918f37f0\" class=\"colab-df-container\">\n",
              "    <div>\n",
              "<style scoped>\n",
              "    .dataframe tbody tr th:only-of-type {\n",
              "        vertical-align: middle;\n",
              "    }\n",
              "\n",
              "    .dataframe tbody tr th {\n",
              "        vertical-align: top;\n",
              "    }\n",
              "\n",
              "    .dataframe thead th {\n",
              "        text-align: right;\n",
              "    }\n",
              "</style>\n",
              "<table border=\"1\" class=\"dataframe\">\n",
              "  <thead>\n",
              "    <tr style=\"text-align: right;\">\n",
              "      <th></th>\n",
              "      <th>train</th>\n",
              "      <th>test</th>\n",
              "    </tr>\n",
              "  </thead>\n",
              "  <tbody>\n",
              "    <tr>\n",
              "      <th>KNN</th>\n",
              "      <td>4265.338616</td>\n",
              "      <td>4727.798823</td>\n",
              "    </tr>\n",
              "    <tr>\n",
              "      <th>RF</th>\n",
              "      <td>2327.643793</td>\n",
              "      <td>4176.975962</td>\n",
              "    </tr>\n",
              "    <tr>\n",
              "      <th>Boosting</th>\n",
              "      <td>6529.342032</td>\n",
              "      <td>6123.370864</td>\n",
              "    </tr>\n",
              "  </tbody>\n",
              "</table>\n",
              "</div>\n",
              "    <div class=\"colab-df-buttons\">\n",
              "\n",
              "  <div class=\"colab-df-container\">\n",
              "    <button class=\"colab-df-convert\" onclick=\"convertToInteractive('df-1e600842-720e-4bfb-b228-2815918f37f0')\"\n",
              "            title=\"Convert this dataframe to an interactive table.\"\n",
              "            style=\"display:none;\">\n",
              "\n",
              "  <svg xmlns=\"http://www.w3.org/2000/svg\" height=\"24px\" viewBox=\"0 -960 960 960\">\n",
              "    <path d=\"M120-120v-720h720v720H120Zm60-500h600v-160H180v160Zm220 220h160v-160H400v160Zm0 220h160v-160H400v160ZM180-400h160v-160H180v160Zm440 0h160v-160H620v160ZM180-180h160v-160H180v160Zm440 0h160v-160H620v160Z\"/>\n",
              "  </svg>\n",
              "    </button>\n",
              "\n",
              "  <style>\n",
              "    .colab-df-container {\n",
              "      display:flex;\n",
              "      gap: 12px;\n",
              "    }\n",
              "\n",
              "    .colab-df-convert {\n",
              "      background-color: #E8F0FE;\n",
              "      border: none;\n",
              "      border-radius: 50%;\n",
              "      cursor: pointer;\n",
              "      display: none;\n",
              "      fill: #1967D2;\n",
              "      height: 32px;\n",
              "      padding: 0 0 0 0;\n",
              "      width: 32px;\n",
              "    }\n",
              "\n",
              "    .colab-df-convert:hover {\n",
              "      background-color: #E2EBFA;\n",
              "      box-shadow: 0px 1px 2px rgba(60, 64, 67, 0.3), 0px 1px 3px 1px rgba(60, 64, 67, 0.15);\n",
              "      fill: #174EA6;\n",
              "    }\n",
              "\n",
              "    .colab-df-buttons div {\n",
              "      margin-bottom: 4px;\n",
              "    }\n",
              "\n",
              "    [theme=dark] .colab-df-convert {\n",
              "      background-color: #3B4455;\n",
              "      fill: #D2E3FC;\n",
              "    }\n",
              "\n",
              "    [theme=dark] .colab-df-convert:hover {\n",
              "      background-color: #434B5C;\n",
              "      box-shadow: 0px 1px 3px 1px rgba(0, 0, 0, 0.15);\n",
              "      filter: drop-shadow(0px 1px 2px rgba(0, 0, 0, 0.3));\n",
              "      fill: #FFFFFF;\n",
              "    }\n",
              "  </style>\n",
              "\n",
              "    <script>\n",
              "      const buttonEl =\n",
              "        document.querySelector('#df-1e600842-720e-4bfb-b228-2815918f37f0 button.colab-df-convert');\n",
              "      buttonEl.style.display =\n",
              "        google.colab.kernel.accessAllowed ? 'block' : 'none';\n",
              "\n",
              "      async function convertToInteractive(key) {\n",
              "        const element = document.querySelector('#df-1e600842-720e-4bfb-b228-2815918f37f0');\n",
              "        const dataTable =\n",
              "          await google.colab.kernel.invokeFunction('convertToInteractive',\n",
              "                                                    [key], {});\n",
              "        if (!dataTable) return;\n",
              "\n",
              "        const docLinkHtml = 'Like what you see? Visit the ' +\n",
              "          '<a target=\"_blank\" href=https://colab.research.google.com/notebooks/data_table.ipynb>data table notebook</a>'\n",
              "          + ' to learn more about interactive tables.';\n",
              "        element.innerHTML = '';\n",
              "        dataTable['output_type'] = 'display_data';\n",
              "        await google.colab.output.renderOutput(dataTable, element);\n",
              "        const docLink = document.createElement('div');\n",
              "        docLink.innerHTML = docLinkHtml;\n",
              "        element.appendChild(docLink);\n",
              "      }\n",
              "    </script>\n",
              "  </div>\n",
              "\n",
              "\n",
              "    <div id=\"df-dd08b03d-6967-4ee2-b16a-4b777db73e85\">\n",
              "      <button class=\"colab-df-quickchart\" onclick=\"quickchart('df-dd08b03d-6967-4ee2-b16a-4b777db73e85')\"\n",
              "                title=\"Suggest charts\"\n",
              "                style=\"display:none;\">\n",
              "\n",
              "<svg xmlns=\"http://www.w3.org/2000/svg\" height=\"24px\"viewBox=\"0 0 24 24\"\n",
              "     width=\"24px\">\n",
              "    <g>\n",
              "        <path d=\"M19 3H5c-1.1 0-2 .9-2 2v14c0 1.1.9 2 2 2h14c1.1 0 2-.9 2-2V5c0-1.1-.9-2-2-2zM9 17H7v-7h2v7zm4 0h-2V7h2v10zm4 0h-2v-4h2v4z\"/>\n",
              "    </g>\n",
              "</svg>\n",
              "      </button>\n",
              "\n",
              "<style>\n",
              "  .colab-df-quickchart {\n",
              "      --bg-color: #E8F0FE;\n",
              "      --fill-color: #1967D2;\n",
              "      --hover-bg-color: #E2EBFA;\n",
              "      --hover-fill-color: #174EA6;\n",
              "      --disabled-fill-color: #AAA;\n",
              "      --disabled-bg-color: #DDD;\n",
              "  }\n",
              "\n",
              "  [theme=dark] .colab-df-quickchart {\n",
              "      --bg-color: #3B4455;\n",
              "      --fill-color: #D2E3FC;\n",
              "      --hover-bg-color: #434B5C;\n",
              "      --hover-fill-color: #FFFFFF;\n",
              "      --disabled-bg-color: #3B4455;\n",
              "      --disabled-fill-color: #666;\n",
              "  }\n",
              "\n",
              "  .colab-df-quickchart {\n",
              "    background-color: var(--bg-color);\n",
              "    border: none;\n",
              "    border-radius: 50%;\n",
              "    cursor: pointer;\n",
              "    display: none;\n",
              "    fill: var(--fill-color);\n",
              "    height: 32px;\n",
              "    padding: 0;\n",
              "    width: 32px;\n",
              "  }\n",
              "\n",
              "  .colab-df-quickchart:hover {\n",
              "    background-color: var(--hover-bg-color);\n",
              "    box-shadow: 0 1px 2px rgba(60, 64, 67, 0.3), 0 1px 3px 1px rgba(60, 64, 67, 0.15);\n",
              "    fill: var(--button-hover-fill-color);\n",
              "  }\n",
              "\n",
              "  .colab-df-quickchart-complete:disabled,\n",
              "  .colab-df-quickchart-complete:disabled:hover {\n",
              "    background-color: var(--disabled-bg-color);\n",
              "    fill: var(--disabled-fill-color);\n",
              "    box-shadow: none;\n",
              "  }\n",
              "\n",
              "  .colab-df-spinner {\n",
              "    border: 2px solid var(--fill-color);\n",
              "    border-color: transparent;\n",
              "    border-bottom-color: var(--fill-color);\n",
              "    animation:\n",
              "      spin 1s steps(1) infinite;\n",
              "  }\n",
              "\n",
              "  @keyframes spin {\n",
              "    0% {\n",
              "      border-color: transparent;\n",
              "      border-bottom-color: var(--fill-color);\n",
              "      border-left-color: var(--fill-color);\n",
              "    }\n",
              "    20% {\n",
              "      border-color: transparent;\n",
              "      border-left-color: var(--fill-color);\n",
              "      border-top-color: var(--fill-color);\n",
              "    }\n",
              "    30% {\n",
              "      border-color: transparent;\n",
              "      border-left-color: var(--fill-color);\n",
              "      border-top-color: var(--fill-color);\n",
              "      border-right-color: var(--fill-color);\n",
              "    }\n",
              "    40% {\n",
              "      border-color: transparent;\n",
              "      border-right-color: var(--fill-color);\n",
              "      border-top-color: var(--fill-color);\n",
              "    }\n",
              "    60% {\n",
              "      border-color: transparent;\n",
              "      border-right-color: var(--fill-color);\n",
              "    }\n",
              "    80% {\n",
              "      border-color: transparent;\n",
              "      border-right-color: var(--fill-color);\n",
              "      border-bottom-color: var(--fill-color);\n",
              "    }\n",
              "    90% {\n",
              "      border-color: transparent;\n",
              "      border-bottom-color: var(--fill-color);\n",
              "    }\n",
              "  }\n",
              "</style>\n",
              "\n",
              "      <script>\n",
              "        async function quickchart(key) {\n",
              "          const quickchartButtonEl =\n",
              "            document.querySelector('#' + key + ' button');\n",
              "          quickchartButtonEl.disabled = true;  // To prevent multiple clicks.\n",
              "          quickchartButtonEl.classList.add('colab-df-spinner');\n",
              "          try {\n",
              "            const charts = await google.colab.kernel.invokeFunction(\n",
              "                'suggestCharts', [key], {});\n",
              "          } catch (error) {\n",
              "            console.error('Error during call to suggestCharts:', error);\n",
              "          }\n",
              "          quickchartButtonEl.classList.remove('colab-df-spinner');\n",
              "          quickchartButtonEl.classList.add('colab-df-quickchart-complete');\n",
              "        }\n",
              "        (() => {\n",
              "          let quickchartButtonEl =\n",
              "            document.querySelector('#df-dd08b03d-6967-4ee2-b16a-4b777db73e85 button');\n",
              "          quickchartButtonEl.style.display =\n",
              "            google.colab.kernel.accessAllowed ? 'block' : 'none';\n",
              "        })();\n",
              "      </script>\n",
              "    </div>\n",
              "\n",
              "  <div id=\"id_a23df386-326c-4b30-a45b-fb18098b6ef0\">\n",
              "    <style>\n",
              "      .colab-df-generate {\n",
              "        background-color: #E8F0FE;\n",
              "        border: none;\n",
              "        border-radius: 50%;\n",
              "        cursor: pointer;\n",
              "        display: none;\n",
              "        fill: #1967D2;\n",
              "        height: 32px;\n",
              "        padding: 0 0 0 0;\n",
              "        width: 32px;\n",
              "      }\n",
              "\n",
              "      .colab-df-generate:hover {\n",
              "        background-color: #E2EBFA;\n",
              "        box-shadow: 0px 1px 2px rgba(60, 64, 67, 0.3), 0px 1px 3px 1px rgba(60, 64, 67, 0.15);\n",
              "        fill: #174EA6;\n",
              "      }\n",
              "\n",
              "      [theme=dark] .colab-df-generate {\n",
              "        background-color: #3B4455;\n",
              "        fill: #D2E3FC;\n",
              "      }\n",
              "\n",
              "      [theme=dark] .colab-df-generate:hover {\n",
              "        background-color: #434B5C;\n",
              "        box-shadow: 0px 1px 3px 1px rgba(0, 0, 0, 0.15);\n",
              "        filter: drop-shadow(0px 1px 2px rgba(0, 0, 0, 0.3));\n",
              "        fill: #FFFFFF;\n",
              "      }\n",
              "    </style>\n",
              "    <button class=\"colab-df-generate\" onclick=\"generateWithVariable('mse')\"\n",
              "            title=\"Generate code using this dataframe.\"\n",
              "            style=\"display:none;\">\n",
              "\n",
              "  <svg xmlns=\"http://www.w3.org/2000/svg\" height=\"24px\"viewBox=\"0 0 24 24\"\n",
              "       width=\"24px\">\n",
              "    <path d=\"M7,19H8.4L18.45,9,17,7.55,7,17.6ZM5,21V16.75L18.45,3.32a2,2,0,0,1,2.83,0l1.4,1.43a1.91,1.91,0,0,1,.58,1.4,1.91,1.91,0,0,1-.58,1.4L9.25,21ZM18.45,9,17,7.55Zm-12,3A5.31,5.31,0,0,0,4.9,8.1,5.31,5.31,0,0,0,1,6.5,5.31,5.31,0,0,0,4.9,4.9,5.31,5.31,0,0,0,6.5,1,5.31,5.31,0,0,0,8.1,4.9,5.31,5.31,0,0,0,12,6.5,5.46,5.46,0,0,0,6.5,12Z\"/>\n",
              "  </svg>\n",
              "    </button>\n",
              "    <script>\n",
              "      (() => {\n",
              "      const buttonEl =\n",
              "        document.querySelector('#id_a23df386-326c-4b30-a45b-fb18098b6ef0 button.colab-df-generate');\n",
              "      buttonEl.style.display =\n",
              "        google.colab.kernel.accessAllowed ? 'block' : 'none';\n",
              "\n",
              "      buttonEl.onclick = () => {\n",
              "        google.colab.notebook.generateWithVariable('mse');\n",
              "      }\n",
              "      })();\n",
              "    </script>\n",
              "  </div>\n",
              "\n",
              "    </div>\n",
              "  </div>\n"
            ],
            "application/vnd.google.colaboratory.intrinsic+json": {
              "type": "dataframe",
              "variable_name": "mse",
              "summary": "{\n  \"name\": \"mse\",\n  \"rows\": 3,\n  \"fields\": [\n    {\n      \"column\": \"train\",\n      \"properties\": {\n        \"dtype\": \"date\",\n        \"min\": 2327.6437933990937,\n        \"max\": 6529.342032444238,\n        \"num_unique_values\": 3,\n        \"samples\": [\n          4265.338616471072,\n          2327.6437933990937,\n          6529.342032444238\n        ],\n        \"semantic_type\": \"\",\n        \"description\": \"\"\n      }\n    },\n    {\n      \"column\": \"test\",\n      \"properties\": {\n        \"dtype\": \"date\",\n        \"min\": 4176.975961574078,\n        \"max\": 6123.370864270964,\n        \"num_unique_values\": 3,\n        \"samples\": [\n          4727.798822918863,\n          4176.975961574078,\n          6123.370864270964\n        ],\n        \"semantic_type\": \"\",\n        \"description\": \"\"\n      }\n    }\n  ]\n}"
            }
          },
          "metadata": {},
          "execution_count": 279
        }
      ]
    },
    {
      "cell_type": "code",
      "source": [
        "fig, ax = plt.subplots()\n",
        "mse.sort_values(by='test', ascending=False).plot(kind='barh', ax=ax, zorder=3)\n",
        "ax.grid(zorder=0)\n",
        "fig.savefig(\"plot_evaluasimetrik1.png\")"
      ],
      "metadata": {
        "colab": {
          "base_uri": "https://localhost:8080/",
          "height": 430
        },
        "id": "4AwItMm-H9IK",
        "outputId": "c10767b8-453e-4651-b4bb-789a31b01536"
      },
      "execution_count": 280,
      "outputs": [
        {
          "output_type": "display_data",
          "data": {
            "text/plain": [
              "<Figure size 640x480 with 1 Axes>"
            ],
            "image/png": "[encoded data removed]"
          },
          "metadata": {}
        }
      ]
    },
    {
      "cell_type": "markdown",
      "source": [
        "- Dari evaluasi yang telah dilakukan nilai mse yang terbaik yaitu pada model Random Forest dan yang terburuk pada Boosting"
      ],
      "metadata": {
        "id": "ungDmTpIhDDz"
      }
    },
    {
      "cell_type": "code",
      "source": [
        "prediksi = X_test.iloc[:1].copy()\n",
        "\n",
        "pred_dict = {'y_true': y_test.iloc[:1].values[0]}\n",
        "for name, model in model_dict.items():\n",
        "    pred_dict[f'prediksi_{name}'] = model.predict(prediksi)[0].round(1)\n",
        "\n",
        "pd.DataFrame([pred_dict])"
      ],
      "metadata": {
        "colab": {
          "base_uri": "https://localhost:8080/",
          "height": 80
        },
        "id": "j15-RYSJH_G-",
        "outputId": "0bb84a60-f916-4d9d-f122-d6f40464fbdf"
      },
      "execution_count": 281,
      "outputs": [
        {
          "output_type": "execute_result",
          "data": {
            "text/plain": [
              "   y_true  prediksi_KNN  prediksi_RF  prediksi_Boosting\n",
              "0    7438       12504.6      12972.1            12816.9"
            ],
            "text/html": [
              "\n",
              "  <div id=\"df-5020ffa2-2277-42f7-ad1d-27d459fd3f8a\" class=\"colab-df-container\">\n",
              "    <div>\n",
              "<style scoped>\n",
              "    .dataframe tbody tr th:only-of-type {\n",
              "        vertical-align: middle;\n",
              "    }\n",
              "\n",
              "    .dataframe tbody tr th {\n",
              "        vertical-align: top;\n",
              "    }\n",
              "\n",
              "    .dataframe thead th {\n",
              "        text-align: right;\n",
              "    }\n",
              "</style>\n",
              "<table border=\"1\" class=\"dataframe\">\n",
              "  <thead>\n",
              "    <tr style=\"text-align: right;\">\n",
              "      <th></th>\n",
              "      <th>y_true</th>\n",
              "      <th>prediksi_KNN</th>\n",
              "      <th>prediksi_RF</th>\n",
              "      <th>prediksi_Boosting</th>\n",
              "    </tr>\n",
              "  </thead>\n",
              "  <tbody>\n",
              "    <tr>\n",
              "      <th>0</th>\n",
              "      <td>7438</td>\n",
              "      <td>12504.6</td>\n",
              "      <td>12972.1</td>\n",
              "      <td>12816.9</td>\n",
              "    </tr>\n",
              "  </tbody>\n",
              "</table>\n",
              "</div>\n",
              "    <div class=\"colab-df-buttons\">\n",
              "\n",
              "  <div class=\"colab-df-container\">\n",
              "    <button class=\"colab-df-convert\" onclick=\"convertToInteractive('df-5020ffa2-2277-42f7-ad1d-27d459fd3f8a')\"\n",
              "            title=\"Convert this dataframe to an interactive table.\"\n",
              "            style=\"display:none;\">\n",
              "\n",
              "  <svg xmlns=\"http://www.w3.org/2000/svg\" height=\"24px\" viewBox=\"0 -960 960 960\">\n",
              "    <path d=\"M120-120v-720h720v720H120Zm60-500h600v-160H180v160Zm220 220h160v-160H400v160Zm0 220h160v-160H400v160ZM180-400h160v-160H180v160Zm440 0h160v-160H620v160ZM180-180h160v-160H180v160Zm440 0h160v-160H620v160Z\"/>\n",
              "  </svg>\n",
              "    </button>\n",
              "\n",
              "  <style>\n",
              "    .colab-df-container {\n",
              "      display:flex;\n",
              "      gap: 12px;\n",
              "    }\n",
              "\n",
              "    .colab-df-convert {\n",
              "      background-color: #E8F0FE;\n",
              "      border: none;\n",
              "      border-radius: 50%;\n",
              "      cursor: pointer;\n",
              "      display: none;\n",
              "      fill: #1967D2;\n",
              "      height: 32px;\n",
              "      padding: 0 0 0 0;\n",
              "      width: 32px;\n",
              "    }\n",
              "\n",
              "    .colab-df-convert:hover {\n",
              "      background-color: #E2EBFA;\n",
              "      box-shadow: 0px 1px 2px rgba(60, 64, 67, 0.3), 0px 1px 3px 1px rgba(60, 64, 67, 0.15);\n",
              "      fill: #174EA6;\n",
              "    }\n",
              "\n",
              "    .colab-df-buttons div {\n",
              "      margin-bottom: 4px;\n",
              "    }\n",
              "\n",
              "    [theme=dark] .colab-df-convert {\n",
              "      background-color: #3B4455;\n",
              "      fill: #D2E3FC;\n",
              "    }\n",
              "\n",
              "    [theme=dark] .colab-df-convert:hover {\n",
              "      background-color: #434B5C;\n",
              "      box-shadow: 0px 1px 3px 1px rgba(0, 0, 0, 0.15);\n",
              "      filter: drop-shadow(0px 1px 2px rgba(0, 0, 0, 0.3));\n",
              "      fill: #FFFFFF;\n",
              "    }\n",
              "  </style>\n",
              "\n",
              "    <script>\n",
              "      const buttonEl =\n",
              "        document.querySelector('#df-5020ffa2-2277-42f7-ad1d-27d459fd3f8a button.colab-df-convert');\n",
              "      buttonEl.style.display =\n",
              "        google.colab.kernel.accessAllowed ? 'block' : 'none';\n",
              "\n",
              "      async function convertToInteractive(key) {\n",
              "        const element = document.querySelector('#df-5020ffa2-2277-42f7-ad1d-27d459fd3f8a');\n",
              "        const dataTable =\n",
              "          await google.colab.kernel.invokeFunction('convertToInteractive',\n",
              "                                                    [key], {});\n",
              "        if (!dataTable) return;\n",
              "\n",
              "        const docLinkHtml = 'Like what you see? Visit the ' +\n",
              "          '<a target=\"_blank\" href=https://colab.research.google.com/notebooks/data_table.ipynb>data table notebook</a>'\n",
              "          + ' to learn more about interactive tables.';\n",
              "        element.innerHTML = '';\n",
              "        dataTable['output_type'] = 'display_data';\n",
              "        await google.colab.output.renderOutput(dataTable, element);\n",
              "        const docLink = document.createElement('div');\n",
              "        docLink.innerHTML = docLinkHtml;\n",
              "        element.appendChild(docLink);\n",
              "      }\n",
              "    </script>\n",
              "  </div>\n",
              "\n",
              "\n",
              "    </div>\n",
              "  </div>\n"
            ],
            "application/vnd.google.colaboratory.intrinsic+json": {
              "type": "dataframe",
              "summary": "{\n  \"name\": \"pd\",\n  \"rows\": 1,\n  \"fields\": [\n    {\n      \"column\": \"y_true\",\n      \"properties\": {\n        \"dtype\": \"number\",\n        \"std\": null,\n        \"min\": 7438,\n        \"max\": 7438,\n        \"num_unique_values\": 1,\n        \"samples\": [\n          7438\n        ],\n        \"semantic_type\": \"\",\n        \"description\": \"\"\n      }\n    },\n    {\n      \"column\": \"prediksi_KNN\",\n      \"properties\": {\n        \"dtype\": \"number\",\n        \"std\": null,\n        \"min\": 12504.6,\n        \"max\": 12504.6,\n        \"num_unique_values\": 1,\n        \"samples\": [\n          12504.6\n        ],\n        \"semantic_type\": \"\",\n        \"description\": \"\"\n      }\n    },\n    {\n      \"column\": \"prediksi_RF\",\n      \"properties\": {\n        \"dtype\": \"number\",\n        \"std\": null,\n        \"min\": 12972.1,\n        \"max\": 12972.1,\n        \"num_unique_values\": 1,\n        \"samples\": [\n          12972.1\n        ],\n        \"semantic_type\": \"\",\n        \"description\": \"\"\n      }\n    },\n    {\n      \"column\": \"prediksi_Boosting\",\n      \"properties\": {\n        \"dtype\": \"number\",\n        \"std\": null,\n        \"min\": 12816.9,\n        \"max\": 12816.9,\n        \"num_unique_values\": 1,\n        \"samples\": [\n          12816.9\n        ],\n        \"semantic_type\": \"\",\n        \"description\": \"\"\n      }\n    }\n  ]\n}"
            }
          },
          "metadata": {},
          "execution_count": 281
        }
      ]
    },
    {
      "cell_type": "markdown",
      "source": [
        "- Prediksi yang terdekat dengan nilai aktual yaitu model KNN namun nilainya masih terlalu jauh sehingga diperlukan tuning model"
      ],
      "metadata": {
        "id": "REHUB8d6hnyT"
      }
    },
    {
      "cell_type": "markdown",
      "source": [
        "## Tuning"
      ],
      "metadata": {
        "id": "F6jKOdlOIH1O"
      }
    },
    {
      "cell_type": "code",
      "source": [
        "knn_params = {\n",
        "    'n_neighbors': [3, 5, 10, 15],\n",
        "    'weights': ['uniform', 'distance'],\n",
        "    'p': [1, 2]\n",
        "}\n",
        "\n",
        "grid_knn = GridSearchCV(KNeighborsRegressor(), knn_params, cv=5, scoring='neg_mean_squared_error', n_jobs=-1)\n",
        "grid_knn.fit(X_train, y_train)\n",
        "\n",
        "best_knn = grid_knn.best_estimator_\n",
        "print(\"Best KNN Params:\", grid_knn.best_params_)"
      ],
      "metadata": {
        "colab": {
          "base_uri": "https://localhost:8080/"
        },
        "id": "qi0Jg_21IJDj",
        "outputId": "8484fd22-354a-4acb-80f1-e34f4e123070"
      },
      "execution_count": 282,
      "outputs": [
        {
          "output_type": "stream",
          "name": "stdout",
          "text": [
            "Best KNN Params: {'n_neighbors': 10, 'p': 1, 'weights': 'uniform'}\n"
          ]
        }
      ]
    },
    {
      "cell_type": "markdown",
      "source": [
        "- Best parameter KNN yaitu ketika n_neighbors sebesar 10, p sebesar 1, dan weights nya uniform"
      ],
      "metadata": {
        "id": "Miy54BZmh8Sw"
      }
    },
    {
      "cell_type": "code",
      "source": [
        "from sklearn.model_selection import RandomizedSearchCV\n",
        "from scipy.stats import randint\n",
        "from sklearn.ensemble import RandomForestRegressor\n",
        "\n",
        "rf_params = {\n",
        "    'n_estimators': [50, 100, 150],\n",
        "    'max_depth': [10, 16, 20],\n",
        "    'min_samples_split': [2, 5],\n",
        "    'min_samples_leaf': [1, 2],\n",
        "    'max_features': ['sqrt', 'log2', None]\n",
        "}\n",
        "\n",
        "random_search = RandomizedSearchCV(\n",
        "    RandomForestRegressor(random_state=55),\n",
        "    rf_params,\n",
        "    n_iter=20,\n",
        "    cv=3,\n",
        "    scoring='neg_mean_squared_error',\n",
        "    n_jobs=-1,\n",
        "    random_state=42\n",
        ")\n",
        "\n",
        "random_search.fit(X_train, y_train)\n",
        "best_rf = random_search.best_estimator_\n",
        "print(\"Best Params:\", random_search.best_params_)"
      ],
      "metadata": {
        "colab": {
          "base_uri": "https://localhost:8080/"
        },
        "id": "MohSc8XWlFXg",
        "outputId": "8e304fd7-8fd3-4249-c97a-29d5cdf49e12"
      },
      "execution_count": 283,
      "outputs": [
        {
          "output_type": "stream",
          "name": "stdout",
          "text": [
            "Best Params: {'n_estimators': 50, 'min_samples_split': 2, 'min_samples_leaf': 2, 'max_features': None, 'max_depth': 10}\n"
          ]
        }
      ]
    },
    {
      "cell_type": "markdown",
      "source": [
        "- Best parameter pada model random forest terjadi ketika n_estimators sebesar 50, min_samples_split nya 2, min_samples_leaf nya 2, max_features nya none, dan max_depth sebesar 10."
      ],
      "metadata": {
        "id": "fpaYeoV3iYhv"
      }
    },
    {
      "cell_type": "code",
      "source": [
        "boosting_params = {\n",
        "    'n_estimators': [50, 100, 200],\n",
        "    'learning_rate': [0.01, 0.05, 0.1, 0.2],\n",
        "    'loss': ['linear', 'square', 'exponential']\n",
        "}\n",
        "\n",
        "grid_boost = GridSearchCV(AdaBoostRegressor(random_state=55), boosting_params, cv=5, scoring='neg_mean_squared_error', n_jobs=-1)\n",
        "grid_boost.fit(X_train, y_train)\n",
        "\n",
        "best_boost = grid_boost.best_estimator_\n",
        "print(\"Best Boosting Params:\", grid_boost.best_params_)"
      ],
      "metadata": {
        "colab": {
          "base_uri": "https://localhost:8080/"
        },
        "id": "vGzid2dtKB-u",
        "outputId": "f506817b-1daa-43d0-9d4e-d4947022da78"
      },
      "execution_count": 284,
      "outputs": [
        {
          "output_type": "stream",
          "name": "stdout",
          "text": [
            "Best Boosting Params: {'learning_rate': 0.01, 'loss': 'linear', 'n_estimators': 200}\n"
          ]
        }
      ]
    },
    {
      "cell_type": "markdown",
      "source": [
        "- Best parameter pada Boosting yaitu ketika learning_rate nya 0.01, loss nya linear, dan n_estimators nya 200"
      ],
      "metadata": {
        "id": "Z5o62PsHjhZE"
      }
    },
    {
      "cell_type": "code",
      "source": [
        "model_dict = {\n",
        "    'KNN': best_knn,\n",
        "    'RF': best_rf,\n",
        "    'Boosting': best_boost\n",
        "}"
      ],
      "metadata": {
        "id": "DW7cZE8MKIAu"
      },
      "execution_count": 285,
      "outputs": []
    },
    {
      "cell_type": "markdown",
      "source": [
        "- Membuat dictionary model"
      ],
      "metadata": {
        "id": "rZMR9j8_l-v9"
      }
    },
    {
      "cell_type": "markdown",
      "source": [
        "## Evaluasi Setelah Tuning"
      ],
      "metadata": {
        "id": "50cd0j1oOobP"
      }
    },
    {
      "cell_type": "code",
      "source": [
        "from sklearn.metrics import mean_squared_error\n",
        "eval_mse = pd.DataFrame(columns=['train_MSE', 'test_MSE'])\n",
        "\n",
        "for name, model in model_dict.items():\n",
        "    y_train_pred = model.predict(X_train)\n",
        "    y_test_pred = model.predict(X_test)\n",
        "\n",
        "    eval_mse.loc[name, 'train_MSE'] = mean_squared_error(y_train, y_train_pred)\n",
        "    eval_mse.loc[name, 'test_MSE'] = mean_squared_error(y_test, y_test_pred)\n",
        "print(eval_mse)"
      ],
      "metadata": {
        "colab": {
          "base_uri": "https://localhost:8080/"
        },
        "id": "Kln1tN-9Q0FO",
        "outputId": "12208f3a-1aee-4cb3-90bc-78594bbcecb0"
      },
      "execution_count": 286,
      "outputs": [
        {
          "output_type": "stream",
          "name": "stdout",
          "text": [
            "               train_MSE        test_MSE\n",
            "KNN       4126519.224565  4573659.111391\n",
            "RF        3397884.162461  3682727.457989\n",
            "Boosting  6422229.830446  5973400.421522\n"
          ]
        }
      ]
    },
    {
      "cell_type": "code",
      "source": [
        "eval_mse_sorted = eval_mse.sort_values('test_MSE', ascending=False)\n",
        "\n",
        "fig, ax = plt.subplots(figsize=(8, 5))\n",
        "eval_mse_sorted[['train_MSE', 'test_MSE']].plot(kind='barh', ax=ax, zorder=3)\n",
        "\n",
        "ax.set_title(\"MSE Model Setelah Tuning\")\n",
        "ax.set_xlabel(\"Mean Squared Error\")\n",
        "ax.set_ylabel(\"Model\")\n",
        "ax.grid(zorder=0)\n",
        "plt.tight_layout()\n",
        "plt.show()"
      ],
      "metadata": {
        "colab": {
          "base_uri": "https://localhost:8080/",
          "height": 507
        },
        "id": "t_hLzf95SlF7",
        "outputId": "6a53d375-a37a-48ec-f6c2-c422a4b75724"
      },
      "execution_count": 287,
      "outputs": [
        {
          "output_type": "display_data",
          "data": {
            "text/plain": [
              "<Figure size 800x500 with 1 Axes>"
            ],
            "image/png": "[encoded data removed]"
          },
          "metadata": {}
        }
      ]
    },
    {
      "cell_type": "markdown",
      "source": [
        "- Dari evaluasi ketiga model setelah tuning Random Forest adalah model terbaik karena nilai MSE paling rendah diantara model yang lain"
      ],
      "metadata": {
        "id": "l24cu9egmPIk"
      }
    },
    {
      "cell_type": "code",
      "source": [
        "prediksi = X_test_scaled.iloc[:1].copy()\n",
        "pred_dict = {'y_true': y_test.iloc[:1].values[0]}\n",
        "\n",
        "for name, model in model_dict.items():\n",
        "    pred_dict[f'prediksi_{name}'] = model.predict(prediksi)[0].round(1)\n",
        "\n",
        "pd.DataFrame([pred_dict])"
      ],
      "metadata": {
        "id": "ChpTfGsAS3Hl",
        "outputId": "f29bd7f5-7944-48a0-d6fc-f5e26f9a87a4",
        "colab": {
          "base_uri": "https://localhost:8080/",
          "height": 80
        }
      },
      "execution_count": 288,
      "outputs": [
        {
          "output_type": "execute_result",
          "data": {
            "text/plain": [
              "   y_true  prediksi_KNN  prediksi_RF  prediksi_Boosting\n",
              "0    7438       14528.6       4328.6             4981.5"
            ],
            "text/html": [
              "\n",
              "  <div id=\"df-38a1b99b-3b60-44be-915e-a5a3e92d11da\" class=\"colab-df-container\">\n",
              "    <div>\n",
              "<style scoped>\n",
              "    .dataframe tbody tr th:only-of-type {\n",
              "        vertical-align: middle;\n",
              "    }\n",
              "\n",
              "    .dataframe tbody tr th {\n",
              "        vertical-align: top;\n",
              "    }\n",
              "\n",
              "    .dataframe thead th {\n",
              "        text-align: right;\n",
              "    }\n",
              "</style>\n",
              "<table border=\"1\" class=\"dataframe\">\n",
              "  <thead>\n",
              "    <tr style=\"text-align: right;\">\n",
              "      <th></th>\n",
              "      <th>y_true</th>\n",
              "      <th>prediksi_KNN</th>\n",
              "      <th>prediksi_RF</th>\n",
              "      <th>prediksi_Boosting</th>\n",
              "    </tr>\n",
              "  </thead>\n",
              "  <tbody>\n",
              "    <tr>\n",
              "      <th>0</th>\n",
              "      <td>7438</td>\n",
              "      <td>14528.6</td>\n",
              "      <td>4328.6</td>\n",
              "      <td>4981.5</td>\n",
              "    </tr>\n",
              "  </tbody>\n",
              "</table>\n",
              "</div>\n",
              "    <div class=\"colab-df-buttons\">\n",
              "\n",
              "  <div class=\"colab-df-container\">\n",
              "    <button class=\"colab-df-convert\" onclick=\"convertToInteractive('df-38a1b99b-3b60-44be-915e-a5a3e92d11da')\"\n",
              "            title=\"Convert this dataframe to an interactive table.\"\n",
              "            style=\"display:none;\">\n",
              "\n",
              "  <svg xmlns=\"http://www.w3.org/2000/svg\" height=\"24px\" viewBox=\"0 -960 960 960\">\n",
              "    <path d=\"M120-120v-720h720v720H120Zm60-500h600v-160H180v160Zm220 220h160v-160H400v160Zm0 220h160v-160H400v160ZM180-400h160v-160H180v160Zm440 0h160v-160H620v160ZM180-180h160v-160H180v160Zm440 0h160v-160H620v160Z\"/>\n",
              "  </svg>\n",
              "    </button>\n",
              "\n",
              "  <style>\n",
              "    .colab-df-container {\n",
              "      display:flex;\n",
              "      gap: 12px;\n",
              "    }\n",
              "\n",
              "    .colab-df-convert {\n",
              "      background-color: #E8F0FE;\n",
              "      border: none;\n",
              "      border-radius: 50%;\n",
              "      cursor: pointer;\n",
              "      display: none;\n",
              "      fill: #1967D2;\n",
              "      height: 32px;\n",
              "      padding: 0 0 0 0;\n",
              "      width: 32px;\n",
              "    }\n",
              "\n",
              "    .colab-df-convert:hover {\n",
              "      background-color: #E2EBFA;\n",
              "      box-shadow: 0px 1px 2px rgba(60, 64, 67, 0.3), 0px 1px 3px 1px rgba(60, 64, 67, 0.15);\n",
              "      fill: #174EA6;\n",
              "    }\n",
              "\n",
              "    .colab-df-buttons div {\n",
              "      margin-bottom: 4px;\n",
              "    }\n",
              "\n",
              "    [theme=dark] .colab-df-convert {\n",
              "      background-color: #3B4455;\n",
              "      fill: #D2E3FC;\n",
              "    }\n",
              "\n",
              "    [theme=dark] .colab-df-convert:hover {\n",
              "      background-color: #434B5C;\n",
              "      box-shadow: 0px 1px 3px 1px rgba(0, 0, 0, 0.15);\n",
              "      filter: drop-shadow(0px 1px 2px rgba(0, 0, 0, 0.3));\n",
              "      fill: #FFFFFF;\n",
              "    }\n",
              "  </style>\n",
              "\n",
              "    <script>\n",
              "      const buttonEl =\n",
              "        document.querySelector('#df-38a1b99b-3b60-44be-915e-a5a3e92d11da button.colab-df-convert');\n",
              "      buttonEl.style.display =\n",
              "        google.colab.kernel.accessAllowed ? 'block' : 'none';\n",
              "\n",
              "      async function convertToInteractive(key) {\n",
              "        const element = document.querySelector('#df-38a1b99b-3b60-44be-915e-a5a3e92d11da');\n",
              "        const dataTable =\n",
              "          await google.colab.kernel.invokeFunction('convertToInteractive',\n",
              "                                                    [key], {});\n",
              "        if (!dataTable) return;\n",
              "\n",
              "        const docLinkHtml = 'Like what you see? Visit the ' +\n",
              "          '<a target=\"_blank\" href=https://colab.research.google.com/notebooks/data_table.ipynb>data table notebook</a>'\n",
              "          + ' to learn more about interactive tables.';\n",
              "        element.innerHTML = '';\n",
              "        dataTable['output_type'] = 'display_data';\n",
              "        await google.colab.output.renderOutput(dataTable, element);\n",
              "        const docLink = document.createElement('div');\n",
              "        docLink.innerHTML = docLinkHtml;\n",
              "        element.appendChild(docLink);\n",
              "      }\n",
              "    </script>\n",
              "  </div>\n",
              "\n",
              "\n",
              "    </div>\n",
              "  </div>\n"
            ],
            "application/vnd.google.colaboratory.intrinsic+json": {
              "type": "dataframe",
              "summary": "{\n  \"name\": \"pd\",\n  \"rows\": 1,\n  \"fields\": [\n    {\n      \"column\": \"y_true\",\n      \"properties\": {\n        \"dtype\": \"number\",\n        \"std\": null,\n        \"min\": 7438,\n        \"max\": 7438,\n        \"num_unique_values\": 1,\n        \"samples\": [\n          7438\n        ],\n        \"semantic_type\": \"\",\n        \"description\": \"\"\n      }\n    },\n    {\n      \"column\": \"prediksi_KNN\",\n      \"properties\": {\n        \"dtype\": \"number\",\n        \"std\": null,\n        \"min\": 14528.6,\n        \"max\": 14528.6,\n        \"num_unique_values\": 1,\n        \"samples\": [\n          14528.6\n        ],\n        \"semantic_type\": \"\",\n        \"description\": \"\"\n      }\n    },\n    {\n      \"column\": \"prediksi_RF\",\n      \"properties\": {\n        \"dtype\": \"number\",\n        \"std\": null,\n        \"min\": 4328.6,\n        \"max\": 4328.6,\n        \"num_unique_values\": 1,\n        \"samples\": [\n          4328.6\n        ],\n        \"semantic_type\": \"\",\n        \"description\": \"\"\n      }\n    },\n    {\n      \"column\": \"prediksi_Boosting\",\n      \"properties\": {\n        \"dtype\": \"number\",\n        \"std\": null,\n        \"min\": 4981.5,\n        \"max\": 4981.5,\n        \"num_unique_values\": 1,\n        \"samples\": [\n          4981.5\n        ],\n        \"semantic_type\": \"\",\n        \"description\": \"\"\n      }\n    }\n  ]\n}"
            }
          },
          "metadata": {},
          "execution_count": 288
        }
      ]
    },
    {
      "cell_type": "markdown",
      "source": [
        "- Nilai prediksi Boosting Algorithm lebih mendekati nilai aktual dibandingkan dengan KNN dan Random Forest"
      ],
      "metadata": {
        "id": "T2YVMgYPmfX0"
      }
    },
    {
      "cell_type": "markdown",
      "source": [
        "##Kesimpulan:##\n",
        "Meskipun pada prediksi yang terbaik adalah Boosting Algorithm namun Random Forest adalah model yang terbaik karena nilai MSE terkecil. Sebab lebih baik mengutamakan kestabilan error individual dari pada perbandingan nilai prediksi dan nilai aktual"
      ],
      "metadata": {
        "id": "QyN-zH8JbLOF"
      }
    }
  ]
}